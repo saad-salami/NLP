{
 "cells": [
  {
   "cell_type": "markdown",
   "id": "d7542153",
   "metadata": {},
   "source": [
    "## Transformer\n",
    "\n",
    "Transformers only reads in the following formats:\n",
    "\n",
    "1. txt\n",
    "2. csv\n",
    "3. tsv\n",
    "4. jsonl\n",
    "5. json\n",
    "6. xml\n",
    "\n",
    "[Source](https://huggingface.co/docs/datasets/dataset_script.html)\n",
    "\n",
    "If you want to read in pdf files, you would have to convert it to any of the format above.\n",
    "\n",
    "for our notebook we would be converting them to pdf."
   ]
  },
  {
   "cell_type": "code",
   "execution_count": 7,
   "id": "788ceb0e",
   "metadata": {},
   "outputs": [],
   "source": [
    "from io import StringIO\n",
    "\n",
    "from pdfminer.converter import TextConverter\n",
    "from pdfminer.layout import LAParams\n",
    "from pdfminer.pdfdocument import PDFDocument\n",
    "from pdfminer.pdfinterp import PDFResourceManager, PDFPageInterpreter\n",
    "from pdfminer.pdfpage import PDFPage\n",
    "from pdfminer.pdfparser import PDFParser"
   ]
  },
  {
   "cell_type": "code",
   "execution_count": 8,
   "id": "cf69f132",
   "metadata": {},
   "outputs": [
    {
     "name": "stdout",
     "output_type": "stream",
     "text": [
      "New York (CNN)When Liana Barrientos was 23 years old, she got married in Westchester\n",
      "County, New York.\n",
      "A year later, she got married again in Westchester County, but to a different man and without\n",
      "divorcing her first husband.\n",
      "Only 18 days after that marriage, she got hitched yet again. Then, Barrientos declared \"I do\" five\n",
      "more times, sometimes only within two weeks of each other.\n",
      "In 2010, she married once more, this time in the Bronx. In an application for a marriage license,\n",
      "she stated it was her \"first and only\" marriage.\n",
      "Barrientos, now 39, is facing two criminal counts of \"offering a false instrument for filing in the\n",
      "first degree,\" referring to her false statements on the\n",
      "2010 marriage license application, according to court documents.\n",
      "Prosecutors said the marriages were part of an immigration scam.\n",
      "On Friday, she pleaded not guilty at State Supreme Court in the Bronx, according to her\n",
      "attorney, Christopher Wright, who declined to comment further.\n",
      "After leaving court, Barrientos was arrested and charged with theft of service and criminal\n",
      "trespass for allegedly sneaking into the New York subway through an emergency exit, said\n",
      "Detective\n",
      "Annette Markowski, a police spokeswoman. In total, Barrientos has been married 10 times, with\n",
      "nine of her marriages occurring between 1999 and 2002.\n",
      "All occurred either in Westchester County, Long Island, New Jersey or the Bronx. She is\n",
      "believed to still be married to four men, and at one time, she was married to eight men at once,\n",
      "prosecutors say.\n",
      "Prosecutors said the immigration scam involved some of her husbands, who filed for permanent\n",
      "residence status shortly after the marriages.\n",
      "Any divorces happened only after such filings were approved. It was unclear whether any of the\n",
      "men will be prosecuted.\n",
      "The case was referred to the Bronx District Attorney\\'s Office by Immigration and Customs\n",
      "Enforcement and the Department of Homeland Security\\'s\n",
      "Investigation Division. Seven of the men are from so-called \"red-flagged\" countries, including\n",
      "Egypt, Turkey, Georgia, Pakistan and Mali.\n",
      "Her eighth husband, Rashid Rajput, was deported in 2006 to his native Pakistan after an\n",
      "investigation by the Joint Terrorism Task Force.\n",
      "If convicted, Barrientos faces up to four years in prison.  Her next court appearance is\n",
      "scheduled for May 18.\n",
      "\n",
      "\f",
      "\n"
     ]
    }
   ],
   "source": [
    "output_string = StringIO()\n",
    "with open(\"summary text.pdf\" , \"rb\") as in_file:\n",
    "    parser = PDFParser(in_file)\n",
    "    doc = PDFDocument(parser)\n",
    "    rsrcmgr = PDFResourceManager()\n",
    "    device =  TextConverter(rsrcmgr, output_string, laparams= LAParams())\n",
    "    interpreter = PDFPageInterpreter(rsrcmgr, device)\n",
    "    \n",
    "    for page in PDFPage.create_pages(doc):\n",
    "        interpreter.process_page(page)\n",
    "        #print('*' * 100)\n",
    "        \n",
    "print(output_string.getvalue())"
   ]
  },
  {
   "cell_type": "code",
   "execution_count": 9,
   "id": "cf5081df",
   "metadata": {},
   "outputs": [],
   "source": [
    "#from transformers import pipeline\n",
    "from transformers import AutoModelForSeq2SeqLM, AutoTokenizer"
   ]
  },
  {
   "cell_type": "code",
   "execution_count": 10,
   "id": "2c5e792d",
   "metadata": {},
   "outputs": [
    {
     "data": {
      "text/plain": [
       "str"
      ]
     },
     "execution_count": 10,
     "metadata": {},
     "output_type": "execute_result"
    }
   ],
   "source": [
    "text = output_string.getvalue()"
   ]
  },
  {
   "cell_type": "code",
   "execution_count": 11,
   "id": "7969000d",
   "metadata": {},
   "outputs": [],
   "source": [
    "text = text[:-4]"
   ]
  },
  {
   "cell_type": "code",
   "execution_count": 12,
   "id": "48196eb6",
   "metadata": {},
   "outputs": [],
   "source": [
    "dataset = text.replace('\\n', ' ').replace('\\\\', '').replace('\\n\\n', '').replace('\\x0c','')"
   ]
  },
  {
   "cell_type": "code",
   "execution_count": 21,
   "id": "a98ce36e",
   "metadata": {},
   "outputs": [],
   "source": [
    "n =512\n",
    "bank = [dataset[i:i+n] for i in range(0, len(dataset), n)]"
   ]
  },
  {
   "cell_type": "code",
   "execution_count": 14,
   "id": "9af7f2a1",
   "metadata": {},
   "outputs": [],
   "source": [
    "model = AutoModelForSeq2SeqLM.from_pretrained(\"t5-base\")"
   ]
  },
  {
   "cell_type": "code",
   "execution_count": 15,
   "id": "3a84db51",
   "metadata": {},
   "outputs": [],
   "source": [
    "tokenizer = AutoTokenizer.from_pretrained(\"t5-base\")"
   ]
  },
  {
   "cell_type": "code",
   "execution_count": 32,
   "id": "50648403",
   "metadata": {},
   "outputs": [
    {
     "name": "stdout",
     "output_type": "stream",
     "text": [
      "<pad> liana barrientos got married in the westchester county, new york, in 2010. she got married again in the westchester county, but to a different man. in 2010, she married once more, this time in the Bronx.</s><pad> barrientos is accused of \"offering a false instrument for filing in the first degree\" she pleaded not guilty to two counts of \"offering a false instrument for filing in the first degree\" the marriages were part of an immigration scam, she says.</s><pad> in total, barrientos has been married 10 times, with nine of her marriages occurring between 1999 and 2002. she is believed to still be married to four men, and at one time, she was married to eight men at once.</s><pad> the case was referred to the Bronx District Attorney's Office. seven of the men are from so-called \"red-flagged\" countries. it is unclear whether any of the men will be prosecuted.</s><pad> barrientos faces up to four years in prison if convicted. her eighth husband, Rashid Rajput, was deported to his native Pakistan in 2006. if convicted, she faces up to four years in prison.</s>\n"
     ]
    }
   ],
   "source": [
    "summary = []\n",
    "for dataset in bank:\n",
    "    inputs = tokenizer(\"summarize: \" + dataset, return_tensors=\"pt\", max_length=512, truncation=True)\n",
    "    outputs = model.generate(\n",
    "    inputs[\"input_ids\"], max_length=150, min_length=40, length_penalty=2.0, num_beams=4, early_stopping=True)\n",
    "    summary.append(tokenizer.decode(outputs[0]))\n",
    "    #print(tokenizer.decode(outputs[0]))\n",
    "    \n",
    "result  = \"\".join(summary)\n",
    "result = result.replace(r'<pad>','').replace(r'</s>','')\n",
    "\n",
    "print(result)"
   ]
  },
  {
   "cell_type": "markdown",
   "id": "0014d271",
   "metadata": {},
   "source": [
    "### Trying out new model"
   ]
  },
  {
   "cell_type": "code",
   "execution_count": 33,
   "id": "47541ebb",
   "metadata": {},
   "outputs": [],
   "source": [
    "model = AutoModelForSeq2SeqLM.from_pretrained(\"t5-small\")"
   ]
  },
  {
   "cell_type": "code",
   "execution_count": 34,
   "id": "e4f986aa",
   "metadata": {},
   "outputs": [],
   "source": [
    "tokenizer = AutoTokenizer.from_pretrained(\"t5-small\")"
   ]
  },
  {
   "cell_type": "code",
   "execution_count": 35,
   "id": "40810959",
   "metadata": {},
   "outputs": [
    {
     "name": "stdout",
     "output_type": "stream",
     "text": [
      " a year later, she got married again in westchester county, new york. only 18 days after that marriage, she got hitched yet again. in 2010, she married once more, this time in the Bronx. barrientos, now 39, is facing two criminal counts of \"offering a false instrument\" referring to her false statements on the 2010 marriage license application. the marriages were part of an immigration scam, her attorney says. in total, barrientos has been married 10 times, with nine of her marriages occurring between 1999 and 2002. she is believed to still be married to four men, and at one time, she was married to eight men at once. seven of the men are from so-called \"red-flagged\" countries. seven of the men are from so-called \"red-flagged\" countries. the case was referred to the district attorney's office. if convicted, barrientos faces up to four years in prison. if convicted, barrientos faces up to four years in prison. next court appearance is scheduled for may 18.\n"
     ]
    }
   ],
   "source": [
    "summary = []\n",
    "for dataset in bank:\n",
    "    inputs = tokenizer(\"summarize: \" + dataset, return_tensors=\"pt\", max_length=512, truncation=True)\n",
    "    outputs = model.generate(\n",
    "    inputs[\"input_ids\"], max_length=150, min_length=40, length_penalty=2.0, num_beams=4, early_stopping=True)\n",
    "    summary.append(tokenizer.decode(outputs[0]))\n",
    "    #print(tokenizer.decode(outputs[0]))\n",
    "    \n",
    "result  = \"\".join(summary)\n",
    "result = result.replace(r'<pad>','').replace(r'</s>','')\n",
    "\n",
    "print(result)"
   ]
  },
  {
   "cell_type": "markdown",
   "id": "b3e11ab2",
   "metadata": {},
   "source": [
    "##  The two other models below are very large, the aim is to show how large each model is ."
   ]
  },
  {
   "cell_type": "code",
   "execution_count": null,
   "id": "3e677433",
   "metadata": {},
   "outputs": [],
   "source": [
    "model = AutoModelForSeq2SeqLM.from_pretrained(\"t5-3b\")\n",
    "tokenizer = AutoTokenizer.from_pretrained(\"t5-3b\")\n",
    "\n",
    "inputs = tokenizer(\"summarize: \" + dataset, return_tensors=\"pt\", max_length=512, truncation=True)\n",
    "#inputs\n",
    "\n",
    "outputs = model.generate(\n",
    "    inputs[\"input_ids\"], max_length=150, min_length=40, length_penalty=2.0, num_beams=4, early_stopping=True\n",
    ")\n",
    "\n",
    "print(tokenizer.decode(outputs[0]))\n",
    "\n",
    "result = tokenizer.decode(outputs[0])[6:-4]\n",
    "result"
   ]
  },
  {
   "attachments": {
    "cap1.PNG": {
     "image/png": "[encoded data removed]"
    }
   },
   "cell_type": "markdown",
   "id": "d8538cff",
   "metadata": {
    "collapsed": true
   },
   "source": [
    "![cap1.PNG](attachment:cap1.PNG)"
   ]
  },
  {
   "cell_type": "code",
   "execution_count": null,
   "id": "c450be81",
   "metadata": {},
   "outputs": [],
   "source": [
    "model = AutoModelForSeq2SeqLM.from_pretrained(\"t5-11b\")\n",
    "tokenizer = AutoTokenizer.from_pretrained(\"t5-11b\")\n",
    "\n",
    "inputs = tokenizer(\"summarize: \" + dataset, return_tensors=\"pt\", max_length=512, truncation=True)\n",
    "#inputs\n",
    "\n",
    "outputs = model.generate(\n",
    "    inputs[\"input_ids\"], max_length=150, min_length=40, length_penalty=2.0, num_beams=4, early_stopping=True\n",
    ")\n",
    "\n",
    "print(tokenizer.decode(outputs[0]))\n",
    "\n",
    "result = tokenizer.decode(outputs[0])[6:-4]\n",
    "result"
   ]
  },
  {
   "attachments": {
    "cap2.PNG": {
     "image/png": "[encoded data removed]"
    }
   },
   "cell_type": "markdown",
   "id": "6d2c50a8",
   "metadata": {
    "collapsed": true
   },
   "source": [
    "![cap2.PNG](attachment:cap2.PNG)"
   ]
  },
  {
   "cell_type": "code",
   "execution_count": null,
   "id": "13e603e8",
   "metadata": {},
   "outputs": [],
   "source": []
  },
  {
   "cell_type": "markdown",
   "id": "911b6100",
   "metadata": {},
   "source": [
    "### Reading in Multiple CSV files\n",
    "\n",
    "Dataset was gotten from kaggle [here](https://www.kaggle.com/gauravduttakiit/headline-text-summarization-using-transformer/data) "
   ]
  },
  {
   "cell_type": "code",
   "execution_count": 1,
   "id": "371777b7",
   "metadata": {},
   "outputs": [
    {
     "name": "stderr",
     "output_type": "stream",
     "text": [
      "C:\\Users\\babba\\AppData\\Local\\Temp/ipykernel_14124/3873755600.py:2: FutureWarning: Passing a negative integer is deprecated in version 1.0 and will not be supported in future version. Instead, use None to not limit the column width.\n",
      "  pd.set_option('max_colwidth', -1)\n"
     ]
    }
   ],
   "source": [
    "import pandas as pd\n",
    "pd.set_option('max_colwidth', -1)\n",
    "news=pd.read_excel('Inshorts Cleaned Data.xlsx')"
   ]
  },
  {
   "cell_type": "code",
   "execution_count": 4,
   "id": "b8c4d168",
   "metadata": {},
   "outputs": [
    {
     "data": {
      "text/html": [
       "<div>\n",
       "<style scoped>\n",
       "    .dataframe tbody tr th:only-of-type {\n",
       "        vertical-align: middle;\n",
       "    }\n",
       "\n",
       "    .dataframe tbody tr th {\n",
       "        vertical-align: top;\n",
       "    }\n",
       "\n",
       "    .dataframe thead th {\n",
       "        text-align: right;\n",
       "    }\n",
       "</style>\n",
       "<table border=\"1\" class=\"dataframe\">\n",
       "  <thead>\n",
       "    <tr style=\"text-align: right;\">\n",
       "      <th></th>\n",
       "      <th>Headline</th>\n",
       "      <th>Short</th>\n",
       "      <th>Source</th>\n",
       "      <th>Time</th>\n",
       "      <th>Publish Date</th>\n",
       "    </tr>\n",
       "  </thead>\n",
       "  <tbody>\n",
       "    <tr>\n",
       "      <th>0</th>\n",
       "      <td>4 ex-bank officials booked for cheating bank of ₹209 crore</td>\n",
       "      <td>The CBI on Saturday booked four former officials of Syndicate Bank and six others for cheating, forgery, criminal conspiracy and causing ₹209 crore loss to the state-run bank. The accused had availed home loans and credit from Syndicate Bank on the basis of forged and fabricated documents. These funds were fraudulently transferred to the companies owned by the accused persons.</td>\n",
       "      <td>The New Indian Express</td>\n",
       "      <td>09:25:00</td>\n",
       "      <td>2017-03-26</td>\n",
       "    </tr>\n",
       "    <tr>\n",
       "      <th>1</th>\n",
       "      <td>Supreme Court to go paperless in 6 months: CJI</td>\n",
       "      <td>Chief Justice JS Khehar has said the Supreme Court will go paperless in six to seven months in a bid to save funds and make the judiciary eco-friendly. He further said the apex court will collect all the records electronically from the lower courts and the high courts so that there is no need to file hard copies.</td>\n",
       "      <td>Outlook</td>\n",
       "      <td>22:18:00</td>\n",
       "      <td>2017-03-25</td>\n",
       "    </tr>\n",
       "    <tr>\n",
       "      <th>2</th>\n",
       "      <td>At least 3 killed, 30 injured in blast in Sylhet, Bangladesh</td>\n",
       "      <td>At least three people were killed, including a policeman, while 30 others were wounded on Saturday evening in two explosions in Sylhet, Bangladesh. The explosions were targetted at people and police officials who were witnessing an over 30-hour-long gunfight between extremists and commandos. Earlier on Friday, a man had blown himself up in front of a checkpoint near Dhaka Airport.</td>\n",
       "      <td>Hindustan Times</td>\n",
       "      <td>23:39:00</td>\n",
       "      <td>2017-03-25</td>\n",
       "    </tr>\n",
       "    <tr>\n",
       "      <th>3</th>\n",
       "      <td>Why has Reliance been barred from trading in futures?</td>\n",
       "      <td>Mukesh Ambani-led Reliance Industries (RIL) was barred from trading in futures market for a year over stake sale in Reliance Petroleum (RPL). In 2007, RIL sold 4.1% stake in RPL, but shares were first &amp;#39;short-sold&amp;#39; in futures market to avoid a fall in RPL stocks. Short sale means selling shares with plans to buy them back later at lower prices.</td>\n",
       "      <td>Livemint</td>\n",
       "      <td>23:08:00</td>\n",
       "      <td>2017-03-25</td>\n",
       "    </tr>\n",
       "    <tr>\n",
       "      <th>4</th>\n",
       "      <td>Was stopped from entering my own studio at Times Now: Arnab</td>\n",
       "      <td>TV news anchor Arnab Goswami has said he was told he could not do the programme two days before leaving Times Now. &amp;#34;18th November was my last day, I was not allowed to enter my own studio,&amp;#34; Goswami added. &amp;#34;When you build an institution and are not allowed to enter your own studio, you feel sad,&amp;#34; the journalist further said.</td>\n",
       "      <td>YouTube</td>\n",
       "      <td>23:24:00</td>\n",
       "      <td>2017-03-25</td>\n",
       "    </tr>\n",
       "  </tbody>\n",
       "</table>\n",
       "</div>"
      ],
      "text/plain": [
       "                                                       Headline  \\\n",
       "0  4 ex-bank officials booked for cheating bank of ₹209 crore     \n",
       "1  Supreme Court to go paperless in 6 months: CJI                 \n",
       "2  At least 3 killed, 30 injured in blast in Sylhet, Bangladesh   \n",
       "3  Why has Reliance been barred from trading in futures?          \n",
       "4  Was stopped from entering my own studio at Times Now: Arnab    \n",
       "\n",
       "                                                                                                                                                                                                                                                                                                                                                                                             Short  \\\n",
       "0  The CBI on Saturday booked four former officials of Syndicate Bank and six others for cheating, forgery, criminal conspiracy and causing ₹209 crore loss to the state-run bank. The accused had availed home loans and credit from Syndicate Bank on the basis of forged and fabricated documents. These funds were fraudulently transferred to the companies owned by the accused persons.       \n",
       "1  Chief Justice JS Khehar has said the Supreme Court will go paperless in six to seven months in a bid to save funds and make the judiciary eco-friendly. He further said the apex court will collect all the records electronically from the lower courts and the high courts so that there is no need to file hard copies.                                                                        \n",
       "2  At least three people were killed, including a policeman, while 30 others were wounded on Saturday evening in two explosions in Sylhet, Bangladesh. The explosions were targetted at people and police officials who were witnessing an over 30-hour-long gunfight between extremists and commandos. Earlier on Friday, a man had blown himself up in front of a checkpoint near Dhaka Airport.   \n",
       "3  Mukesh Ambani-led Reliance Industries (RIL) was barred from trading in futures market for a year over stake sale in Reliance Petroleum (RPL). In 2007, RIL sold 4.1% stake in RPL, but shares were first &#39;short-sold&#39; in futures market to avoid a fall in RPL stocks. Short sale means selling shares with plans to buy them back later at lower prices.                                 \n",
       "4  TV news anchor Arnab Goswami has said he was told he could not do the programme two days before leaving Times Now. &#34;18th November was my last day, I was not allowed to enter my own studio,&#34; Goswami added. &#34;When you build an institution and are not allowed to enter your own studio, you feel sad,&#34; the journalist further said.                                             \n",
       "\n",
       "                  Source      Time  Publish Date  \n",
       "0  The New Indian Express  09:25:00 2017-03-26    \n",
       "1  Outlook                 22:18:00 2017-03-25    \n",
       "2  Hindustan Times         23:39:00 2017-03-25    \n",
       "3  Livemint                23:08:00 2017-03-25    \n",
       "4  YouTube                 23:24:00 2017-03-25    "
      ]
     },
     "execution_count": 4,
     "metadata": {},
     "output_type": "execute_result"
    }
   ],
   "source": [
    "news.head()"
   ]
  },
  {
   "cell_type": "code",
   "execution_count": 10,
   "id": "7876e6e5",
   "metadata": {
    "scrolled": true
   },
   "outputs": [
    {
     "data": {
      "text/html": [
       "<div>\n",
       "<style scoped>\n",
       "    .dataframe tbody tr th:only-of-type {\n",
       "        vertical-align: middle;\n",
       "    }\n",
       "\n",
       "    .dataframe tbody tr th {\n",
       "        vertical-align: top;\n",
       "    }\n",
       "\n",
       "    .dataframe thead th {\n",
       "        text-align: right;\n",
       "    }\n",
       "</style>\n",
       "<table border=\"1\" class=\"dataframe\">\n",
       "  <thead>\n",
       "    <tr style=\"text-align: right;\">\n",
       "      <th></th>\n",
       "      <th>Headline</th>\n",
       "      <th>Short</th>\n",
       "    </tr>\n",
       "  </thead>\n",
       "  <tbody>\n",
       "    <tr>\n",
       "      <th>0</th>\n",
       "      <td>4 ex-bank officials booked for cheating bank of ₹209 crore</td>\n",
       "      <td>The CBI on Saturday booked four former officials of Syndicate Bank and six others for cheating, forgery, criminal conspiracy and causing ₹209 crore loss to the state-run bank. The accused had availed home loans and credit from Syndicate Bank on the basis of forged and fabricated documents. These funds were fraudulently transferred to the companies owned by the accused persons.</td>\n",
       "    </tr>\n",
       "    <tr>\n",
       "      <th>1</th>\n",
       "      <td>Supreme Court to go paperless in 6 months: CJI</td>\n",
       "      <td>Chief Justice JS Khehar has said the Supreme Court will go paperless in six to seven months in a bid to save funds and make the judiciary eco-friendly. He further said the apex court will collect all the records electronically from the lower courts and the high courts so that there is no need to file hard copies.</td>\n",
       "    </tr>\n",
       "    <tr>\n",
       "      <th>2</th>\n",
       "      <td>At least 3 killed, 30 injured in blast in Sylhet, Bangladesh</td>\n",
       "      <td>At least three people were killed, including a policeman, while 30 others were wounded on Saturday evening in two explosions in Sylhet, Bangladesh. The explosions were targetted at people and police officials who were witnessing an over 30-hour-long gunfight between extremists and commandos. Earlier on Friday, a man had blown himself up in front of a checkpoint near Dhaka Airport.</td>\n",
       "    </tr>\n",
       "    <tr>\n",
       "      <th>3</th>\n",
       "      <td>Why has Reliance been barred from trading in futures?</td>\n",
       "      <td>Mukesh Ambani-led Reliance Industries (RIL) was barred from trading in futures market for a year over stake sale in Reliance Petroleum (RPL). In 2007, RIL sold 4.1% stake in RPL, but shares were first ;short-sold; in futures market to avoid a fall in RPL stocks. Short sale means selling shares with plans to buy them back later at lower prices.</td>\n",
       "    </tr>\n",
       "    <tr>\n",
       "      <th>4</th>\n",
       "      <td>Was stopped from entering my own studio at Times Now: Arnab</td>\n",
       "      <td>TV news anchor Arnab Goswami has said he was told he could not do the programme two days before leaving Times Now. 18th November was my last day, I was not allowed to enter my own studio, Goswami added. When you build an institution and are not allowed to enter your own studio, you feel sad, the journalist further said.</td>\n",
       "    </tr>\n",
       "  </tbody>\n",
       "</table>\n",
       "</div>"
      ],
      "text/plain": [
       "                                                       Headline  \\\n",
       "0  4 ex-bank officials booked for cheating bank of ₹209 crore     \n",
       "1  Supreme Court to go paperless in 6 months: CJI                 \n",
       "2  At least 3 killed, 30 injured in blast in Sylhet, Bangladesh   \n",
       "3  Why has Reliance been barred from trading in futures?          \n",
       "4  Was stopped from entering my own studio at Times Now: Arnab    \n",
       "\n",
       "                                                                                                                                                                                                                                                                                                                                                                                             Short  \n",
       "0  The CBI on Saturday booked four former officials of Syndicate Bank and six others for cheating, forgery, criminal conspiracy and causing ₹209 crore loss to the state-run bank. The accused had availed home loans and credit from Syndicate Bank on the basis of forged and fabricated documents. These funds were fraudulently transferred to the companies owned by the accused persons.      \n",
       "1  Chief Justice JS Khehar has said the Supreme Court will go paperless in six to seven months in a bid to save funds and make the judiciary eco-friendly. He further said the apex court will collect all the records electronically from the lower courts and the high courts so that there is no need to file hard copies.                                                                       \n",
       "2  At least three people were killed, including a policeman, while 30 others were wounded on Saturday evening in two explosions in Sylhet, Bangladesh. The explosions were targetted at people and police officials who were witnessing an over 30-hour-long gunfight between extremists and commandos. Earlier on Friday, a man had blown himself up in front of a checkpoint near Dhaka Airport.  \n",
       "3  Mukesh Ambani-led Reliance Industries (RIL) was barred from trading in futures market for a year over stake sale in Reliance Petroleum (RPL). In 2007, RIL sold 4.1% stake in RPL, but shares were first ;short-sold; in futures market to avoid a fall in RPL stocks. Short sale means selling shares with plans to buy them back later at lower prices.                                        \n",
       "4  TV news anchor Arnab Goswami has said he was told he could not do the programme two days before leaving Times Now. 18th November was my last day, I was not allowed to enter my own studio, Goswami added. When you build an institution and are not allowed to enter your own studio, you feel sad, the journalist further said.                                                                "
      ]
     },
     "execution_count": 10,
     "metadata": {},
     "output_type": "execute_result"
    }
   ],
   "source": [
    "news = news[['Headline', 'Short']]\n",
    "news.head()"
   ]
  },
  {
   "cell_type": "markdown",
   "id": "243ccf9e",
   "metadata": {},
   "source": [
    "#### From the table above you would see different html character code which needs to be cleaned, you can check out other codes [here.](https://www.w3.org/MarkUp/html-spec/html-spec_13.html)"
   ]
  },
  {
   "cell_type": "code",
   "execution_count": 8,
   "id": "bd00f635",
   "metadata": {},
   "outputs": [
    {
     "data": {
      "text/html": [
       "<div>\n",
       "<style scoped>\n",
       "    .dataframe tbody tr th:only-of-type {\n",
       "        vertical-align: middle;\n",
       "    }\n",
       "\n",
       "    .dataframe tbody tr th {\n",
       "        vertical-align: top;\n",
       "    }\n",
       "\n",
       "    .dataframe thead th {\n",
       "        text-align: right;\n",
       "    }\n",
       "</style>\n",
       "<table border=\"1\" class=\"dataframe\">\n",
       "  <thead>\n",
       "    <tr style=\"text-align: right;\">\n",
       "      <th></th>\n",
       "      <th>Headline</th>\n",
       "      <th>Short</th>\n",
       "    </tr>\n",
       "  </thead>\n",
       "  <tbody>\n",
       "    <tr>\n",
       "      <th>0</th>\n",
       "      <td>4 ex-bank officials booked for cheating bank of ₹209 crore</td>\n",
       "      <td>The CBI on Saturday booked four former officials of Syndicate Bank and six others for cheating, forgery, criminal conspiracy and causing ₹209 crore loss to the state-run bank. The accused had availed home loans and credit from Syndicate Bank on the basis of forged and fabricated documents. These funds were fraudulently transferred to the companies owned by the accused persons.</td>\n",
       "    </tr>\n",
       "    <tr>\n",
       "      <th>1</th>\n",
       "      <td>Supreme Court to go paperless in 6 months: CJI</td>\n",
       "      <td>Chief Justice JS Khehar has said the Supreme Court will go paperless in six to seven months in a bid to save funds and make the judiciary eco-friendly. He further said the apex court will collect all the records electronically from the lower courts and the high courts so that there is no need to file hard copies.</td>\n",
       "    </tr>\n",
       "    <tr>\n",
       "      <th>2</th>\n",
       "      <td>At least 3 killed, 30 injured in blast in Sylhet, Bangladesh</td>\n",
       "      <td>At least three people were killed, including a policeman, while 30 others were wounded on Saturday evening in two explosions in Sylhet, Bangladesh. The explosions were targetted at people and police officials who were witnessing an over 30-hour-long gunfight between extremists and commandos. Earlier on Friday, a man had blown himself up in front of a checkpoint near Dhaka Airport.</td>\n",
       "    </tr>\n",
       "    <tr>\n",
       "      <th>3</th>\n",
       "      <td>Why has Reliance been barred from trading in futures?</td>\n",
       "      <td>Mukesh Ambani-led Reliance Industries (RIL) was barred from trading in futures market for a year over stake sale in Reliance Petroleum (RPL). In 2007, RIL sold 4.1% stake in RPL, but shares were first ;short-sold; in futures market to avoid a fall in RPL stocks. Short sale means selling shares with plans to buy them back later at lower prices.</td>\n",
       "    </tr>\n",
       "    <tr>\n",
       "      <th>4</th>\n",
       "      <td>Was stopped from entering my own studio at Times Now: Arnab</td>\n",
       "      <td>TV news anchor Arnab Goswami has said he was told he could not do the programme two days before leaving Times Now. 18th November was my last day, I was not allowed to enter my own studio, Goswami added. When you build an institution and are not allowed to enter your own studio, you feel sad, the journalist further said.</td>\n",
       "    </tr>\n",
       "  </tbody>\n",
       "</table>\n",
       "</div>"
      ],
      "text/plain": [
       "                                                       Headline  \\\n",
       "0  4 ex-bank officials booked for cheating bank of ₹209 crore     \n",
       "1  Supreme Court to go paperless in 6 months: CJI                 \n",
       "2  At least 3 killed, 30 injured in blast in Sylhet, Bangladesh   \n",
       "3  Why has Reliance been barred from trading in futures?          \n",
       "4  Was stopped from entering my own studio at Times Now: Arnab    \n",
       "\n",
       "                                                                                                                                                                                                                                                                                                                                                                                             Short  \n",
       "0  The CBI on Saturday booked four former officials of Syndicate Bank and six others for cheating, forgery, criminal conspiracy and causing ₹209 crore loss to the state-run bank. The accused had availed home loans and credit from Syndicate Bank on the basis of forged and fabricated documents. These funds were fraudulently transferred to the companies owned by the accused persons.      \n",
       "1  Chief Justice JS Khehar has said the Supreme Court will go paperless in six to seven months in a bid to save funds and make the judiciary eco-friendly. He further said the apex court will collect all the records electronically from the lower courts and the high courts so that there is no need to file hard copies.                                                                       \n",
       "2  At least three people were killed, including a policeman, while 30 others were wounded on Saturday evening in two explosions in Sylhet, Bangladesh. The explosions were targetted at people and police officials who were witnessing an over 30-hour-long gunfight between extremists and commandos. Earlier on Friday, a man had blown himself up in front of a checkpoint near Dhaka Airport.  \n",
       "3  Mukesh Ambani-led Reliance Industries (RIL) was barred from trading in futures market for a year over stake sale in Reliance Petroleum (RPL). In 2007, RIL sold 4.1% stake in RPL, but shares were first ;short-sold; in futures market to avoid a fall in RPL stocks. Short sale means selling shares with plans to buy them back later at lower prices.                                        \n",
       "4  TV news anchor Arnab Goswami has said he was told he could not do the programme two days before leaving Times Now. 18th November was my last day, I was not allowed to enter my own studio, Goswami added. When you build an institution and are not allowed to enter your own studio, you feel sad, the journalist further said.                                                                "
      ]
     },
     "execution_count": 8,
     "metadata": {},
     "output_type": "execute_result"
    }
   ],
   "source": [
    "news=news.replace(r'&#45','-', regex=True).replace(r'&#39','', regex=True).replace(r'&amp','and', regex=True).replace(r'&#34;','', regex=True)\n",
    "news.head()"
   ]
  },
  {
   "cell_type": "code",
   "execution_count": 9,
   "id": "7a9809fe",
   "metadata": {},
   "outputs": [
    {
     "data": {
      "text/plain": [
       "(55104, 2)"
      ]
     },
     "execution_count": 9,
     "metadata": {},
     "output_type": "execute_result"
    }
   ],
   "source": [
    "news.shape"
   ]
  },
  {
   "cell_type": "raw",
   "id": "53a07314",
   "metadata": {},
   "source": [
    "We would want to reduce the number of training samples."
   ]
  },
  {
   "cell_type": "code",
   "execution_count": 11,
   "id": "5767518c",
   "metadata": {},
   "outputs": [
    {
     "data": {
      "text/html": [
       "<div>\n",
       "<style scoped>\n",
       "    .dataframe tbody tr th:only-of-type {\n",
       "        vertical-align: middle;\n",
       "    }\n",
       "\n",
       "    .dataframe tbody tr th {\n",
       "        vertical-align: top;\n",
       "    }\n",
       "\n",
       "    .dataframe thead th {\n",
       "        text-align: right;\n",
       "    }\n",
       "</style>\n",
       "<table border=\"1\" class=\"dataframe\">\n",
       "  <thead>\n",
       "    <tr style=\"text-align: right;\">\n",
       "      <th></th>\n",
       "      <th>Headline</th>\n",
       "      <th>Short</th>\n",
       "    </tr>\n",
       "  </thead>\n",
       "  <tbody>\n",
       "    <tr>\n",
       "      <th>0</th>\n",
       "      <td>5 nations; envoys present credentials to Prez Mukherjee</td>\n",
       "      <td>Envoys of Finland, Switzerland, Guatemala, Argentina, and Sri Lanka presented their credentials to President Pranab Mukherjee at a ceremony in Delhi on Monday. The envoys were Nina Vaskunlahti, Ambassador of Finland, Andreas Baum, Ambassador of Switzerland, Giovanni Castillo, Ambassador of Guatemala, Maria Cristina Ueltschi, Argentina, and Chitraganee Wagisewara, High Commissioner of Sri Lanka.</td>\n",
       "    </tr>\n",
       "    <tr>\n",
       "      <th>1</th>\n",
       "      <td>;World;s steepest street; is in New Zealand</td>\n",
       "      <td>The Baldwin Street in Dunedin, New Zealand, spanning 350 metres, is known as the world;s steepest residential street. Along the length, the street ranges from 30 metres to 100 metres above sea level, with the elevation rising by 1 metre for every 2.86 metres. The steepness is caused as streets were laid out in grids without consideration of the terrain.</td>\n",
       "    </tr>\n",
       "    <tr>\n",
       "      <th>2</th>\n",
       "      <td>Gujarat reach Ranji final for 1st time since 1950-51 season</td>\n",
       "      <td>Gujarat defeated Jharkhand by 123 runs to reach Ranji Trophy final for the first time since 1950-51 Ranji season. Gujarat won the Syed Mushtaq Ali Trophy in 2015 and claimed the Vijay Hazare Trophy in 2016. Gujarat will face the winner of the second semifinal between Tamil Nadu and Mumbai in the tournament;s final beginning January 10.</td>\n",
       "    </tr>\n",
       "    <tr>\n",
       "      <th>3</th>\n",
       "      <td>Note ban most disruptive policy since 1991: ex-RBI Governor</td>\n",
       "      <td>Former RBI Governor D Subbarao on Thursday termed demonetisation as creative destruction and the most disruptive policy innovation since 1991 reforms that has helped destroy black money. Subbarao further said that the demonetisation decision is arguably leading to a flurry of innovations in the Indian financial sector by way of digitisation of payments.</td>\n",
       "    </tr>\n",
       "    <tr>\n",
       "      <th>4</th>\n",
       "      <td>Unified Payments Interface launched for 21 banks</td>\n",
       "      <td>The National Payments Corporation of India (NPCI) said on Thursday that the Unified Payments Interface (UPI) is now active and available for customers of 21 banks. The UPI is a payment interface that will facilitate users to initiate payment requests directly from a smartphone. The interface was soft-launched in April and was under pilot run to fix technical glitches.</td>\n",
       "    </tr>\n",
       "  </tbody>\n",
       "</table>\n",
       "</div>"
      ],
      "text/plain": [
       "                                                      Headline  \\\n",
       "0  5 nations; envoys present credentials to Prez Mukherjee       \n",
       "1  ;World;s steepest street; is in New Zealand                   \n",
       "2  Gujarat reach Ranji final for 1st time since 1950-51 season   \n",
       "3  Note ban most disruptive policy since 1991: ex-RBI Governor   \n",
       "4  Unified Payments Interface launched for 21 banks              \n",
       "\n",
       "                                                                                                                                                                                                                                                                                                                                                                                                           Short  \n",
       "0  Envoys of Finland, Switzerland, Guatemala, Argentina, and Sri Lanka presented their credentials to President Pranab Mukherjee at a ceremony in Delhi on Monday. The envoys were Nina Vaskunlahti, Ambassador of Finland, Andreas Baum, Ambassador of Switzerland, Giovanni Castillo, Ambassador of Guatemala, Maria Cristina Ueltschi, Argentina, and Chitraganee Wagisewara, High Commissioner of Sri Lanka.  \n",
       "1  The Baldwin Street in Dunedin, New Zealand, spanning 350 metres, is known as the world;s steepest residential street. Along the length, the street ranges from 30 metres to 100 metres above sea level, with the elevation rising by 1 metre for every 2.86 metres. The steepness is caused as streets were laid out in grids without consideration of the terrain.                                            \n",
       "2  Gujarat defeated Jharkhand by 123 runs to reach Ranji Trophy final for the first time since 1950-51 Ranji season. Gujarat won the Syed Mushtaq Ali Trophy in 2015 and claimed the Vijay Hazare Trophy in 2016. Gujarat will face the winner of the second semifinal between Tamil Nadu and Mumbai in the tournament;s final beginning January 10.                                                              \n",
       "3  Former RBI Governor D Subbarao on Thursday termed demonetisation as creative destruction and the most disruptive policy innovation since 1991 reforms that has helped destroy black money. Subbarao further said that the demonetisation decision is arguably leading to a flurry of innovations in the Indian financial sector by way of digitisation of payments.                                            \n",
       "4  The National Payments Corporation of India (NPCI) said on Thursday that the Unified Payments Interface (UPI) is now active and available for customers of 21 banks. The UPI is a payment interface that will facilitate users to initiate payment requests directly from a smartphone. The interface was soft-launched in April and was under pilot run to fix technical glitches.                             "
      ]
     },
     "execution_count": 11,
     "metadata": {},
     "output_type": "execute_result"
    }
   ],
   "source": [
    "news=news.sample(n=100)\n",
    "news.reset_index(inplace = True,drop = True)\n",
    "news.head()"
   ]
  },
  {
   "cell_type": "code",
   "execution_count": 12,
   "id": "5017e875",
   "metadata": {},
   "outputs": [],
   "source": [
    "from transformers import AutoModelForSeq2SeqLM, AutoTokenizer\n",
    "model = AutoModelForSeq2SeqLM.from_pretrained(\"t5-base\")\n",
    "tokenizer = AutoTokenizer.from_pretrained(\"t5-base\")"
   ]
  },
  {
   "cell_type": "code",
   "execution_count": 13,
   "id": "df1694c6",
   "metadata": {},
   "outputs": [],
   "source": [
    "from transformers import pipeline\n",
    "summarizer = pipeline(\"summarization\", model=model, tokenizer=tokenizer, framework=\"pt\")"
   ]
  },
  {
   "cell_type": "code",
   "execution_count": 14,
   "id": "d4885a75",
   "metadata": {},
   "outputs": [],
   "source": [
    "l = []\n",
    "for i in range(len(news['Short'])):\n",
    "    l.append(summarizer(news['Short'][i], min_length=10, max_length=30))"
   ]
  },
  {
   "cell_type": "code",
   "execution_count": 21,
   "id": "ba95c1b4",
   "metadata": {},
   "outputs": [
    {
     "data": {
      "text/html": [
       "<div>\n",
       "<style scoped>\n",
       "    .dataframe tbody tr th:only-of-type {\n",
       "        vertical-align: middle;\n",
       "    }\n",
       "\n",
       "    .dataframe tbody tr th {\n",
       "        vertical-align: top;\n",
       "    }\n",
       "\n",
       "    .dataframe thead th {\n",
       "        text-align: right;\n",
       "    }\n",
       "</style>\n",
       "<table border=\"1\" class=\"dataframe\">\n",
       "  <thead>\n",
       "    <tr style=\"text-align: right;\">\n",
       "      <th></th>\n",
       "      <th>Headline</th>\n",
       "      <th>Short</th>\n",
       "      <th>News Summary</th>\n",
       "    </tr>\n",
       "  </thead>\n",
       "  <tbody>\n",
       "    <tr>\n",
       "      <th>0</th>\n",
       "      <td>5 nations; envoys present credentials to Prez Mukherjee</td>\n",
       "      <td>Envoys of Finland, Switzerland, Guatemala, Argentina, and Sri Lanka presented their credentials to President Pranab Mukherjee at a ceremony in Delhi on Monday. The envoys were Nina Vaskunlahti, Ambassador of Finland, Andreas Baum, Ambassador of Switzerland, Giovanni Castillo, Ambassador of Guatemala, Maria Cristina Ueltschi, Argentina, and Chitraganee Wagisewara, High Commissioner of Sri Lanka.</td>\n",
       "      <td>envoys of Finland, Switzerland, Guatemala, Argentina, and Sri Lanka present credentials . a ceremony was held in new Delhi on</td>\n",
       "    </tr>\n",
       "    <tr>\n",
       "      <th>1</th>\n",
       "      <td>;World;s steepest street; is in New Zealand</td>\n",
       "      <td>The Baldwin Street in Dunedin, New Zealand, spanning 350 metres, is known as the world;s steepest residential street. Along the length, the street ranges from 30 metres to 100 metres above sea level, with the elevation rising by 1 metre for every 2.86 metres. The steepness is caused as streets were laid out in grids without consideration of the terrain.</td>\n",
       "      <td>the Baldwin Street in Dunedin, new Zealand, spanning 350 metres, is known as the world's steepest residential street .</td>\n",
       "    </tr>\n",
       "    <tr>\n",
       "      <th>2</th>\n",
       "      <td>Gujarat reach Ranji final for 1st time since 1950-51 season</td>\n",
       "      <td>Gujarat defeated Jharkhand by 123 runs to reach Ranji Trophy final for the first time since 1950-51 Ranji season. Gujarat won the Syed Mushtaq Ali Trophy in 2015 and claimed the Vijay Hazare Trophy in 2016. Gujarat will face the winner of the second semifinal between Tamil Nadu and Mumbai in the tournament;s final beginning January 10.</td>\n",
       "      <td>Gujarat defeated Jharkhand by 123 runs to reach final for the first time since 1950-51 . the winner of the second semifinal</td>\n",
       "    </tr>\n",
       "    <tr>\n",
       "      <th>3</th>\n",
       "      <td>Note ban most disruptive policy since 1991: ex-RBI Governor</td>\n",
       "      <td>Former RBI Governor D Subbarao on Thursday termed demonetisation as creative destruction and the most disruptive policy innovation since 1991 reforms that has helped destroy black money. Subbarao further said that the demonetisation decision is arguably leading to a flurry of innovations in the Indian financial sector by way of digitisation of payments.</td>\n",
       "      <td>former RBI Governor D Subbarao termed demonetisation as creative destruction . he said it is the most disruptive policy innovation since</td>\n",
       "    </tr>\n",
       "    <tr>\n",
       "      <th>4</th>\n",
       "      <td>Unified Payments Interface launched for 21 banks</td>\n",
       "      <td>The National Payments Corporation of India (NPCI) said on Thursday that the Unified Payments Interface (UPI) is now active and available for customers of 21 banks. The UPI is a payment interface that will facilitate users to initiate payment requests directly from a smartphone. The interface was soft-launched in April and was under pilot run to fix technical glitches.</td>\n",
       "      <td>the unified payments interface (UPI) is now available for customers of 21 banks . the interface was soft-launched in</td>\n",
       "    </tr>\n",
       "  </tbody>\n",
       "</table>\n",
       "</div>"
      ],
      "text/plain": [
       "                                                      Headline  \\\n",
       "0  5 nations; envoys present credentials to Prez Mukherjee       \n",
       "1  ;World;s steepest street; is in New Zealand                   \n",
       "2  Gujarat reach Ranji final for 1st time since 1950-51 season   \n",
       "3  Note ban most disruptive policy since 1991: ex-RBI Governor   \n",
       "4  Unified Payments Interface launched for 21 banks              \n",
       "\n",
       "                                                                                                                                                                                                                                                                                                                                                                                                           Short  \\\n",
       "0  Envoys of Finland, Switzerland, Guatemala, Argentina, and Sri Lanka presented their credentials to President Pranab Mukherjee at a ceremony in Delhi on Monday. The envoys were Nina Vaskunlahti, Ambassador of Finland, Andreas Baum, Ambassador of Switzerland, Giovanni Castillo, Ambassador of Guatemala, Maria Cristina Ueltschi, Argentina, and Chitraganee Wagisewara, High Commissioner of Sri Lanka.   \n",
       "1  The Baldwin Street in Dunedin, New Zealand, spanning 350 metres, is known as the world;s steepest residential street. Along the length, the street ranges from 30 metres to 100 metres above sea level, with the elevation rising by 1 metre for every 2.86 metres. The steepness is caused as streets were laid out in grids without consideration of the terrain.                                             \n",
       "2  Gujarat defeated Jharkhand by 123 runs to reach Ranji Trophy final for the first time since 1950-51 Ranji season. Gujarat won the Syed Mushtaq Ali Trophy in 2015 and claimed the Vijay Hazare Trophy in 2016. Gujarat will face the winner of the second semifinal between Tamil Nadu and Mumbai in the tournament;s final beginning January 10.                                                               \n",
       "3  Former RBI Governor D Subbarao on Thursday termed demonetisation as creative destruction and the most disruptive policy innovation since 1991 reforms that has helped destroy black money. Subbarao further said that the demonetisation decision is arguably leading to a flurry of innovations in the Indian financial sector by way of digitisation of payments.                                             \n",
       "4  The National Payments Corporation of India (NPCI) said on Thursday that the Unified Payments Interface (UPI) is now active and available for customers of 21 banks. The UPI is a payment interface that will facilitate users to initiate payment requests directly from a smartphone. The interface was soft-launched in April and was under pilot run to fix technical glitches.                              \n",
       "\n",
       "                                                                                                                               News Summary  \n",
       "0  envoys of Finland, Switzerland, Guatemala, Argentina, and Sri Lanka present credentials . a ceremony was held in new Delhi on             \n",
       "1  the Baldwin Street in Dunedin, new Zealand, spanning 350 metres, is known as the world's steepest residential street .                    \n",
       "2  Gujarat defeated Jharkhand by 123 runs to reach final for the first time since 1950-51 . the winner of the second semifinal               \n",
       "3  former RBI Governor D Subbarao termed demonetisation as creative destruction . he said it is the most disruptive policy innovation since  \n",
       "4  the unified payments interface (UPI) is now available for customers of 21 banks . the interface was soft-launched in                      "
      ]
     },
     "execution_count": 21,
     "metadata": {},
     "output_type": "execute_result"
    }
   ],
   "source": [
    "news.loc[:, 'News Summary'] = l\n",
    "news['News Summary']=news['News Summary'].astype('string')\n",
    "\n",
    "news['News Summary']=news['News Summary'].str[18:]\n",
    "news['News Summary']=news['News Summary'].str[:-2]\n",
    "\n",
    "news.head()"
   ]
  }
 ],
 "metadata": {
  "kernelspec": {
   "display_name": "Python 3 (ipykernel)",
   "language": "python",
   "name": "python3"
  },
  "language_info": {
   "codemirror_mode": {
    "name": "ipython",
    "version": 3
   },
   "file_extension": ".py",
   "mimetype": "text/x-python",
   "name": "python",
   "nbconvert_exporter": "python",
   "pygments_lexer": "ipython3",
   "version": "3.8.12"
  }
 },
 "nbformat": 4,
 "nbformat_minor": 5
}

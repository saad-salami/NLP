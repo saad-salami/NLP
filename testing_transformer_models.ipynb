{
  "cells": [
    {
      "cell_type": "markdown",
      "id": "d7542153",
      "metadata": {
        "id": "d7542153"
      },
      "source": [
        "## Transformer\n",
        "\n",
        "Transformers only reads in the following formats:\n",
        "\n",
        "1. txt\n",
        "2. csv\n",
        "3. tsv\n",
        "4. jsonl\n",
        "5. json\n",
        "6. xml\n",
        "\n",
        "[Source](https://huggingface.co/docs/datasets/dataset_script.html)\n",
        "\n",
        "If you want to read in pdf files, you would have to convert it to any of the format above.\n",
        "\n",
        "for our notebook we would be converting them to pdf."
      ]
    },
    {
      "cell_type": "code",
      "source": [
        "!pip install transformers\n",
        "!pip install datasets\n",
        "!pip install pdfminer\n",
        "!pip install rouge_score\n",
        "!pip install rouge"
      ],
      "metadata": {
        "id": "GTTiPiy5VZLh"
      },
      "id": "GTTiPiy5VZLh",
      "execution_count": null,
      "outputs": []
    },
    {
      "cell_type": "code",
      "execution_count": 2,
      "id": "788ceb0e",
      "metadata": {
        "id": "788ceb0e"
      },
      "outputs": [],
      "source": [
        "from io import StringIO\n",
        "\n",
        "from pdfminer.converter import TextConverter\n",
        "from pdfminer.layout import LAParams\n",
        "from pdfminer.pdfdocument import PDFDocument\n",
        "from pdfminer.pdfinterp import PDFResourceManager, PDFPageInterpreter\n",
        "from pdfminer.pdfpage import PDFPage\n",
        "from pdfminer.pdfparser import PDFParser\n",
        "from datasets import load_metric\n",
        "\n",
        "\n",
        "\n",
        "#from transformers import pipeline\n",
        "from transformers import AutoModelForSeq2SeqLM, AutoTokenizer"
      ]
    },
    {
      "cell_type": "code",
      "execution_count": 3,
      "id": "cf69f132",
      "metadata": {
        "colab": {
          "base_uri": "https://localhost:8080/"
        },
        "id": "cf69f132",
        "outputId": "1424dc51-9a67-4fec-c802-fd649189c279"
      },
      "outputs": [
        {
          "output_type": "stream",
          "name": "stdout",
          "text": [
            "New York (CNN)When Liana Barrientos was 23 years old, she got married in Westchester\n",
            "County, New York.\n",
            "A year later, she got married again in Westchester County, but to a different man and without\n",
            "divorcing her first husband.\n",
            "Only 18 days after that marriage, she got hitched yet again. Then, Barrientos declared \"I do\" five\n",
            "more times, sometimes only within two weeks of each other.\n",
            "In 2010, she married once more, this time in the Bronx. In an application for a marriage license,\n",
            "she stated it was her \"first and only\" marriage.\n",
            "Barrientos, now 39, is facing two criminal counts of \"offering a false instrument for filing in the\n",
            "first degree,\" referring to her false statements on the\n",
            "2010 marriage license application, according to court documents.\n",
            "Prosecutors said the marriages were part of an immigration scam.\n",
            "On Friday, she pleaded not guilty at State Supreme Court in the Bronx, according to her\n",
            "attorney, Christopher Wright, who declined to comment further.\n",
            "After leaving court, Barrientos was arrested and charged with theft of service and criminal\n",
            "trespass for allegedly sneaking into the New York subway through an emergency exit, said\n",
            "Detective\n",
            "Annette Markowski, a police spokeswoman. In total, Barrientos has been married 10 times, with\n",
            "nine of her marriages occurring between 1999 and 2002.\n",
            "All occurred either in Westchester County, Long Island, New Jersey or the Bronx. She is\n",
            "believed to still be married to four men, and at one time, she was married to eight men at once,\n",
            "prosecutors say.\n",
            "Prosecutors said the immigration scam involved some of her husbands, who filed for permanent\n",
            "residence status shortly after the marriages.\n",
            "Any divorces happened only after such filings were approved. It was unclear whether any of the\n",
            "men will be prosecuted.\n",
            "The case was referred to the Bronx District Attorney\\'s Office by Immigration and Customs\n",
            "Enforcement and the Department of Homeland Security\\'s\n",
            "Investigation Division. Seven of the men are from so-called \"red-flagged\" countries, including\n",
            "Egypt, Turkey, Georgia, Pakistan and Mali.\n",
            "Her eighth husband, Rashid Rajput, was deported in 2006 to his native Pakistan after an\n",
            "investigation by the Joint Terrorism Task Force.\n",
            "If convicted, Barrientos faces up to four years in prison.  Her next court appearance is\n",
            "scheduled for May 18.\n",
            "\n",
            "\f\n"
          ]
        }
      ],
      "source": [
        "output_string = StringIO()\n",
        "with open(\"data/summary text.pdf\" , \"rb\") as in_file:\n",
        "    parser = PDFParser(in_file)\n",
        "    doc = PDFDocument(parser)\n",
        "    rsrcmgr = PDFResourceManager()\n",
        "    device =  TextConverter(rsrcmgr, output_string, laparams= LAParams())\n",
        "    interpreter = PDFPageInterpreter(rsrcmgr, device)\n",
        "    \n",
        "    for page in PDFPage.create_pages(doc):\n",
        "        interpreter.process_page(page)\n",
        "        #print('*' * 100)\n",
        "        \n",
        "print(output_string.getvalue())"
      ]
    },
    {
      "cell_type": "code",
      "execution_count": 4,
      "id": "cf5081df",
      "metadata": {
        "id": "cf5081df"
      },
      "outputs": [],
      "source": [
        "metric = load_metric('rouge')"
      ]
    },
    {
      "cell_type": "code",
      "execution_count": 5,
      "id": "2c5e792d",
      "metadata": {
        "id": "2c5e792d"
      },
      "outputs": [],
      "source": [
        "text = output_string.getvalue()"
      ]
    },
    {
      "cell_type": "code",
      "execution_count": 6,
      "id": "7969000d",
      "metadata": {
        "id": "7969000d"
      },
      "outputs": [],
      "source": [
        "text = text[:-4]"
      ]
    },
    {
      "cell_type": "code",
      "execution_count": 7,
      "id": "48196eb6",
      "metadata": {
        "id": "48196eb6"
      },
      "outputs": [],
      "source": [
        "dataset = text.replace('\\n', ' ').replace('\\\\', '').replace('\\n\\n', '').replace('\\x0c','')"
      ]
    },
    {
      "cell_type": "code",
      "execution_count": 8,
      "id": "a98ce36e",
      "metadata": {
        "id": "a98ce36e"
      },
      "outputs": [],
      "source": [
        "n =512\n",
        "bank = [dataset[i:i+n] for i in range(0, len(dataset), n)]"
      ]
    },
    {
      "cell_type": "code",
      "execution_count": 9,
      "id": "9af7f2a1",
      "metadata": {
        "colab": {
          "base_uri": "https://localhost:8080/",
          "height": 81,
          "referenced_widgets": [
            "02c8feb835074481983a27f5682ea1fc",
            "30781a1e58c447f3912e5c85f55e669b",
            "84d5e3e56c74442496d511fec488c1c9",
            "b89db1bb2a5f4dce972083941831a5f0",
            "e97c69ff2774461b84728628bb51c268",
            "e411f4fb29fe4f90bec3d4460aace204",
            "1f0bda64e69942b78fcc83d4101c6281",
            "216c95448a124cbe974b34351ffa5506",
            "69165551bd3c421395d9926fdc241418",
            "6e64502c89b4463b836482e17d035840",
            "ef641d7fa1a942de84d3ad7ae9613e86",
            "1975394949e24b12ae1f5c549cccc802",
            "676b86487b734a1b9a9e7388d41b2c61",
            "5395aef5de62488ea1432cccb9706372",
            "146393dcdd6341c3812ea53b7f912a15",
            "920c58c32e3949a08b82a8bf67e946b2",
            "6bfddeeb5b834f5bad95451a4cf2a621",
            "8ee3645a8eac4060816160f16e121e93",
            "732b8db2f52846dfaf946038020d4243",
            "3a1cf02059294709863fabe92545b04e",
            "b497412faf58411f90478b79ecc4362e",
            "3dd91d9f5052463c8e97cda525f866a5"
          ]
        },
        "id": "9af7f2a1",
        "outputId": "fc909228-1ab0-4cca-8224-40e9806ddf03"
      },
      "outputs": [
        {
          "output_type": "display_data",
          "data": {
            "application/vnd.jupyter.widget-view+json": {
              "model_id": "02c8feb835074481983a27f5682ea1fc",
              "version_minor": 0,
              "version_major": 2
            },
            "text/plain": [
              "Downloading:   0%|          | 0.00/1.17k [00:00<?, ?B/s]"
            ]
          },
          "metadata": {}
        },
        {
          "output_type": "display_data",
          "data": {
            "application/vnd.jupyter.widget-view+json": {
              "model_id": "1975394949e24b12ae1f5c549cccc802",
              "version_minor": 0,
              "version_major": 2
            },
            "text/plain": [
              "Downloading:   0%|          | 0.00/850M [00:00<?, ?B/s]"
            ]
          },
          "metadata": {}
        }
      ],
      "source": [
        "model = AutoModelForSeq2SeqLM.from_pretrained(\"t5-base\")"
      ]
    },
    {
      "cell_type": "code",
      "execution_count": 10,
      "id": "3a84db51",
      "metadata": {
        "colab": {
          "base_uri": "https://localhost:8080/",
          "height": 81,
          "referenced_widgets": [
            "2bb33acf8bef4268b37d70c65da44d7e",
            "2bce424b732f434ea4d14414531c3465",
            "41db5e6df9cc42ba87bcf6097d5bc6f9",
            "e7c42eb5b73449beb4e1017129d8c9ce",
            "05798bece3774aa086754892f3e3dd22",
            "ebbe050d7a884e15b4b969621935cd26",
            "34a0761f11ec466299a0c0cdbbd1c1bd",
            "3943a2a65f734905808607e242b57335",
            "933f0d655fb046258c58dd013a7b0994",
            "153a7f9ba91648a482e0d6eeb57e3076",
            "d49f3ec546d24c73bcb435f6d0a395aa",
            "ee1d5d4c989a41ea82c9f3d2d29ca667",
            "e1de5afe0e574dcba77ac0f4e6cec218",
            "746ef7bd3fdb4797a48d144fec2c2913",
            "18069b9ba6234c4493c86e1c6f6739c6",
            "fb8a9bd6afa649e4a919968f62d38f26",
            "c37955b06ec649a3aef2361ef66776b3",
            "f7f69c2d1a3246b6b1acd6385223a298",
            "cff35ec1171b4586b2d47b1be15c3766",
            "21e14242ae2541b0bd2e5be8b0c73bfb",
            "1807d191d8eb4293bb36dc4eb06ca543",
            "954107c82a7d4f4e903005e660c6aa12"
          ]
        },
        "id": "3a84db51",
        "outputId": "f0952a97-f3dd-4bd6-d612-8dd33857e8fc"
      },
      "outputs": [
        {
          "output_type": "display_data",
          "data": {
            "application/vnd.jupyter.widget-view+json": {
              "model_id": "2bb33acf8bef4268b37d70c65da44d7e",
              "version_minor": 0,
              "version_major": 2
            },
            "text/plain": [
              "Downloading:   0%|          | 0.00/773k [00:00<?, ?B/s]"
            ]
          },
          "metadata": {}
        },
        {
          "output_type": "display_data",
          "data": {
            "application/vnd.jupyter.widget-view+json": {
              "model_id": "ee1d5d4c989a41ea82c9f3d2d29ca667",
              "version_minor": 0,
              "version_major": 2
            },
            "text/plain": [
              "Downloading:   0%|          | 0.00/1.32M [00:00<?, ?B/s]"
            ]
          },
          "metadata": {}
        }
      ],
      "source": [
        "tokenizer = AutoTokenizer.from_pretrained(\"t5-base\")"
      ]
    },
    {
      "cell_type": "code",
      "source": [
        ""
      ],
      "metadata": {
        "colab": {
          "base_uri": "https://localhost:8080/",
          "height": 49,
          "referenced_widgets": [
            "3298f6d2edc84a93b58c010a0e12cf31",
            "799c09abb0254a88a0eb061f9f8b2f76",
            "f92175eb5ce2432e93083d6cfd6468d5",
            "3e65ada2be32406db2e5be8f88d59945",
            "04dd2556a5aa428db18660f0a62f596b",
            "167106b342494756b72466b968fdb6c6",
            "f355f2246d464ed7beb6d5509e208251",
            "efe6a0e445d243acb89c05fb4a9316bf",
            "d9a7220b2bd642e2bd39816d2c9fe41b",
            "a8eb91febc1547259047871d3021b9ed",
            "5c3bce949d61495098d7e107badd97ba"
          ]
        },
        "id": "zy9MoFY8bJZf",
        "outputId": "ae93045f-126d-47db-a212-88dcbd1e453b"
      },
      "id": "zy9MoFY8bJZf",
      "execution_count": 11,
      "outputs": [
        {
          "output_type": "display_data",
          "data": {
            "application/vnd.jupyter.widget-view+json": {
              "model_id": "3298f6d2edc84a93b58c010a0e12cf31",
              "version_minor": 0,
              "version_major": 2
            },
            "text/plain": [
              "Downloading:   0%|          | 0.00/2.16k [00:00<?, ?B/s]"
            ]
          },
          "metadata": {}
        }
      ]
    },
    {
      "cell_type": "code",
      "execution_count": 12,
      "id": "50648403",
      "metadata": {
        "colab": {
          "base_uri": "https://localhost:8080/"
        },
        "id": "50648403",
        "outputId": "c4ea4d3c-4bc6-4571-9a01-7adafb74705a"
      },
      "outputs": [
        {
          "output_type": "stream",
          "name": "stdout",
          "text": [
            " a year after that marriage, she got hitched again in the Bronx. in 2010, she married again, this time in the Bronx. she says it was her \"first adolescent marriage\" barrientos pleads not guilty to two counts of \"offering a false instrument for filing in the first degree\" she is accused of false statements on the 2010 marriage license application. the marriages were part of an immigration scam, her attorney says. barrientos has been married 10 times, prosecutors say. she is accused of sneaking into the subway through an emergency exit. she is believed to still be married to four men. ration scam involved some of her husbands, who filed for permanent residence. any divorces happened only after such filings were approved. it was unclear whether any of the men will be prosecuted. barrientos faces up to four years in prison if convicted. her eighth husband, Rashid Rajput, was deported to his native Pakistan in 2006. if convicted, she faces up to four years in prison.\n"
          ]
        }
      ],
      "source": [
        "summary = []\n",
        "for data in bank:\n",
        "    #inputs, references = batch\n",
        "    inputs = tokenizer(\"summarize: \" + data, return_tensors=\"pt\", max_length=512, truncation=True)\n",
        "    outputs = model.generate(inputs[\"input_ids\"], max_length=150, min_length=40)\n",
        "    summary.append(tokenizer.decode(outputs[0]))\n",
        "    \n",
        "\n",
        "\n",
        "    #print(tokenizer.decode(outputs[0]))\n",
        "    \n",
        "result  = \"\".join(summary)\n",
        "result = result.replace(r'<pad>','').replace(r'</s>','')\n",
        "\n",
        "print(result)"
      ]
    },
    {
      "cell_type": "code",
      "source": [
        "\n",
        "metric.compute(predictions = [result], references = [dataset])"
      ],
      "metadata": {
        "colab": {
          "base_uri": "https://localhost:8080/"
        },
        "id": "q921fxUSVsaA",
        "outputId": "1b28ec1b-d1e2-4a0a-aa15-383e7e7b5ae0"
      },
      "id": "q921fxUSVsaA",
      "execution_count": 14,
      "outputs": [
        {
          "output_type": "execute_result",
          "data": {
            "text/plain": [
              "{'rouge1': AggregateScore(low=Score(precision=0.9216867469879518, recall=0.4090909090909091, fmeasure=0.5666666666666668), mid=Score(precision=0.9216867469879518, recall=0.4090909090909091, fmeasure=0.5666666666666668), high=Score(precision=0.9216867469879518, recall=0.4090909090909091, fmeasure=0.5666666666666668)),\n",
              " 'rouge2': AggregateScore(low=Score(precision=0.7151515151515152, recall=0.3163538873994638, fmeasure=0.43866171003717475), mid=Score(precision=0.7151515151515152, recall=0.3163538873994638, fmeasure=0.43866171003717475), high=Score(precision=0.7151515151515152, recall=0.3163538873994638, fmeasure=0.43866171003717475)),\n",
              " 'rougeL': AggregateScore(low=Score(precision=0.7710843373493976, recall=0.3422459893048128, fmeasure=0.4740740740740741), mid=Score(precision=0.7710843373493976, recall=0.3422459893048128, fmeasure=0.4740740740740741), high=Score(precision=0.7710843373493976, recall=0.3422459893048128, fmeasure=0.4740740740740741)),\n",
              " 'rougeLsum': AggregateScore(low=Score(precision=0.7710843373493976, recall=0.3422459893048128, fmeasure=0.4740740740740741), mid=Score(precision=0.7710843373493976, recall=0.3422459893048128, fmeasure=0.4740740740740741), high=Score(precision=0.7710843373493976, recall=0.3422459893048128, fmeasure=0.4740740740740741))}"
            ]
          },
          "metadata": {},
          "execution_count": 14
        }
      ]
    },
    {
      "cell_type": "code",
      "source": [
        "from rouge import Rouge\n",
        "r = Rouge()\n",
        "r.get_scores(result, dataset)"
      ],
      "metadata": {
        "colab": {
          "base_uri": "https://localhost:8080/"
        },
        "id": "60kbjP2sWFlP",
        "outputId": "d7090241-7bb7-4dbf-aef6-486e21ad7e9a"
      },
      "id": "60kbjP2sWFlP",
      "execution_count": 15,
      "outputs": [
        {
          "output_type": "execute_result",
          "data": {
            "text/plain": [
              "[{'rouge-1': {'f': 0.5438596448231935,\n",
              "   'p': 0.8691588785046729,\n",
              "   'r': 0.39574468085106385},\n",
              "  'rouge-2': {'f': 0.38133873815979497,\n",
              "   'p': 0.6266666666666667,\n",
              "   'r': 0.27405247813411077},\n",
              "  'rouge-l': {'f': 0.532163738390445,\n",
              "   'p': 0.8504672897196262,\n",
              "   'r': 0.3872340425531915}}]"
            ]
          },
          "metadata": {},
          "execution_count": 15
        }
      ]
    },
    {
      "cell_type": "code",
      "source": [
        ""
      ],
      "metadata": {
        "id": "_LXC_Kl-WE9I"
      },
      "id": "_LXC_Kl-WE9I",
      "execution_count": null,
      "outputs": []
    },
    {
      "cell_type": "markdown",
      "id": "0014d271",
      "metadata": {
        "id": "0014d271"
      },
      "source": [
        "### Trying out new model"
      ]
    },
    {
      "cell_type": "code",
      "execution_count": 16,
      "id": "47541ebb",
      "metadata": {
        "colab": {
          "base_uri": "https://localhost:8080/",
          "height": 81,
          "referenced_widgets": [
            "a99d10fd70264d05854291500b6d2f55",
            "14bb97920dee48709e0da7c020a86bfe",
            "2cb0bdb8d73b4b7493b1168022f039a5",
            "c8890616426844bbbd7d0f3c385148d4",
            "b0c0da580dca416a92d5fc582e168211",
            "517863161a1f417ea2dee44c913cd764",
            "4cf1eee7b45d4f6d8e0aef872eca542c",
            "7d1f664ca9ac40c3998eef342ffd52a8",
            "47956fd96d71425f8d68e116fd7a6699",
            "d27c288e18c441f8b29e8050bd1dd418",
            "9a13c780b2144399b8366b99412eecef",
            "2f86636028f545b5b3da6ed68759ce6e",
            "d62139c4afaa4d849d63c35c44d2259b",
            "5766ea59bab14b819bd66feb0e285176",
            "6d440a6d755d4cc9a2e09e82f2b32d9c",
            "92f2b40ed3ed418ea93077eb57308b3a",
            "e1d60a5c5c974ccda275159d2a65b9e3",
            "9b4cd2bfe1d744f6a9458b89a770a285",
            "76c42864c7b84c3d9b771562aa44cd07",
            "5733ec9cd3c740efb637edc402c32854",
            "52f246e37e2d4648b46b0176e37ccf43",
            "e2fa68f725034208ba33d8cfe5fecd25"
          ]
        },
        "id": "47541ebb",
        "outputId": "e3398405-e6bd-43b1-e05d-1b051f0757e3"
      },
      "outputs": [
        {
          "output_type": "display_data",
          "data": {
            "application/vnd.jupyter.widget-view+json": {
              "model_id": "a99d10fd70264d05854291500b6d2f55",
              "version_minor": 0,
              "version_major": 2
            },
            "text/plain": [
              "Downloading:   0%|          | 0.00/1.17k [00:00<?, ?B/s]"
            ]
          },
          "metadata": {}
        },
        {
          "output_type": "display_data",
          "data": {
            "application/vnd.jupyter.widget-view+json": {
              "model_id": "2f86636028f545b5b3da6ed68759ce6e",
              "version_minor": 0,
              "version_major": 2
            },
            "text/plain": [
              "Downloading:   0%|          | 0.00/231M [00:00<?, ?B/s]"
            ]
          },
          "metadata": {}
        }
      ],
      "source": [
        "model = AutoModelForSeq2SeqLM.from_pretrained(\"t5-small\")"
      ]
    },
    {
      "cell_type": "code",
      "execution_count": 17,
      "id": "e4f986aa",
      "metadata": {
        "colab": {
          "base_uri": "https://localhost:8080/",
          "height": 81,
          "referenced_widgets": [
            "681071d2262c4189a78e96d5475b0bd3",
            "230559771ad0449bbb1a5ebeb9231dde",
            "a8c3b8318776449faed54e21d267a3cb",
            "f032f2c559e646ee96fcbe035d710a62",
            "104b897de52d45e5957106e544b5a7f2",
            "c8119950ef6f43ebabb758a2d9f6944e",
            "d71c97c0d46e407687f2de4669c5622b",
            "41a6eeef9cdb4c1083c8c652f19126e2",
            "90854fe822e04fae8c3dd721a4076071",
            "cc45d0426aea4a6e817aa4e36163073d",
            "6a5f2eb8b6504851ade62d54f8cfa1db",
            "93c32a4abb4e420198b80872b77b5262",
            "eb8a4d33952942e797c2042e5260f9b9",
            "5cd45c50a7ea47f1b5ebbc56aff984de",
            "2ef718f279154dedbdedbf17300c9ab0",
            "75ee8d241bb1456297b2c0925b5f37b1",
            "27f95a162adb4a4ab9d62f5eedc86bee",
            "b3fb3faf655a4a1cae74a54eb1933aa9",
            "02c26abc3a7a466cbbdb352dedf65729",
            "29906a1c2f844244b1ef00ed44049304",
            "c66278e36b9642fc8441f3c31d009933",
            "4f5e65fb59fe42d99057772ea329ada7"
          ]
        },
        "id": "e4f986aa",
        "outputId": "70ac78b9-472c-43a2-d469-f883ea853722"
      },
      "outputs": [
        {
          "output_type": "display_data",
          "data": {
            "application/vnd.jupyter.widget-view+json": {
              "model_id": "681071d2262c4189a78e96d5475b0bd3",
              "version_minor": 0,
              "version_major": 2
            },
            "text/plain": [
              "Downloading:   0%|          | 0.00/773k [00:00<?, ?B/s]"
            ]
          },
          "metadata": {}
        },
        {
          "output_type": "display_data",
          "data": {
            "application/vnd.jupyter.widget-view+json": {
              "model_id": "93c32a4abb4e420198b80872b77b5262",
              "version_minor": 0,
              "version_major": 2
            },
            "text/plain": [
              "Downloading:   0%|          | 0.00/1.32M [00:00<?, ?B/s]"
            ]
          },
          "metadata": {}
        }
      ],
      "source": [
        "tokenizer = AutoTokenizer.from_pretrained(\"t5-small\")"
      ]
    },
    {
      "cell_type": "code",
      "execution_count": 18,
      "id": "40810959",
      "metadata": {
        "colab": {
          "base_uri": "https://localhost:8080/"
        },
        "id": "40810959",
        "outputId": "ef2ba140-a1c8-4eb9-b75a-d0b223070e8e"
      },
      "outputs": [
        {
          "output_type": "stream",
          "name": "stdout",
          "text": [
            " a year later, she got married again in westchester county, new york. only 18 days after that marriage, she got hitched yet again. in 2010, she married once more, this time in the Bronx. barrientos, now 39, is facing two criminal counts of \"offering a false instrument\" referring to her false statements on the 2010 marriage license application. the marriages were part of an immigration scam, her attorney says. in total, barrientos has been married 10 times, with nine of her marriages occurring between 1999 and 2002. she is believed to still be married to four men, and at one time, she was married to eight men at once. seven of the men are from so-called \"red-flagged\" countries. seven of the men are from so-called \"red-flagged\" countries. the case was referred to the district attorney's office. if convicted, barrientos faces up to four years in prison. if convicted, barrientos faces up to four years in prison. next court appearance is scheduled for may 18.\n"
          ]
        }
      ],
      "source": [
        "summary = []\n",
        "for datas in bank:\n",
        "    inputs = tokenizer(\"summarize: \" + datas, return_tensors=\"pt\", max_length=512, truncation=True)\n",
        "    outputs = model.generate(\n",
        "    inputs[\"input_ids\"], max_length=150, min_length=40, length_penalty=2.0, num_beams=4, early_stopping=True)\n",
        "    summary.append(tokenizer.decode(outputs[0]))\n",
        "    #print(tokenizer.decode(outputs[0]))\n",
        "    \n",
        "result  = \"\".join(summary)\n",
        "result = result.replace(r'<pad>','').replace(r'</s>','')\n",
        "\n",
        "print(result)"
      ]
    },
    {
      "cell_type": "code",
      "source": [
        "metric.compute(predictions = [result], references = [dataset])"
      ],
      "metadata": {
        "colab": {
          "base_uri": "https://localhost:8080/"
        },
        "id": "Z5_EtblJMHMa",
        "outputId": "78c0322c-fd40-475d-dafe-dab53a2d4bcd"
      },
      "id": "Z5_EtblJMHMa",
      "execution_count": 19,
      "outputs": [
        {
          "output_type": "execute_result",
          "data": {
            "text/plain": [
              "{'rouge1': AggregateScore(low=Score(precision=0.9112426035502958, recall=0.4117647058823529, fmeasure=0.567219152854512), mid=Score(precision=0.9112426035502958, recall=0.4117647058823529, fmeasure=0.567219152854512), high=Score(precision=0.9112426035502958, recall=0.4117647058823529, fmeasure=0.567219152854512)),\n",
              " 'rouge2': AggregateScore(low=Score(precision=0.8035714285714286, recall=0.36193029490616624, fmeasure=0.4990757855822551), mid=Score(precision=0.8035714285714286, recall=0.36193029490616624, fmeasure=0.4990757855822551), high=Score(precision=0.8035714285714286, recall=0.36193029490616624, fmeasure=0.4990757855822551)),\n",
              " 'rougeL': AggregateScore(low=Score(precision=0.834319526627219, recall=0.3770053475935829, fmeasure=0.5193370165745856), mid=Score(precision=0.834319526627219, recall=0.3770053475935829, fmeasure=0.5193370165745856), high=Score(precision=0.834319526627219, recall=0.3770053475935829, fmeasure=0.5193370165745856)),\n",
              " 'rougeLsum': AggregateScore(low=Score(precision=0.834319526627219, recall=0.3770053475935829, fmeasure=0.5193370165745856), mid=Score(precision=0.834319526627219, recall=0.3770053475935829, fmeasure=0.5193370165745856), high=Score(precision=0.834319526627219, recall=0.3770053475935829, fmeasure=0.5193370165745856))}"
            ]
          },
          "metadata": {},
          "execution_count": 19
        }
      ]
    },
    {
      "cell_type": "code",
      "source": [
        "#with beam\n",
        "from rouge import Rouge\n",
        "r = Rouge()\n",
        "r.get_scores(result, dataset)"
      ],
      "metadata": {
        "colab": {
          "base_uri": "https://localhost:8080/"
        },
        "id": "gajtta-cZzbW",
        "outputId": "d085060b-71ab-48ea-8e0c-3d57b7374858"
      },
      "id": "gajtta-cZzbW",
      "execution_count": 20,
      "outputs": [
        {
          "output_type": "execute_result",
          "data": {
            "text/plain": [
              "[{'rouge-1': {'f': 0.5088757354075488,\n",
              "   'p': 0.8349514563106796,\n",
              "   'r': 0.3659574468085106},\n",
              "  'rouge-2': {'f': 0.4123711298793921,\n",
              "   'p': 0.704225352112676,\n",
              "   'r': 0.2915451895043732},\n",
              "  'rouge-l': {'f': 0.5029585756442352,\n",
              "   'p': 0.8252427184466019,\n",
              "   'r': 0.3617021276595745}}]"
            ]
          },
          "metadata": {},
          "execution_count": 20
        }
      ]
    },
    {
      "cell_type": "markdown",
      "source": [
        "Test on another pdf"
      ],
      "metadata": {
        "id": "iSwDs4N6Z0w5"
      },
      "id": "iSwDs4N6Z0w5"
    },
    {
      "cell_type": "code",
      "source": [
        "output_string = StringIO()\n",
        "with open(\"data/summary_one.pdf\" , \"rb\") as in_file:\n",
        "    parser = PDFParser(in_file)\n",
        "    doc = PDFDocument(parser)\n",
        "    rsrcmgr = PDFResourceManager()\n",
        "    device =  TextConverter(rsrcmgr, output_string, laparams= LAParams())\n",
        "    interpreter = PDFPageInterpreter(rsrcmgr, device)\n",
        "    \n",
        "    for page in PDFPage.create_pages(doc):\n",
        "        interpreter.process_page(page)\n",
        "        #print('*' * 100)\n",
        "        \n",
        "print(output_string.getvalue())"
      ],
      "metadata": {
        "colab": {
          "base_uri": "https://localhost:8080/"
        },
        "id": "XS7S2rK_URUF",
        "outputId": "bcef8d77-bf9a-476d-9dab-e66d0ed398d5"
      },
      "id": "XS7S2rK_URUF",
      "execution_count": 21,
      "outputs": [
        {
          "output_type": "stream",
          "name": "stdout",
          "text": [
            "There were certain underlying conditions that enabled department stores to\n",
            "grow up when they did. From the start, they all catered for middle-class\n",
            "customers and set out to convey to them an air of luxury and solid comfort. Of\n",
            "necessity, they all arose in central positions where large numbers of people\n",
            "could reach them easily by means of public transport. Physically, they grew up\n",
            "in an era of big technical developments in building so that they could a\u0000ord\n",
            "multi-storey palaces and could have enormous plate-glass windows for\n",
            "display, lighting and novelties like lifts.\n",
            "Above all, the department stores rose with the rise of Victorian white-collar\n",
            "workers, the small-scale businessmen and professionals whose womenfolk\n",
            "had money to spare for a few luxuries and were gradually switching the\n",
            "emphasis of their housekeeping expenditure from food to other items.\n",
            "\n",
            "Most of these stores drew enough customers to ﬁll their huge shops by o\u0000ering\n",
            "two new things. One was the new manufactures, particularly clothing, goods\n",
            "and accessories, household furnishings and equipment of all kinds that were\n",
            "coming out of the factories in increasing quantities. The specialist shops\n",
            "stocked these too, of course, but the department stores always made it a point\n",
            "to be the ﬁrst in the ﬁeld if they could with novelty of any kind. And the other\n",
            "special thing they o\u0000ered the middle-class shoppers, many of whom were\n",
            "newly rich and a little experienced in luxury shopping, was a lavish display and\n",
            "wide choice of these goods.\n",
            "\n",
            "The department stores, however, introduced into a respectable class trade the\n",
            "vulgar practice of openly marking or ticketing goods with their prices – a\n",
            "practice that had not even yet penetrated shops that could claim that they were\n",
            "really exclusive. But the department stores as a rule made a virtue not only of\n",
            "displaying their wares as openly as they could but also of boldly pricing them\n",
            "for all to see. Their large-scale purchases enabled them to sell cheaply and they\n",
            "were not ashamed in the early days to make price one of their selling points.\n",
            "‘Store price’ was a by-word for cheapness.\n",
            "\n",
            "The lines they concentrated on were fashion goods, things that shoppers were\n",
            "prepared to travel long distances for and to take some time and trouble in\n",
            "choosing. The department stores were at least partly responsible for the way\n",
            "the middle classes gradually became fashion conscious, and helped to mould\n",
            "their tastes. They were the ﬁrst preachers of the modern creed that goods\n",
            "\n",
            "\fought to be replaced when they are outdated rather than when they are\n",
            "outworn.\n",
            "\n",
            "\f\n"
          ]
        }
      ]
    },
    {
      "cell_type": "code",
      "source": [
        "text = output_string.getvalue()\n",
        "text = text[:-4]\n",
        "dataset = text.replace('\\n', ' ').replace('\\\\', '').replace('\\n\\n', '').replace('\\x0c','').replace('\\x00', 'ff')\n",
        "dataset"
      ],
      "metadata": {
        "colab": {
          "base_uri": "https://localhost:8080/",
          "height": 261
        },
        "id": "ApnxIAnCVj0O",
        "outputId": "cdade30f-f193-4d5c-bc2a-e1c2f541f653"
      },
      "id": "ApnxIAnCVj0O",
      "execution_count": 22,
      "outputs": [
        {
          "output_type": "execute_result",
          "data": {
            "application/vnd.google.colaboratory.intrinsic+json": {
              "type": "string"
            },
            "text/plain": [
              "'There were certain underlying conditions that enabled department stores to grow up when they did. From the start, they all catered for middle-class customers and set out to convey to them an air of luxury and solid comfort. Of necessity, they all arose in central positions where large numbers of people could reach them easily by means of public transport. Physically, they grew up in an era of big technical developments in building so that they could afford multi-storey palaces and could have enormous plate-glass windows for display, lighting and novelties like lifts. Above all, the department stores rose with the rise of Victorian white-collar workers, the small-scale businessmen and professionals whose womenfolk had money to spare for a few luxuries and were gradually switching the emphasis of their housekeeping expenditure from food to other items.  Most of these stores drew enough customers to ﬁll their huge shops by offering two new things. One was the new manufactures, particularly clothing, goods and accessories, household furnishings and equipment of all kinds that were coming out of the factories in increasing quantities. The specialist shops stocked these too, of course, but the department stores always made it a point to be the ﬁrst in the ﬁeld if they could with novelty of any kind. And the other special thing they offered the middle-class shoppers, many of whom were newly rich and a little experienced in luxury shopping, was a lavish display and wide choice of these goods.  The department stores, however, introduced into a respectable class trade the vulgar practice of openly marking or ticketing goods with their prices – a practice that had not even yet penetrated shops that could claim that they were really exclusive. But the department stores as a rule made a virtue not only of displaying their wares as openly as they could but also of boldly pricing them for all to see. Their large-scale purchases enabled them to sell cheaply and they were not ashamed in the early days to make price one of their selling points. ‘Store price’ was a by-word for cheapness.  The lines they concentrated on were fashion goods, things that shoppers were prepared to travel long distances for and to take some time and trouble in choosing. The department stores were at least partly responsible for the way the middle classes gradually became fashion conscious, and helped to mould their tastes. They were the ﬁrst preachers of the modern creed that goods  ought to be replaced when they are outdated rather than when they are outworn'"
            ]
          },
          "metadata": {},
          "execution_count": 22
        }
      ]
    },
    {
      "cell_type": "code",
      "source": [
        "\n",
        "n =512\n",
        "bank = [dataset[i:i+n] for i in range(0, len(dataset), n)]\n",
        "\n",
        "model = AutoModelForSeq2SeqLM.from_pretrained(\"t5-base\")\n",
        "tokenizer = AutoTokenizer.from_pretrained(\"t5-base\")\n",
        "\n",
        "\n",
        "summary = []\n",
        "for data in bank:\n",
        "    #inputs, references = batch\n",
        "    inputs = tokenizer(\"summarize: \" + data, return_tensors=\"pt\", max_length=512, truncation=True)\n",
        "    outputs = model.generate(inputs[\"input_ids\"], max_length=150, min_length=40)\n",
        "    summary.append(tokenizer.decode(outputs[0]))\n",
        "    \n",
        "\n",
        "\n",
        "    #print(tokenizer.decode(outputs[0]))\n",
        "    \n",
        "result  = \"\".join(summary)\n",
        "result = result.replace(r'<pad>','').replace(r'</s>','')\n",
        "\n",
        "print(result)\n",
        "\n",
        "metric.compute(predictions = [result], references = [dataset])"
      ],
      "metadata": {
        "colab": {
          "base_uri": "https://localhost:8080/"
        },
        "id": "ZA0qiX1QUROt",
        "outputId": "5f5bd8ae-df9a-41f8-ce71-b6d8e8dfca06"
      },
      "id": "ZA0qiX1QUROt",
      "execution_count": 23,
      "outputs": [
        {
          "output_type": "stream",
          "name": "stdout",
          "text": [
            " bob greene: department stores were a good example of how they grew up. he says they catered for middle-class customers and set out to convey comfort. greene: they grew up in an era of big technical developments in building. department stores rose with the rise of Victorian white-collar workers. womenfolk had money to spare for a few luxuries and were gradually switching the emphasis of their housekeeping expenditure from food to other items. department stores always made it a point to be the first in the field if they could with novelty. department stores also offered a lavish display and wide choice of goods. bob greene: department stores, holland, scotland, england, wales, scotland, ireland, scotland. department stores made virtue of displaying wares as openly as they could. they were not ashamed to make price one of their sacrificial sacrificial sacrificial sacrificial sacrificial sacrificial sacrificial sacrificial sacrificial sacrificial sacrificial sacrificial sacrificial sacrificial sacrificial sacrificial sacrificial department stores were at least partly responsible for the way the middle classes gradually became fashion conscious. they were the first preachers of the modern creed that goods ought to be replaced when they are outdated rather than when they are outwound. ornithologist: ornithologist: ornithologist: ornithologist: ornithologist: ornithologist: ornithologist: ornithologist: ornithologist: ornithologist: ornithologist: ornithologist: ornithologist: ornithologist: ornithologist: ornithologist: ornithologist: ornithologist: ornithologist\n"
          ]
        },
        {
          "output_type": "execute_result",
          "data": {
            "text/plain": [
              "{'rouge1': AggregateScore(low=Score(precision=0.728110599078341, recall=0.3665893271461717, fmeasure=0.4876543209876543), mid=Score(precision=0.728110599078341, recall=0.3665893271461717, fmeasure=0.4876543209876543), high=Score(precision=0.728110599078341, recall=0.3665893271461717, fmeasure=0.4876543209876543)),\n",
              " 'rouge2': AggregateScore(low=Score(precision=0.5879629629629629, recall=0.29534883720930233, fmeasure=0.393188854489164), mid=Score(precision=0.5879629629629629, recall=0.29534883720930233, fmeasure=0.393188854489164), high=Score(precision=0.5879629629629629, recall=0.29534883720930233, fmeasure=0.393188854489164)),\n",
              " 'rougeL': AggregateScore(low=Score(precision=0.7004608294930875, recall=0.35266821345707655, fmeasure=0.4691358024691358), mid=Score(precision=0.7004608294930875, recall=0.35266821345707655, fmeasure=0.4691358024691358), high=Score(precision=0.7004608294930875, recall=0.35266821345707655, fmeasure=0.4691358024691358)),\n",
              " 'rougeLsum': AggregateScore(low=Score(precision=0.7004608294930875, recall=0.35266821345707655, fmeasure=0.4691358024691358), mid=Score(precision=0.7004608294930875, recall=0.35266821345707655, fmeasure=0.4691358024691358), high=Score(precision=0.7004608294930875, recall=0.35266821345707655, fmeasure=0.4691358024691358))}"
            ]
          },
          "metadata": {},
          "execution_count": 23
        }
      ]
    },
    {
      "cell_type": "code",
      "source": [
        "\n",
        "n =512\n",
        "bank = [dataset[i:i+n] for i in range(0, len(dataset), n)]\n",
        "\n",
        "model = AutoModelForSeq2SeqLM.from_pretrained(\"t5-small\")\n",
        "tokenizer = AutoTokenizer.from_pretrained(\"t5-small\")\n",
        "\n",
        "\n",
        "summary = []\n",
        "for data in bank:\n",
        "    #inputs, references = batch\n",
        "    inputs = tokenizer(\"summarize: \" + data, return_tensors=\"pt\", max_length=512, truncation=True)\n",
        "    outputs = model.generate(inputs[\"input_ids\"], max_length=150, min_length=40)\n",
        "    summary.append(tokenizer.decode(outputs[0]))\n",
        "    \n",
        "\n",
        "\n",
        "    #print(tokenizer.decode(outputs[0]))\n",
        "    \n",
        "result  = \"\".join(summary)\n",
        "result = result.replace(r'<pad>','').replace(r'</s>','')\n",
        "\n",
        "print(result)\n",
        "\n",
        "metric.compute(predictions = [result], references = [dataset])"
      ],
      "metadata": {
        "colab": {
          "base_uri": "https://localhost:8080/"
        },
        "id": "CMu4Uv3BURLW",
        "outputId": "8a68ec35-23c3-408c-b76f-c90f4116545b"
      },
      "id": "CMu4Uv3BURLW",
      "execution_count": 24,
      "outputs": [
        {
          "output_type": "stream",
          "name": "stdout",
          "text": [
            " department stores were built in the early 1900s to cater for middle-class customers. they all grew up in central positions where large numbers of people could reach them easily by means of public transport. department stores rose with the rise of white-collar workers. the small-scale businessmen and professionals whose womenfolk had money to spare. most of these stores drew enough customers to fill their huge shops. department stores were the first in the field if they could with novelty of any kind. the department stores, hodgson, hodgson, san francisco, san francisco, san francisco, san francisco, san francisco, san francisco, san francisco, san francisco, san francisco, san francisco, san francisco, san wever introduced the vulgar practice of openly marking or ticketing goods with their prices. but the department stores made a virtue not only of displaying their wares as openly as they could but also of boldly pricing them for all to see. large-scale purchases enabled them to sell cheaply and they were not ashamed in the early days to make price one of their sex. department stores were at least partly responsible for the way the middle classes became fashion conscious. they were the first preachers of the modern creed that goods should be replaced when they are outdated rather than when they are outwhelmed. orna sass. sass.................................................\n"
          ]
        },
        {
          "output_type": "execute_result",
          "data": {
            "text/plain": [
              "{'rouge1': AggregateScore(low=Score(precision=0.8198198198198198, recall=0.4222737819025522, fmeasure=0.557427258805513), mid=Score(precision=0.8198198198198198, recall=0.4222737819025522, fmeasure=0.557427258805513), high=Score(precision=0.8198198198198198, recall=0.4222737819025522, fmeasure=0.557427258805513)),\n",
              " 'rouge2': AggregateScore(low=Score(precision=0.6968325791855203, recall=0.3581395348837209, fmeasure=0.4731182795698925), mid=Score(precision=0.6968325791855203, recall=0.3581395348837209, fmeasure=0.4731182795698925), high=Score(precision=0.6968325791855203, recall=0.3581395348837209, fmeasure=0.4731182795698925)),\n",
              " 'rougeL': AggregateScore(low=Score(precision=0.7927927927927928, recall=0.40835266821345706, fmeasure=0.5390505359877488), mid=Score(precision=0.7927927927927928, recall=0.40835266821345706, fmeasure=0.5390505359877488), high=Score(precision=0.7927927927927928, recall=0.40835266821345706, fmeasure=0.5390505359877488)),\n",
              " 'rougeLsum': AggregateScore(low=Score(precision=0.7927927927927928, recall=0.40835266821345706, fmeasure=0.5390505359877488), mid=Score(precision=0.7927927927927928, recall=0.40835266821345706, fmeasure=0.5390505359877488), high=Score(precision=0.7927927927927928, recall=0.40835266821345706, fmeasure=0.5390505359877488))}"
            ]
          },
          "metadata": {},
          "execution_count": 24
        }
      ]
    },
    {
      "cell_type": "code",
      "source": [
        ""
      ],
      "metadata": {
        "id": "0ZCaGaUEURIJ"
      },
      "id": "0ZCaGaUEURIJ",
      "execution_count": null,
      "outputs": []
    },
    {
      "cell_type": "code",
      "source": [
        "output_string = StringIO()\n",
        "with open(\"data/summary_two.pdf\" , \"rb\") as in_file:\n",
        "    parser = PDFParser(in_file)\n",
        "    doc = PDFDocument(parser)\n",
        "    rsrcmgr = PDFResourceManager()\n",
        "    device =  TextConverter(rsrcmgr, output_string, laparams= LAParams())\n",
        "    interpreter = PDFPageInterpreter(rsrcmgr, device)\n",
        "    \n",
        "    for page in PDFPage.create_pages(doc):\n",
        "        interpreter.process_page(page)\n",
        "        #print('*' * 100)\n",
        "        \n",
        "print(output_string.getvalue())"
      ],
      "metadata": {
        "colab": {
          "base_uri": "https://localhost:8080/"
        },
        "id": "3Z1R5ZwSURFU",
        "outputId": "129d903b-1ad5-489b-ece8-ee006b937eaa"
      },
      "id": "3Z1R5ZwSURFU",
      "execution_count": 25,
      "outputs": [
        {
          "output_type": "stream",
          "name": "stdout",
          "text": [
            "Despite the fact that our planet is habitable only because most of it is\n",
            "composed of water, it is the oceans that are the most immediately threatened\n",
            "part of the earth.\n",
            "\n",
            "It was in the oceans that life ﬁrst began to stir, shielded by the waters from the\n",
            "sun’s irresistible radiation. It was from the oceans that planets and animals\n",
            "emerged to colonize the land surface of the planet.  It is the oceans today that\n",
            "provide the water vapour which, drawn up by the sun, falls upon the earth in\n",
            "harvest-bringing, life-sustaining rain. The ocean is a major provider of the\n",
            "oxygen released by its plankton for the beneﬁt of all the species of land, air and\n",
            "sea – breathing with lungs and gills.\n",
            "\n",
            "Without special qualities for holding heat, much of the earth would be\n",
            "uninhabitable.\n",
            "\n",
            "The oceans are the coolants of the tropics, the bringers of warm currents to\n",
            "cold regions, the universal moderators of temperature throughout the globe.\n",
            "\n",
            "The oceans are also indispensable to man because they ﬁrst created the\n",
            "worldwide currents of sea-borne trade which have steadily drawn our planet\n",
            "into a single economic system. They still produce protein. In 1996, sixty-three\n",
            "million metric tons of ﬁsh came from the sea, estimated to be approximately\n",
            "one-ﬁfth of the ocean’s production.\n",
            "\n",
            "Fish, if turned directly to human use, could make up a large part of the protein\n",
            "diet required for the world’s children, especially those in developing countries,\n",
            "at a very low cost. But, in one of the world economy’s most unacceptable\n",
            "diversions of resources, ﬁfty percent of the harvest from the oceans is\n",
            "converted to ﬁsh meal which today ends up feeding pigs and chickens in\n",
            "developed countries. It is very sad that ‘developed’ animal pets have the chance\n",
            "of a better diet than very many ‘developing’ babies.\n",
            "\n",
            "\f\n"
          ]
        }
      ]
    },
    {
      "cell_type": "code",
      "source": [
        "text = output_string.getvalue()\n",
        "text = text[:-4]\n",
        "dataset = text.replace('\\n', ' ').replace('\\\\', '').replace('\\n\\n', '').replace('\\x0c','').replace('\\x00', 'ff')\n",
        "dataset"
      ],
      "metadata": {
        "colab": {
          "base_uri": "https://localhost:8080/",
          "height": 192
        },
        "id": "wbh8fC8nURCL",
        "outputId": "2309d0a8-60a8-4a7b-fa72-267e4335c629"
      },
      "id": "wbh8fC8nURCL",
      "execution_count": 26,
      "outputs": [
        {
          "output_type": "execute_result",
          "data": {
            "application/vnd.google.colaboratory.intrinsic+json": {
              "type": "string"
            },
            "text/plain": [
              "'Despite the fact that our planet is habitable only because most of it is composed of water, it is the oceans that are the most immediately threatened part of the earth.  It was in the oceans that life ﬁrst began to stir, shielded by the waters from the sun’s irresistible radiation. It was from the oceans that planets and animals emerged to colonize the land surface of the planet.  It is the oceans today that provide the water vapour which, drawn up by the sun, falls upon the earth in harvest-bringing, life-sustaining rain. The ocean is a major provider of the oxygen released by its plankton for the beneﬁt of all the species of land, air and sea – breathing with lungs and gills.  Without special qualities for holding heat, much of the earth would be uninhabitable.  The oceans are the coolants of the tropics, the bringers of warm currents to cold regions, the universal moderators of temperature throughout the globe.  The oceans are also indispensable to man because they ﬁrst created the worldwide currents of sea-borne trade which have steadily drawn our planet into a single economic system. They still produce protein. In 1996, sixty-three million metric tons of ﬁsh came from the sea, estimated to be approximately one-ﬁfth of the ocean’s production.  Fish, if turned directly to human use, could make up a large part of the protein diet required for the world’s children, especially those in developing countries, at a very low cost. But, in one of the world economy’s most unacceptable diversions of resources, ﬁfty percent of the harvest from the oceans is converted to ﬁsh meal which today ends up feeding pigs and chickens in developed countries. It is very sad that ‘developed’ animal pets have the chance of a better diet than very many ‘developing’ babies'"
            ]
          },
          "metadata": {},
          "execution_count": 26
        }
      ]
    },
    {
      "cell_type": "code",
      "source": [
        "\n",
        "n =512\n",
        "bank = [dataset[i:i+n] for i in range(0, len(dataset), n)]\n",
        "\n",
        "model = AutoModelForSeq2SeqLM.from_pretrained(\"t5-base\")\n",
        "tokenizer = AutoTokenizer.from_pretrained(\"t5-base\")\n",
        "\n",
        "\n",
        "summary = []\n",
        "for data in bank:\n",
        "    #inputs, references = batch\n",
        "    inputs = tokenizer(\"summarize: \" + data, return_tensors=\"pt\", max_length=512, truncation=True)\n",
        "    outputs = model.generate(inputs[\"input_ids\"], max_length=150, min_length=40)\n",
        "    summary.append(tokenizer.decode(outputs[0]))\n",
        "    \n",
        "\n",
        "\n",
        "    #print(tokenizer.decode(outputs[0]))\n",
        "    \n",
        "result  = \"\".join(summary)\n",
        "result = result.replace(r'<pad>','').replace(r'</s>','')\n",
        "\n",
        "print(result)\n",
        "\n",
        "metric.compute(predictions = [result], references = [dataset])"
      ],
      "metadata": {
        "colab": {
          "base_uri": "https://localhost:8080/"
        },
        "id": "TR_pvzfEUQ5r",
        "outputId": "6f775b68-6bb2-408e-d32c-1c72cd0f6b24"
      },
      "id": "TR_pvzfEUQ5r",
      "execution_count": 27,
      "outputs": [
        {
          "output_type": "stream",
          "name": "stdout",
          "text": [
            " the oceans provide the water vapour which, drawn up by the sun, falls upon the earth in harvest-bringing, life-sustaining, life-sustaining, life-sustaining, life-sustaining, life-sustaining, life-sustaining, life-sustaining, life-sustaining, life-sustaining, life-sustaining, life-sustaining, life-sustaining, life-sustaining, life-sustaining, life-sustaining, life-sustaining, life-sustaining, life-sustaining, life-sustaining, life-sustaining, life-sustaining, life-sustaining, the oceans are the coolants of the tropics, the bringers of warm currents to cold regions, the universal moderators of temperature throughout the globe. without special qualities for holding heat, much of the earth would be uninhabitable. fish could make up a large part of the protein diet required for the world's children, especially those in developing countries. fifty pence of fish is now being pumped into the oceans every year. rcent of the harvest from the oceans is converted to fish meal. today it feeds pigs and chickens in developed countries. sad that 'developed' animal pets have chance of better diet.\n"
          ]
        },
        {
          "output_type": "execute_result",
          "data": {
            "text/plain": [
              "{'rouge1': AggregateScore(low=Score(precision=0.6867469879518072, recall=0.3665594855305466, fmeasure=0.47798742138364786), mid=Score(precision=0.6867469879518072, recall=0.3665594855305466, fmeasure=0.47798742138364786), high=Score(precision=0.6867469879518072, recall=0.3665594855305466, fmeasure=0.47798742138364786)),\n",
              " 'rouge2': AggregateScore(low=Score(precision=0.5757575757575758, recall=0.3064516129032258, fmeasure=0.39999999999999997), mid=Score(precision=0.5757575757575758, recall=0.3064516129032258, fmeasure=0.39999999999999997), high=Score(precision=0.5757575757575758, recall=0.3064516129032258, fmeasure=0.39999999999999997)),\n",
              " 'rougeL': AggregateScore(low=Score(precision=0.5963855421686747, recall=0.3183279742765273, fmeasure=0.4150943396226415), mid=Score(precision=0.5963855421686747, recall=0.3183279742765273, fmeasure=0.4150943396226415), high=Score(precision=0.5963855421686747, recall=0.3183279742765273, fmeasure=0.4150943396226415)),\n",
              " 'rougeLsum': AggregateScore(low=Score(precision=0.5963855421686747, recall=0.3183279742765273, fmeasure=0.4150943396226415), mid=Score(precision=0.5963855421686747, recall=0.3183279742765273, fmeasure=0.4150943396226415), high=Score(precision=0.5963855421686747, recall=0.3183279742765273, fmeasure=0.4150943396226415))}"
            ]
          },
          "metadata": {},
          "execution_count": 27
        }
      ]
    },
    {
      "cell_type": "code",
      "source": [
        "\n",
        "n =512\n",
        "bank = [dataset[i:i+n] for i in range(0, len(dataset), n)]\n",
        "\n",
        "model = AutoModelForSeq2SeqLM.from_pretrained(\"t5-small\")\n",
        "tokenizer = AutoTokenizer.from_pretrained(\"t5-small\")\n",
        "\n",
        "\n",
        "summary = []\n",
        "for data in bank:\n",
        "    #inputs, references = batch\n",
        "    inputs = tokenizer(\"summarize: \" + data, return_tensors=\"pt\", max_length=512, truncation=True)\n",
        "    outputs = model.generate(inputs[\"input_ids\"], max_length=150, min_length=40)\n",
        "    summary.append(tokenizer.decode(outputs[0]))\n",
        "    \n",
        "\n",
        "\n",
        "    #print(tokenizer.decode(outputs[0]))\n",
        "    \n",
        "result  = \"\".join(summary)\n",
        "result = result.replace(r'<pad>','').replace(r'</s>','')\n",
        "\n",
        "print(result)\n",
        "\n",
        "metric.compute(predictions = [result], references = [dataset])"
      ],
      "metadata": {
        "colab": {
          "base_uri": "https://localhost:8080/"
        },
        "id": "r9nlZVEpWnLf",
        "outputId": "be6bf3e9-db47-4ff5-ab63-00a0faebeb14"
      },
      "id": "r9nlZVEpWnLf",
      "execution_count": 28,
      "outputs": [
        {
          "output_type": "stream",
          "name": "stdout",
          "text": [
            " oceans are the most immediately threatened part of the earth. it was in the oceans that life first began to stir. it was from the oceans that planets and animals emerged to colonize the land surface of the planet. the oceans are the coolants of the tropics, the bringers of warm currents to cold regions, the universal moderators of temperature throughout the globe. the oceans are also indispensable to man because they first created the worldwide currents of sebastian. in 1996, sixty-three million metric tons of fish came from the sea. fish could make up a large part of the protein diet required for the world’s children. rcent of the harvest from the oceans is converted to fish meal which ends up feeding pigs and chickens in developed countries. pigs and chickens in developed countries have the chance of a better diet than many 'developing' babies.\n"
          ]
        },
        {
          "output_type": "execute_result",
          "data": {
            "text/plain": [
              "{'rouge1': AggregateScore(low=Score(precision=0.9459459459459459, recall=0.45016077170418006, fmeasure=0.6100217864923747), mid=Score(precision=0.9459459459459459, recall=0.45016077170418006, fmeasure=0.6100217864923747), high=Score(precision=0.9459459459459459, recall=0.45016077170418006, fmeasure=0.6100217864923747)),\n",
              " 'rouge2': AggregateScore(low=Score(precision=0.8231292517006803, recall=0.3903225806451613, fmeasure=0.5295404814004376), mid=Score(precision=0.8231292517006803, recall=0.3903225806451613, fmeasure=0.5295404814004376), high=Score(precision=0.8231292517006803, recall=0.3903225806451613, fmeasure=0.5295404814004376)),\n",
              " 'rougeL': AggregateScore(low=Score(precision=0.9256756756756757, recall=0.4405144694533762, fmeasure=0.596949891067538), mid=Score(precision=0.9256756756756757, recall=0.4405144694533762, fmeasure=0.596949891067538), high=Score(precision=0.9256756756756757, recall=0.4405144694533762, fmeasure=0.596949891067538)),\n",
              " 'rougeLsum': AggregateScore(low=Score(precision=0.9256756756756757, recall=0.4405144694533762, fmeasure=0.596949891067538), mid=Score(precision=0.9256756756756757, recall=0.4405144694533762, fmeasure=0.596949891067538), high=Score(precision=0.9256756756756757, recall=0.4405144694533762, fmeasure=0.596949891067538))}"
            ]
          },
          "metadata": {},
          "execution_count": 28
        }
      ]
    },
    {
      "cell_type": "code",
      "source": [
        "output_string = StringIO()\n",
        "with open(\"data/summary_three.pdf\" , \"rb\") as in_file:\n",
        "    parser = PDFParser(in_file)\n",
        "    doc = PDFDocument(parser)\n",
        "    rsrcmgr = PDFResourceManager()\n",
        "    device =  TextConverter(rsrcmgr, output_string, laparams= LAParams())\n",
        "    interpreter = PDFPageInterpreter(rsrcmgr, device)\n",
        "    \n",
        "    for page in PDFPage.create_pages(doc):\n",
        "        interpreter.process_page(page)\n",
        "        #print('*' * 100)\n",
        "        \n",
        "print(output_string.getvalue())"
      ],
      "metadata": {
        "colab": {
          "base_uri": "https://localhost:8080/"
        },
        "id": "er9bgX78Wxoa",
        "outputId": "2be6f27f-03db-430d-cec5-7edb54a8548f"
      },
      "id": "er9bgX78Wxoa",
      "execution_count": 29,
      "outputs": [
        {
          "output_type": "stream",
          "name": "stdout",
          "text": [
            "It has been the custom of historians to divide the factors for wars into\n",
            "immediate and underlying causes. Among these underlying causes, the\n",
            "economic factor is generally placed at the head of the list. Indeed, the most\n",
            "important of these was the industrial and commercial rivalry between\n",
            "Germany and Great Britain.\n",
            "\n",
            "Germany, after its uniﬁcation in 1871, went through a period of economic\n",
            "miracle. By 1914, she was producing more iron and steel than Britain and\n",
            "France combined. In chemicals, in dye, and in the manufacture of scientiﬁc\n",
            "equipment she led the world. The products of her industries were crowding\n",
            "British manufactures in nearly every market for continental Europe, in the Far\n",
            "East and in Britain itself.\n",
            "\n",
            "There is evidence that certain interests in Great Britain were becoming\n",
            "seriously alarmed over the menace of German competition.\n",
            "\n",
            "There seemed to be a strong conviction that Germany was waging deliberate\n",
            "and deadly economic warfare upon Britain to capture her market by unfair\n",
            "methods. Thus, for Britain to allow Germany to be victorious in this struggle\n",
            "would mean the destruction of her prosperity and a grave threat to her national\n",
            "existence.\n",
            "\n",
            "There are indications that the French also were alarmed by the German\n",
            "industrial expansion. In 1870, France had lost possession of the expensive iron\n",
            "and coal deposit of Lorraine, which had gone to swell the industrial growth of\n",
            "Germany. To be sure, the French had plenty of iron left in the Briery Fields, but\n",
            "they were afraid that their enemy might eventually reach out and grab these\n",
            "too. Besides, France was under necessity of importing coal and this galled her\n",
            "pride almost as much as the loss of the iron.\n",
            "\n",
            "In addition, the Russian ambition to gain control of Constantinople and other\n",
            "portions of Turkish territory conﬂicted with German plans for reserving the\n",
            "Turkish Empire as their happy hunting ground of commercial privilege. Then\n",
            "Russia and Austria a close ally of Germany were rivals for a monopoly of trade\n",
            "with the Balkan kingdoms of Serbia, Romania, Bulgaria and Greece.\n",
            "\n",
            "\f\f\n"
          ]
        }
      ]
    },
    {
      "cell_type": "code",
      "source": [
        "text = output_string.getvalue()\n",
        "text = text[:-4]\n",
        "dataset = text.replace('\\n', ' ').replace('\\\\', '').replace('\\n\\n', '').replace('\\x0c','').replace('\\x00', 'ff')\n",
        "dataset"
      ],
      "metadata": {
        "colab": {
          "base_uri": "https://localhost:8080/",
          "height": 209
        },
        "id": "v5DFl4NPXRjw",
        "outputId": "7ca8af26-4475-49d4-ecaf-7634a8904696"
      },
      "id": "v5DFl4NPXRjw",
      "execution_count": 30,
      "outputs": [
        {
          "output_type": "execute_result",
          "data": {
            "application/vnd.google.colaboratory.intrinsic+json": {
              "type": "string"
            },
            "text/plain": [
              "'It has been the custom of historians to divide the factors for wars into immediate and underlying causes. Among these underlying causes, the economic factor is generally placed at the head of the list. Indeed, the most important of these was the industrial and commercial rivalry between Germany and Great Britain.  Germany, after its uniﬁcation in 1871, went through a period of economic miracle. By 1914, she was producing more iron and steel than Britain and France combined. In chemicals, in dye, and in the manufacture of scientiﬁc equipment she led the world. The products of her industries were crowding British manufactures in nearly every market for continental Europe, in the Far East and in Britain itself.  There is evidence that certain interests in Great Britain were becoming seriously alarmed over the menace of German competition.  There seemed to be a strong conviction that Germany was waging deliberate and deadly economic warfare upon Britain to capture her market by unfair methods. Thus, for Britain to allow Germany to be victorious in this struggle would mean the destruction of her prosperity and a grave threat to her national existence.  There are indications that the French also were alarmed by the German industrial expansion. In 1870, France had lost possession of the expensive iron and coal deposit of Lorraine, which had gone to swell the industrial growth of Germany. To be sure, the French had plenty of iron left in the Briery Fields, but they were afraid that their enemy might eventually reach out and grab these too. Besides, France was under necessity of importing coal and this galled her pride almost as much as the loss of the iron.  In addition, the Russian ambition to gain control of Constantinople and other portions of Turkish territory conﬂicted with German plans for reserving the Turkish Empire as their happy hunting ground of commercial privilege. Then Russia and Austria a close ally of Germany were rivals for a monopoly of trade with the Balkan kingdoms of Serbia, Romania, Bulgaria and Greece.'"
            ]
          },
          "metadata": {},
          "execution_count": 30
        }
      ]
    },
    {
      "cell_type": "code",
      "source": [
        "\n",
        "n =512\n",
        "bank = [dataset[i:i+n] for i in range(0, len(dataset), n)]\n",
        "\n",
        "model = AutoModelForSeq2SeqLM.from_pretrained(\"t5-base\")\n",
        "tokenizer = AutoTokenizer.from_pretrained(\"t5-base\")\n",
        "\n",
        "\n",
        "summary = []\n",
        "for data in bank:\n",
        "    #inputs, references = batch\n",
        "    inputs = tokenizer(\"summarize: \" + data, return_tensors=\"pt\", max_length=512, truncation=True)\n",
        "    outputs = model.generate(inputs[\"input_ids\"], max_length=150, min_length=40)\n",
        "    summary.append(tokenizer.decode(outputs[0]))\n",
        "    \n",
        "\n",
        "\n",
        "    #print(tokenizer.decode(outputs[0]))\n",
        "    \n",
        "result  = \"\".join(summary)\n",
        "result = result.replace(r'<pad>','').replace(r'</s>','')\n",
        "\n",
        "print(result)\n",
        "\n",
        "metric.compute(predictions = [result], references = [dataset])"
      ],
      "metadata": {
        "colab": {
          "base_uri": "https://localhost:8080/"
        },
        "id": "K4Bp1QuUXZ1G",
        "outputId": "4b366c22-dbcf-43fa-9469-a6ad98068491"
      },
      "id": "K4Bp1QuUXZ1G",
      "execution_count": 31,
      "outputs": [
        {
          "output_type": "stream",
          "name": "stdout",
          "text": [
            " aaron miller: wars were a war of industrial and commercial rivalry between germany and Great Britain. miller: germany produced more iron and steel than Britain and France combined. he says the wars were a war of industrial and commercial rivalry. miller: wars were a war of economic and political importance. aaron carroll: german competition in the uk is a threat to the uk. he says the uk is alarmed by the threat of german competition. carroll: the uk is a great example of a 'deadly economic warfare' aaron miller: o allow germany to win in this struggle would mean the destruction of her prosperity. miller: there are indications that the french were alarmed by the German industrial expansion. he says the french were afraid that their enemy might eventually reach ousted. miller: o allow germany to win in this struggle would mean the destruction of her national existence. russia and other ally of germany were rivals for a monopoly of trade with the balkan kingdoms. russia and Austria a close ally of germany were rivals for a monopoly of trade with the balkan kingdoms. ece. ece. ece. ece. ece. ece. ece. ece. ece. ece. ece. ece. ece. ece. ece. ece. ece. ece. ece. ece. ece. ece. ece. ece. ece. ece. ece. ece. \n"
          ]
        },
        {
          "output_type": "execute_result",
          "data": {
            "text/plain": [
              "{'rouge1': AggregateScore(low=Score(precision=0.5990566037735849, recall=0.3735294117647059, fmeasure=0.46014492753623193), mid=Score(precision=0.5990566037735849, recall=0.3735294117647059, fmeasure=0.46014492753623193), high=Score(precision=0.5990566037735849, recall=0.3735294117647059, fmeasure=0.46014492753623193)),\n",
              " 'rouge2': AggregateScore(low=Score(precision=0.36492890995260663, recall=0.22713864306784662, fmeasure=0.28), mid=Score(precision=0.36492890995260663, recall=0.22713864306784662, fmeasure=0.28), high=Score(precision=0.36492890995260663, recall=0.22713864306784662, fmeasure=0.28)),\n",
              " 'rougeL': AggregateScore(low=Score(precision=0.4669811320754717, recall=0.2911764705882353, fmeasure=0.3586956521739131), mid=Score(precision=0.4669811320754717, recall=0.2911764705882353, fmeasure=0.3586956521739131), high=Score(precision=0.4669811320754717, recall=0.2911764705882353, fmeasure=0.3586956521739131)),\n",
              " 'rougeLsum': AggregateScore(low=Score(precision=0.4669811320754717, recall=0.2911764705882353, fmeasure=0.3586956521739131), mid=Score(precision=0.4669811320754717, recall=0.2911764705882353, fmeasure=0.3586956521739131), high=Score(precision=0.4669811320754717, recall=0.2911764705882353, fmeasure=0.3586956521739131))}"
            ]
          },
          "metadata": {},
          "execution_count": 31
        }
      ]
    },
    {
      "cell_type": "code",
      "source": [
        "\n",
        "n =512\n",
        "bank = [dataset[i:i+n] for i in range(0, len(dataset), n)]\n",
        "\n",
        "model = AutoModelForSeq2SeqLM.from_pretrained(\"t5-small\")\n",
        "tokenizer = AutoTokenizer.from_pretrained(\"t5-small\")\n",
        "\n",
        "\n",
        "summary = []\n",
        "for data in bank:\n",
        "    #inputs, references = batch\n",
        "    inputs = tokenizer(\"summarize: \" + data, return_tensors=\"pt\", max_length=512, truncation=True)\n",
        "    outputs = model.generate(inputs[\"input_ids\"], max_length=150, min_length=40)\n",
        "    summary.append(tokenizer.decode(outputs[0]))\n",
        "    \n",
        "\n",
        "\n",
        "    #print(tokenizer.decode(outputs[0]))\n",
        "    \n",
        "result  = \"\".join(summary)\n",
        "result = result.replace(r'<pad>','').replace(r'</s>','')\n",
        "\n",
        "print(result)\n",
        "\n",
        "metric.compute(predictions = [result], references = [dataset])"
      ],
      "metadata": {
        "colab": {
          "base_uri": "https://localhost:8080/"
        },
        "id": "ThFdcmb-Xgg4",
        "outputId": "343d0c5b-aa84-41ba-8155-4ec88215c3ad"
      },
      "id": "ThFdcmb-Xgg4",
      "execution_count": 32,
      "outputs": [
        {
          "output_type": "stream",
          "name": "stdout",
          "text": [
            " historians divide factors for wars into immediate and underlying causes. most important of these was the industrial and commercial rivalry between Germany and Great Britain. by 1914, she was producing more iron and steel than Britain and France combined. the products of her industries crowding British manufactures in nearly every market for continental Europe, in the far East and in Britain itself. there seems to be a strong conviction that Germany was waging deliberate and deadly economic warfare upon Britain to capture her market by unfair methods. the French were alarmed by the German industrial expansion. in 1870, the iron and coal deposit of Lorraine went to swell the industrial growth of Germany. the French were afraid that their enemy might eventually reach ousted. the Russian ambition to gain control of Constantinople conflicted with german plans for reserving the Turkish Empire as their happy hunting ground of commercial privilege. the monopoly of trade with the Balkan kingdoms of Serbia, Romania, Bulgaria and Grenada was rivals for a monopoly of trade. ece. ece. ece. ece. ece. ece. ece. ece. ece. ece.\n"
          ]
        },
        {
          "output_type": "execute_result",
          "data": {
            "text/plain": [
              "{'rouge1': AggregateScore(low=Score(precision=0.9111111111111111, recall=0.4823529411764706, fmeasure=0.6307692307692309), mid=Score(precision=0.9111111111111111, recall=0.4823529411764706, fmeasure=0.6307692307692309), high=Score(precision=0.9111111111111111, recall=0.4823529411764706, fmeasure=0.6307692307692309)),\n",
              " 'rouge2': AggregateScore(low=Score(precision=0.7988826815642458, recall=0.4218289085545723, fmeasure=0.5521235521235521), mid=Score(precision=0.7988826815642458, recall=0.4218289085545723, fmeasure=0.5521235521235521), high=Score(precision=0.7988826815642458, recall=0.4218289085545723, fmeasure=0.5521235521235521)),\n",
              " 'rougeL': AggregateScore(low=Score(precision=0.8722222222222222, recall=0.46176470588235297, fmeasure=0.6038461538461538), mid=Score(precision=0.8722222222222222, recall=0.46176470588235297, fmeasure=0.6038461538461538), high=Score(precision=0.8722222222222222, recall=0.46176470588235297, fmeasure=0.6038461538461538)),\n",
              " 'rougeLsum': AggregateScore(low=Score(precision=0.8722222222222222, recall=0.46176470588235297, fmeasure=0.6038461538461538), mid=Score(precision=0.8722222222222222, recall=0.46176470588235297, fmeasure=0.6038461538461538), high=Score(precision=0.8722222222222222, recall=0.46176470588235297, fmeasure=0.6038461538461538))}"
            ]
          },
          "metadata": {},
          "execution_count": 32
        }
      ]
    },
    {
      "cell_type": "code",
      "source": [
        ""
      ],
      "metadata": {
        "id": "9mjzdkKRXpdd"
      },
      "id": "9mjzdkKRXpdd",
      "execution_count": null,
      "outputs": []
    },
    {
      "cell_type": "code",
      "source": [
        "output_string = StringIO()\n",
        "with open(\"data/summary_four.pdf\" , \"rb\") as in_file:\n",
        "    parser = PDFParser(in_file)\n",
        "    doc = PDFDocument(parser)\n",
        "    rsrcmgr = PDFResourceManager()\n",
        "    device =  TextConverter(rsrcmgr, output_string, laparams= LAParams())\n",
        "    interpreter = PDFPageInterpreter(rsrcmgr, device)\n",
        "    \n",
        "    for page in PDFPage.create_pages(doc):\n",
        "        interpreter.process_page(page)\n",
        "        #print('*' * 100)\n",
        "        \n",
        "print(output_string.getvalue())"
      ],
      "metadata": {
        "colab": {
          "base_uri": "https://localhost:8080/"
        },
        "id": "7r2C1mwiX0SH",
        "outputId": "2376d6c6-c179-49ca-ac86-806f7d4bc8f5"
      },
      "id": "7r2C1mwiX0SH",
      "execution_count": 33,
      "outputs": [
        {
          "output_type": "stream",
          "name": "stdout",
          "text": [
            "Mining ranks among the world’s most destructive industries. Yet mineral\n",
            "extraction and processing are absent in most discussions of global\n",
            "environmental threats. Governmental and private analyses have focused only\n",
            "on increasing mineral supplies.\n",
            "\n",
            "Each year, mining strips some 28 billion tons of material from the earth. This\n",
            "is more than what is removed by the natural erosion of all the earth’s rivers.\n",
            "Worldwide, mining and smelting generate an estimated 2.7 billion tons of\n",
            "processing waste each year, much of it hazardous dwarﬁng the more familiar\n",
            "municipal waste. Smelter pollution has created biological wastelands as large\n",
            "as 10, 000 hectares and pumped some eight percent of the total worldwide\n",
            "emissions of sulphur dioxide, a major contributor to acid rain, into the\n",
            "atmosphere.\n",
            "\n",
            "Mining could also cause more damaging deforestation than bad farming\n",
            "practices in certain parts of the world. For example, smelters at a single iron\n",
            "mine in Brazil will require enough fuelwood to deforest 50,000 hectares of\n",
            "tropical forest each year.\n",
            "\n",
            "Mining has been poorly regulated even in wealthy industrialized nations. While\n",
            "many governments subsidize mineral production, few enact or enforce strict\n",
            "environmental regulations for mining operations. As a result, not only are\n",
            "many mining activities more environmentally destructive than need be, but\n",
            "prices of minerals do not include their full environmental cost. Today’s low\n",
            "mineral prices reﬂect only the immediate economics of extraction and\n",
            "destruction. They fail to consider the full costs of eroded land, dammed or\n",
            "polluted rivers and displacement of people unlucky enough to live atop mineral\n",
            "deposits. In light of this, governments should remove subsidies provided for\n",
            "mining virgin minerals.\n",
            "\n",
            "The devastating e\u0000ects of the industry are particularly severe in the developing\n",
            "countries which have been producing a substantial portion of the world’s\n",
            "mineral supplies, although they use relatively little. This is because\n",
            "environmental controls tend to be weak or non-existent in these countries.\n",
            "What makes their situation more pathetic is that many of them are among the\n",
            "world’s poorest nations.\n",
            "\n",
            "\fContrary to popular belief, the people of most mineral–exporting countries\n",
            "gain little from mining. Expensive investment in equipment and infrastructure\n",
            "combined with falling world mineral prices, especially during the eighties, has\n",
            "made these countries some of the world’s most heavily indebted.\n",
            "\n",
            "While the world appears in little danger of running out of most non-fuel\n",
            "minerals, it is obvious that the planet cannot a\u0000ord the human and ecological\n",
            "price of its growing appetite for minerals. It will therefore be wise to satisfy\n",
            "human needs with smaller amounts of virgin minerals. It will also work for our\n",
            "good if we increase recycling of materials, and make metal-based products\n",
            "more durable and easier to repair.\n",
            "\n",
            "\f\n"
          ]
        }
      ]
    },
    {
      "cell_type": "code",
      "source": [
        "text = output_string.getvalue()\n",
        "text = text[:-4]\n",
        "dataset = text.replace('\\n', ' ').replace('\\\\', '').replace('\\n\\n', '').replace('\\x0c','').replace('\\x00', 'ff')\n",
        "dataset"
      ],
      "metadata": {
        "colab": {
          "base_uri": "https://localhost:8080/",
          "height": 278
        },
        "id": "1R6om-RHX7L8",
        "outputId": "20a00b16-00c3-4e3f-a472-f5a69a245397"
      },
      "id": "1R6om-RHX7L8",
      "execution_count": 34,
      "outputs": [
        {
          "output_type": "execute_result",
          "data": {
            "application/vnd.google.colaboratory.intrinsic+json": {
              "type": "string"
            },
            "text/plain": [
              "'Mining ranks among the world’s most destructive industries. Yet mineral extraction and processing are absent in most discussions of global environmental threats. Governmental and private analyses have focused only on increasing mineral supplies.  Each year, mining strips some 28 billion tons of material from the earth. This is more than what is removed by the natural erosion of all the earth’s rivers. Worldwide, mining and smelting generate an estimated 2.7 billion tons of processing waste each year, much of it hazardous dwarﬁng the more familiar municipal waste. Smelter pollution has created biological wastelands as large as 10, 000 hectares and pumped some eight percent of the total worldwide emissions of sulphur dioxide, a major contributor to acid rain, into the atmosphere.  Mining could also cause more damaging deforestation than bad farming practices in certain parts of the world. For example, smelters at a single iron mine in Brazil will require enough fuelwood to deforest 50,000 hectares of tropical forest each year.  Mining has been poorly regulated even in wealthy industrialized nations. While many governments subsidize mineral production, few enact or enforce strict environmental regulations for mining operations. As a result, not only are many mining activities more environmentally destructive than need be, but prices of minerals do not include their full environmental cost. Today’s low mineral prices reﬂect only the immediate economics of extraction and destruction. They fail to consider the full costs of eroded land, dammed or polluted rivers and displacement of people unlucky enough to live atop mineral deposits. In light of this, governments should remove subsidies provided for mining virgin minerals.  The devastating effects of the industry are particularly severe in the developing countries which have been producing a substantial portion of the world’s mineral supplies, although they use relatively little. This is because environmental controls tend to be weak or non-existent in these countries. What makes their situation more pathetic is that many of them are among the world’s poorest nations.  Contrary to popular belief, the people of most mineral–exporting countries gain little from mining. Expensive investment in equipment and infrastructure combined with falling world mineral prices, especially during the eighties, has made these countries some of the world’s most heavily indebted.  While the world appears in little danger of running out of most non-fuel minerals, it is obvious that the planet cannot afford the human and ecological price of its growing appetite for minerals. It will therefore be wise to satisfy human needs with smaller amounts of virgin minerals. It will also work for our good if we increase recycling of materials, and make metal-based products more durable and easier to repair'"
            ]
          },
          "metadata": {},
          "execution_count": 34
        }
      ]
    },
    {
      "cell_type": "code",
      "source": [
        "\n",
        "n =512\n",
        "bank = [dataset[i:i+n] for i in range(0, len(dataset), n)]\n",
        "\n",
        "model = AutoModelForSeq2SeqLM.from_pretrained(\"t5-base\")\n",
        "tokenizer = AutoTokenizer.from_pretrained(\"t5-base\")\n",
        "\n",
        "\n",
        "summary = []\n",
        "for data in bank:\n",
        "    #inputs, references = batch\n",
        "    inputs = tokenizer(\"summarize: \" + data, return_tensors=\"pt\", max_length=512, truncation=True)\n",
        "    outputs = model.generate(inputs[\"input_ids\"], max_length=150, min_length=40)\n",
        "    summary.append(tokenizer.decode(outputs[0]))\n",
        "    \n",
        "\n",
        "\n",
        "    #print(tokenizer.decode(outputs[0]))\n",
        "    \n",
        "result  = \"\".join(summary)\n",
        "result = result.replace(r'<pad>','').replace(r'</s>','')\n",
        "\n",
        "print(result)\n",
        "\n",
        "metric.compute(predictions = [result], references = [dataset])"
      ],
      "metadata": {
        "colab": {
          "base_uri": "https://localhost:8080/"
        },
        "id": "JEvFWeXZX--i",
        "outputId": "7867eede-a46e-4292-82fb-e0adf0125536"
      },
      "id": "JEvFWeXZX--i",
      "execution_count": 35,
      "outputs": [
        {
          "output_type": "stream",
          "name": "stdout",
          "text": [
            " mining and smelting generate an estimated 2.7 billion tons of processing waste each year. this is more than what is removed by the natural erosion of all the earth’s rivers. smelter pollution has created biological wastelands as large as 10, 000 hectares. mining could cause more damaging deforestation than bad farming practices. mining could cause more damaging deforestation than bad farming practices. orest mines are poorly regulated even in wealthy industrialized nations. prices of minerals do not include their full environmental cost. mining has been poorly regulated even in wealthy industrialized nations. governments should remove subsidies provided for mining virgin minerals. the devastating effects of the industry are particularly severe in the developing countries. this is because environmental controls tend to be weak or non-existent. many of the world's poorest nations are among the world's poorest. they are among the world's most heavily indebted countries. planes are a major source of fuel for the u.s. economy. t can afford the human and ecological price of its growing appetite for minerals, says scott. he says it will be wise to satisfy human needs with smaller amounts of virgin minerals. he says we should increase recycling of materials and make metal-based products more durable. scott: we need to make metal-based products more durable and easier to repair.\n"
          ]
        },
        {
          "output_type": "execute_result",
          "data": {
            "text/plain": [
              "{'rouge1': AggregateScore(low=Score(precision=0.8348214285714286, recall=0.4146341463414634, fmeasure=0.554074074074074), mid=Score(precision=0.8348214285714286, recall=0.4146341463414634, fmeasure=0.554074074074074), high=Score(precision=0.8348214285714286, recall=0.4146341463414634, fmeasure=0.554074074074074)),\n",
              " 'rouge2': AggregateScore(low=Score(precision=0.6860986547085202, recall=0.34, fmeasure=0.4546805349182764), mid=Score(precision=0.6860986547085202, recall=0.34, fmeasure=0.45468053491827637), high=Score(precision=0.6860986547085202, recall=0.34, fmeasure=0.4546805349182764)),\n",
              " 'rougeL': AggregateScore(low=Score(precision=0.7008928571428571, recall=0.34811529933481156, fmeasure=0.46518518518518515), mid=Score(precision=0.7008928571428571, recall=0.34811529933481156, fmeasure=0.46518518518518515), high=Score(precision=0.7008928571428571, recall=0.34811529933481156, fmeasure=0.46518518518518515)),\n",
              " 'rougeLsum': AggregateScore(low=Score(precision=0.7008928571428571, recall=0.34811529933481156, fmeasure=0.46518518518518515), mid=Score(precision=0.7008928571428571, recall=0.34811529933481156, fmeasure=0.46518518518518515), high=Score(precision=0.7008928571428571, recall=0.34811529933481156, fmeasure=0.46518518518518515))}"
            ]
          },
          "metadata": {},
          "execution_count": 35
        }
      ]
    },
    {
      "cell_type": "markdown",
      "source": [
        "Reference\n",
        "1. What is Rouge score? [here](https://www.youtube.com/watch?v=TMshhnrEXlg)\n",
        "2. Interpreting Rouge scores [here](https://stats.stackexchange.com/questions/301626/interpreting-rouge-scores)\n",
        "3. How others tested their text summarizer after using rouge [here](https://link.springer.com/article/10.1007/s10579-017-9389-4)"
      ],
      "metadata": {
        "id": "z2B1aaNVaXgi"
      },
      "id": "z2B1aaNVaXgi"
    },
    {
      "cell_type": "code",
      "source": [
        ""
      ],
      "metadata": {
        "id": "6xQheM6ZYEf6"
      },
      "id": "6xQheM6ZYEf6",
      "execution_count": null,
      "outputs": []
    }
  ],
  "metadata": {
    "kernelspec": {
      "display_name": "Python 3 (ipykernel)",
      "language": "python",
      "name": "python3"
    },
    "language_info": {
      "codemirror_mode": {
        "name": "ipython",
        "version": 3
      },
      "file_extension": ".py",
      "mimetype": "text/x-python",
      "name": "python",
      "nbconvert_exporter": "python",
      "pygments_lexer": "ipython3",
      "version": "3.8.12"
    },
    "colab": {
      "name": "testing_transformer_models.ipynb",
      "provenance": [],
      "collapsed_sections": []
    },
    "widgets": {
      "application/vnd.jupyter.widget-state+json": {
        "02c8feb835074481983a27f5682ea1fc": {
          "model_module": "@jupyter-widgets/controls",
          "model_name": "HBoxModel",
          "model_module_version": "1.5.0",
          "state": {
            "_view_name": "HBoxView",
            "_dom_classes": [],
            "_model_name": "HBoxModel",
            "_view_module": "@jupyter-widgets/controls",
            "_model_module_version": "1.5.0",
            "_view_count": null,
            "_view_module_version": "1.5.0",
            "box_style": "",
            "layout": "IPY_MODEL_30781a1e58c447f3912e5c85f55e669b",
            "_model_module": "@jupyter-widgets/controls",
            "children": [
              "IPY_MODEL_84d5e3e56c74442496d511fec488c1c9",
              "IPY_MODEL_b89db1bb2a5f4dce972083941831a5f0",
              "IPY_MODEL_e97c69ff2774461b84728628bb51c268"
            ]
          }
        },
        "30781a1e58c447f3912e5c85f55e669b": {
          "model_module": "@jupyter-widgets/base",
          "model_name": "LayoutModel",
          "model_module_version": "1.2.0",
          "state": {
            "_view_name": "LayoutView",
            "grid_template_rows": null,
            "right": null,
            "justify_content": null,
            "_view_module": "@jupyter-widgets/base",
            "overflow": null,
            "_model_module_version": "1.2.0",
            "_view_count": null,
            "flex_flow": null,
            "width": null,
            "min_width": null,
            "border": null,
            "align_items": null,
            "bottom": null,
            "_model_module": "@jupyter-widgets/base",
            "top": null,
            "grid_column": null,
            "overflow_y": null,
            "overflow_x": null,
            "grid_auto_flow": null,
            "grid_area": null,
            "grid_template_columns": null,
            "flex": null,
            "_model_name": "LayoutModel",
            "justify_items": null,
            "grid_row": null,
            "max_height": null,
            "align_content": null,
            "visibility": null,
            "align_self": null,
            "height": null,
            "min_height": null,
            "padding": null,
            "grid_auto_rows": null,
            "grid_gap": null,
            "max_width": null,
            "order": null,
            "_view_module_version": "1.2.0",
            "grid_template_areas": null,
            "object_position": null,
            "object_fit": null,
            "grid_auto_columns": null,
            "margin": null,
            "display": null,
            "left": null
          }
        },
        "84d5e3e56c74442496d511fec488c1c9": {
          "model_module": "@jupyter-widgets/controls",
          "model_name": "HTMLModel",
          "model_module_version": "1.5.0",
          "state": {
            "_view_name": "HTMLView",
            "style": "IPY_MODEL_e411f4fb29fe4f90bec3d4460aace204",
            "_dom_classes": [],
            "description": "",
            "_model_name": "HTMLModel",
            "placeholder": "​",
            "_view_module": "@jupyter-widgets/controls",
            "_model_module_version": "1.5.0",
            "value": "Downloading: 100%",
            "_view_count": null,
            "_view_module_version": "1.5.0",
            "description_tooltip": null,
            "_model_module": "@jupyter-widgets/controls",
            "layout": "IPY_MODEL_1f0bda64e69942b78fcc83d4101c6281"
          }
        },
        "b89db1bb2a5f4dce972083941831a5f0": {
          "model_module": "@jupyter-widgets/controls",
          "model_name": "FloatProgressModel",
          "model_module_version": "1.5.0",
          "state": {
            "_view_name": "ProgressView",
            "style": "IPY_MODEL_216c95448a124cbe974b34351ffa5506",
            "_dom_classes": [],
            "description": "",
            "_model_name": "FloatProgressModel",
            "bar_style": "success",
            "max": 1199,
            "_view_module": "@jupyter-widgets/controls",
            "_model_module_version": "1.5.0",
            "value": 1199,
            "_view_count": null,
            "_view_module_version": "1.5.0",
            "orientation": "horizontal",
            "min": 0,
            "description_tooltip": null,
            "_model_module": "@jupyter-widgets/controls",
            "layout": "IPY_MODEL_69165551bd3c421395d9926fdc241418"
          }
        },
        "e97c69ff2774461b84728628bb51c268": {
          "model_module": "@jupyter-widgets/controls",
          "model_name": "HTMLModel",
          "model_module_version": "1.5.0",
          "state": {
            "_view_name": "HTMLView",
            "style": "IPY_MODEL_6e64502c89b4463b836482e17d035840",
            "_dom_classes": [],
            "description": "",
            "_model_name": "HTMLModel",
            "placeholder": "​",
            "_view_module": "@jupyter-widgets/controls",
            "_model_module_version": "1.5.0",
            "value": " 1.17k/1.17k [00:00&lt;00:00, 30.4kB/s]",
            "_view_count": null,
            "_view_module_version": "1.5.0",
            "description_tooltip": null,
            "_model_module": "@jupyter-widgets/controls",
            "layout": "IPY_MODEL_ef641d7fa1a942de84d3ad7ae9613e86"
          }
        },
        "e411f4fb29fe4f90bec3d4460aace204": {
          "model_module": "@jupyter-widgets/controls",
          "model_name": "DescriptionStyleModel",
          "model_module_version": "1.5.0",
          "state": {
            "_view_name": "StyleView",
            "_model_name": "DescriptionStyleModel",
            "description_width": "",
            "_view_module": "@jupyter-widgets/base",
            "_model_module_version": "1.5.0",
            "_view_count": null,
            "_view_module_version": "1.2.0",
            "_model_module": "@jupyter-widgets/controls"
          }
        },
        "1f0bda64e69942b78fcc83d4101c6281": {
          "model_module": "@jupyter-widgets/base",
          "model_name": "LayoutModel",
          "model_module_version": "1.2.0",
          "state": {
            "_view_name": "LayoutView",
            "grid_template_rows": null,
            "right": null,
            "justify_content": null,
            "_view_module": "@jupyter-widgets/base",
            "overflow": null,
            "_model_module_version": "1.2.0",
            "_view_count": null,
            "flex_flow": null,
            "width": null,
            "min_width": null,
            "border": null,
            "align_items": null,
            "bottom": null,
            "_model_module": "@jupyter-widgets/base",
            "top": null,
            "grid_column": null,
            "overflow_y": null,
            "overflow_x": null,
            "grid_auto_flow": null,
            "grid_area": null,
            "grid_template_columns": null,
            "flex": null,
            "_model_name": "LayoutModel",
            "justify_items": null,
            "grid_row": null,
            "max_height": null,
            "align_content": null,
            "visibility": null,
            "align_self": null,
            "height": null,
            "min_height": null,
            "padding": null,
            "grid_auto_rows": null,
            "grid_gap": null,
            "max_width": null,
            "order": null,
            "_view_module_version": "1.2.0",
            "grid_template_areas": null,
            "object_position": null,
            "object_fit": null,
            "grid_auto_columns": null,
            "margin": null,
            "display": null,
            "left": null
          }
        },
        "216c95448a124cbe974b34351ffa5506": {
          "model_module": "@jupyter-widgets/controls",
          "model_name": "ProgressStyleModel",
          "model_module_version": "1.5.0",
          "state": {
            "_view_name": "StyleView",
            "_model_name": "ProgressStyleModel",
            "description_width": "",
            "_view_module": "@jupyter-widgets/base",
            "_model_module_version": "1.5.0",
            "_view_count": null,
            "_view_module_version": "1.2.0",
            "bar_color": null,
            "_model_module": "@jupyter-widgets/controls"
          }
        },
        "69165551bd3c421395d9926fdc241418": {
          "model_module": "@jupyter-widgets/base",
          "model_name": "LayoutModel",
          "model_module_version": "1.2.0",
          "state": {
            "_view_name": "LayoutView",
            "grid_template_rows": null,
            "right": null,
            "justify_content": null,
            "_view_module": "@jupyter-widgets/base",
            "overflow": null,
            "_model_module_version": "1.2.0",
            "_view_count": null,
            "flex_flow": null,
            "width": null,
            "min_width": null,
            "border": null,
            "align_items": null,
            "bottom": null,
            "_model_module": "@jupyter-widgets/base",
            "top": null,
            "grid_column": null,
            "overflow_y": null,
            "overflow_x": null,
            "grid_auto_flow": null,
            "grid_area": null,
            "grid_template_columns": null,
            "flex": null,
            "_model_name": "LayoutModel",
            "justify_items": null,
            "grid_row": null,
            "max_height": null,
            "align_content": null,
            "visibility": null,
            "align_self": null,
            "height": null,
            "min_height": null,
            "padding": null,
            "grid_auto_rows": null,
            "grid_gap": null,
            "max_width": null,
            "order": null,
            "_view_module_version": "1.2.0",
            "grid_template_areas": null,
            "object_position": null,
            "object_fit": null,
            "grid_auto_columns": null,
            "margin": null,
            "display": null,
            "left": null
          }
        },
        "6e64502c89b4463b836482e17d035840": {
          "model_module": "@jupyter-widgets/controls",
          "model_name": "DescriptionStyleModel",
          "model_module_version": "1.5.0",
          "state": {
            "_view_name": "StyleView",
            "_model_name": "DescriptionStyleModel",
            "description_width": "",
            "_view_module": "@jupyter-widgets/base",
            "_model_module_version": "1.5.0",
            "_view_count": null,
            "_view_module_version": "1.2.0",
            "_model_module": "@jupyter-widgets/controls"
          }
        },
        "ef641d7fa1a942de84d3ad7ae9613e86": {
          "model_module": "@jupyter-widgets/base",
          "model_name": "LayoutModel",
          "model_module_version": "1.2.0",
          "state": {
            "_view_name": "LayoutView",
            "grid_template_rows": null,
            "right": null,
            "justify_content": null,
            "_view_module": "@jupyter-widgets/base",
            "overflow": null,
            "_model_module_version": "1.2.0",
            "_view_count": null,
            "flex_flow": null,
            "width": null,
            "min_width": null,
            "border": null,
            "align_items": null,
            "bottom": null,
            "_model_module": "@jupyter-widgets/base",
            "top": null,
            "grid_column": null,
            "overflow_y": null,
            "overflow_x": null,
            "grid_auto_flow": null,
            "grid_area": null,
            "grid_template_columns": null,
            "flex": null,
            "_model_name": "LayoutModel",
            "justify_items": null,
            "grid_row": null,
            "max_height": null,
            "align_content": null,
            "visibility": null,
            "align_self": null,
            "height": null,
            "min_height": null,
            "padding": null,
            "grid_auto_rows": null,
            "grid_gap": null,
            "max_width": null,
            "order": null,
            "_view_module_version": "1.2.0",
            "grid_template_areas": null,
            "object_position": null,
            "object_fit": null,
            "grid_auto_columns": null,
            "margin": null,
            "display": null,
            "left": null
          }
        },
        "1975394949e24b12ae1f5c549cccc802": {
          "model_module": "@jupyter-widgets/controls",
          "model_name": "HBoxModel",
          "model_module_version": "1.5.0",
          "state": {
            "_view_name": "HBoxView",
            "_dom_classes": [],
            "_model_name": "HBoxModel",
            "_view_module": "@jupyter-widgets/controls",
            "_model_module_version": "1.5.0",
            "_view_count": null,
            "_view_module_version": "1.5.0",
            "box_style": "",
            "layout": "IPY_MODEL_676b86487b734a1b9a9e7388d41b2c61",
            "_model_module": "@jupyter-widgets/controls",
            "children": [
              "IPY_MODEL_5395aef5de62488ea1432cccb9706372",
              "IPY_MODEL_146393dcdd6341c3812ea53b7f912a15",
              "IPY_MODEL_920c58c32e3949a08b82a8bf67e946b2"
            ]
          }
        },
        "676b86487b734a1b9a9e7388d41b2c61": {
          "model_module": "@jupyter-widgets/base",
          "model_name": "LayoutModel",
          "model_module_version": "1.2.0",
          "state": {
            "_view_name": "LayoutView",
            "grid_template_rows": null,
            "right": null,
            "justify_content": null,
            "_view_module": "@jupyter-widgets/base",
            "overflow": null,
            "_model_module_version": "1.2.0",
            "_view_count": null,
            "flex_flow": null,
            "width": null,
            "min_width": null,
            "border": null,
            "align_items": null,
            "bottom": null,
            "_model_module": "@jupyter-widgets/base",
            "top": null,
            "grid_column": null,
            "overflow_y": null,
            "overflow_x": null,
            "grid_auto_flow": null,
            "grid_area": null,
            "grid_template_columns": null,
            "flex": null,
            "_model_name": "LayoutModel",
            "justify_items": null,
            "grid_row": null,
            "max_height": null,
            "align_content": null,
            "visibility": null,
            "align_self": null,
            "height": null,
            "min_height": null,
            "padding": null,
            "grid_auto_rows": null,
            "grid_gap": null,
            "max_width": null,
            "order": null,
            "_view_module_version": "1.2.0",
            "grid_template_areas": null,
            "object_position": null,
            "object_fit": null,
            "grid_auto_columns": null,
            "margin": null,
            "display": null,
            "left": null
          }
        },
        "5395aef5de62488ea1432cccb9706372": {
          "model_module": "@jupyter-widgets/controls",
          "model_name": "HTMLModel",
          "model_module_version": "1.5.0",
          "state": {
            "_view_name": "HTMLView",
            "style": "IPY_MODEL_6bfddeeb5b834f5bad95451a4cf2a621",
            "_dom_classes": [],
            "description": "",
            "_model_name": "HTMLModel",
            "placeholder": "​",
            "_view_module": "@jupyter-widgets/controls",
            "_model_module_version": "1.5.0",
            "value": "Downloading: 100%",
            "_view_count": null,
            "_view_module_version": "1.5.0",
            "description_tooltip": null,
            "_model_module": "@jupyter-widgets/controls",
            "layout": "IPY_MODEL_8ee3645a8eac4060816160f16e121e93"
          }
        },
        "146393dcdd6341c3812ea53b7f912a15": {
          "model_module": "@jupyter-widgets/controls",
          "model_name": "FloatProgressModel",
          "model_module_version": "1.5.0",
          "state": {
            "_view_name": "ProgressView",
            "style": "IPY_MODEL_732b8db2f52846dfaf946038020d4243",
            "_dom_classes": [],
            "description": "",
            "_model_name": "FloatProgressModel",
            "bar_style": "success",
            "max": 891691430,
            "_view_module": "@jupyter-widgets/controls",
            "_model_module_version": "1.5.0",
            "value": 891691430,
            "_view_count": null,
            "_view_module_version": "1.5.0",
            "orientation": "horizontal",
            "min": 0,
            "description_tooltip": null,
            "_model_module": "@jupyter-widgets/controls",
            "layout": "IPY_MODEL_3a1cf02059294709863fabe92545b04e"
          }
        },
        "920c58c32e3949a08b82a8bf67e946b2": {
          "model_module": "@jupyter-widgets/controls",
          "model_name": "HTMLModel",
          "model_module_version": "1.5.0",
          "state": {
            "_view_name": "HTMLView",
            "style": "IPY_MODEL_b497412faf58411f90478b79ecc4362e",
            "_dom_classes": [],
            "description": "",
            "_model_name": "HTMLModel",
            "placeholder": "​",
            "_view_module": "@jupyter-widgets/controls",
            "_model_module_version": "1.5.0",
            "value": " 850M/850M [00:19&lt;00:00, 46.4MB/s]",
            "_view_count": null,
            "_view_module_version": "1.5.0",
            "description_tooltip": null,
            "_model_module": "@jupyter-widgets/controls",
            "layout": "IPY_MODEL_3dd91d9f5052463c8e97cda525f866a5"
          }
        },
        "6bfddeeb5b834f5bad95451a4cf2a621": {
          "model_module": "@jupyter-widgets/controls",
          "model_name": "DescriptionStyleModel",
          "model_module_version": "1.5.0",
          "state": {
            "_view_name": "StyleView",
            "_model_name": "DescriptionStyleModel",
            "description_width": "",
            "_view_module": "@jupyter-widgets/base",
            "_model_module_version": "1.5.0",
            "_view_count": null,
            "_view_module_version": "1.2.0",
            "_model_module": "@jupyter-widgets/controls"
          }
        },
        "8ee3645a8eac4060816160f16e121e93": {
          "model_module": "@jupyter-widgets/base",
          "model_name": "LayoutModel",
          "model_module_version": "1.2.0",
          "state": {
            "_view_name": "LayoutView",
            "grid_template_rows": null,
            "right": null,
            "justify_content": null,
            "_view_module": "@jupyter-widgets/base",
            "overflow": null,
            "_model_module_version": "1.2.0",
            "_view_count": null,
            "flex_flow": null,
            "width": null,
            "min_width": null,
            "border": null,
            "align_items": null,
            "bottom": null,
            "_model_module": "@jupyter-widgets/base",
            "top": null,
            "grid_column": null,
            "overflow_y": null,
            "overflow_x": null,
            "grid_auto_flow": null,
            "grid_area": null,
            "grid_template_columns": null,
            "flex": null,
            "_model_name": "LayoutModel",
            "justify_items": null,
            "grid_row": null,
            "max_height": null,
            "align_content": null,
            "visibility": null,
            "align_self": null,
            "height": null,
            "min_height": null,
            "padding": null,
            "grid_auto_rows": null,
            "grid_gap": null,
            "max_width": null,
            "order": null,
            "_view_module_version": "1.2.0",
            "grid_template_areas": null,
            "object_position": null,
            "object_fit": null,
            "grid_auto_columns": null,
            "margin": null,
            "display": null,
            "left": null
          }
        },
        "732b8db2f52846dfaf946038020d4243": {
          "model_module": "@jupyter-widgets/controls",
          "model_name": "ProgressStyleModel",
          "model_module_version": "1.5.0",
          "state": {
            "_view_name": "StyleView",
            "_model_name": "ProgressStyleModel",
            "description_width": "",
            "_view_module": "@jupyter-widgets/base",
            "_model_module_version": "1.5.0",
            "_view_count": null,
            "_view_module_version": "1.2.0",
            "bar_color": null,
            "_model_module": "@jupyter-widgets/controls"
          }
        },
        "3a1cf02059294709863fabe92545b04e": {
          "model_module": "@jupyter-widgets/base",
          "model_name": "LayoutModel",
          "model_module_version": "1.2.0",
          "state": {
            "_view_name": "LayoutView",
            "grid_template_rows": null,
            "right": null,
            "justify_content": null,
            "_view_module": "@jupyter-widgets/base",
            "overflow": null,
            "_model_module_version": "1.2.0",
            "_view_count": null,
            "flex_flow": null,
            "width": null,
            "min_width": null,
            "border": null,
            "align_items": null,
            "bottom": null,
            "_model_module": "@jupyter-widgets/base",
            "top": null,
            "grid_column": null,
            "overflow_y": null,
            "overflow_x": null,
            "grid_auto_flow": null,
            "grid_area": null,
            "grid_template_columns": null,
            "flex": null,
            "_model_name": "LayoutModel",
            "justify_items": null,
            "grid_row": null,
            "max_height": null,
            "align_content": null,
            "visibility": null,
            "align_self": null,
            "height": null,
            "min_height": null,
            "padding": null,
            "grid_auto_rows": null,
            "grid_gap": null,
            "max_width": null,
            "order": null,
            "_view_module_version": "1.2.0",
            "grid_template_areas": null,
            "object_position": null,
            "object_fit": null,
            "grid_auto_columns": null,
            "margin": null,
            "display": null,
            "left": null
          }
        },
        "b497412faf58411f90478b79ecc4362e": {
          "model_module": "@jupyter-widgets/controls",
          "model_name": "DescriptionStyleModel",
          "model_module_version": "1.5.0",
          "state": {
            "_view_name": "StyleView",
            "_model_name": "DescriptionStyleModel",
            "description_width": "",
            "_view_module": "@jupyter-widgets/base",
            "_model_module_version": "1.5.0",
            "_view_count": null,
            "_view_module_version": "1.2.0",
            "_model_module": "@jupyter-widgets/controls"
          }
        },
        "3dd91d9f5052463c8e97cda525f866a5": {
          "model_module": "@jupyter-widgets/base",
          "model_name": "LayoutModel",
          "model_module_version": "1.2.0",
          "state": {
            "_view_name": "LayoutView",
            "grid_template_rows": null,
            "right": null,
            "justify_content": null,
            "_view_module": "@jupyter-widgets/base",
            "overflow": null,
            "_model_module_version": "1.2.0",
            "_view_count": null,
            "flex_flow": null,
            "width": null,
            "min_width": null,
            "border": null,
            "align_items": null,
            "bottom": null,
            "_model_module": "@jupyter-widgets/base",
            "top": null,
            "grid_column": null,
            "overflow_y": null,
            "overflow_x": null,
            "grid_auto_flow": null,
            "grid_area": null,
            "grid_template_columns": null,
            "flex": null,
            "_model_name": "LayoutModel",
            "justify_items": null,
            "grid_row": null,
            "max_height": null,
            "align_content": null,
            "visibility": null,
            "align_self": null,
            "height": null,
            "min_height": null,
            "padding": null,
            "grid_auto_rows": null,
            "grid_gap": null,
            "max_width": null,
            "order": null,
            "_view_module_version": "1.2.0",
            "grid_template_areas": null,
            "object_position": null,
            "object_fit": null,
            "grid_auto_columns": null,
            "margin": null,
            "display": null,
            "left": null
          }
        },
        "2bb33acf8bef4268b37d70c65da44d7e": {
          "model_module": "@jupyter-widgets/controls",
          "model_name": "HBoxModel",
          "model_module_version": "1.5.0",
          "state": {
            "_view_name": "HBoxView",
            "_dom_classes": [],
            "_model_name": "HBoxModel",
            "_view_module": "@jupyter-widgets/controls",
            "_model_module_version": "1.5.0",
            "_view_count": null,
            "_view_module_version": "1.5.0",
            "box_style": "",
            "layout": "IPY_MODEL_2bce424b732f434ea4d14414531c3465",
            "_model_module": "@jupyter-widgets/controls",
            "children": [
              "IPY_MODEL_41db5e6df9cc42ba87bcf6097d5bc6f9",
              "IPY_MODEL_e7c42eb5b73449beb4e1017129d8c9ce",
              "IPY_MODEL_05798bece3774aa086754892f3e3dd22"
            ]
          }
        },
        "2bce424b732f434ea4d14414531c3465": {
          "model_module": "@jupyter-widgets/base",
          "model_name": "LayoutModel",
          "model_module_version": "1.2.0",
          "state": {
            "_view_name": "LayoutView",
            "grid_template_rows": null,
            "right": null,
            "justify_content": null,
            "_view_module": "@jupyter-widgets/base",
            "overflow": null,
            "_model_module_version": "1.2.0",
            "_view_count": null,
            "flex_flow": null,
            "width": null,
            "min_width": null,
            "border": null,
            "align_items": null,
            "bottom": null,
            "_model_module": "@jupyter-widgets/base",
            "top": null,
            "grid_column": null,
            "overflow_y": null,
            "overflow_x": null,
            "grid_auto_flow": null,
            "grid_area": null,
            "grid_template_columns": null,
            "flex": null,
            "_model_name": "LayoutModel",
            "justify_items": null,
            "grid_row": null,
            "max_height": null,
            "align_content": null,
            "visibility": null,
            "align_self": null,
            "height": null,
            "min_height": null,
            "padding": null,
            "grid_auto_rows": null,
            "grid_gap": null,
            "max_width": null,
            "order": null,
            "_view_module_version": "1.2.0",
            "grid_template_areas": null,
            "object_position": null,
            "object_fit": null,
            "grid_auto_columns": null,
            "margin": null,
            "display": null,
            "left": null
          }
        },
        "41db5e6df9cc42ba87bcf6097d5bc6f9": {
          "model_module": "@jupyter-widgets/controls",
          "model_name": "HTMLModel",
          "model_module_version": "1.5.0",
          "state": {
            "_view_name": "HTMLView",
            "style": "IPY_MODEL_ebbe050d7a884e15b4b969621935cd26",
            "_dom_classes": [],
            "description": "",
            "_model_name": "HTMLModel",
            "placeholder": "​",
            "_view_module": "@jupyter-widgets/controls",
            "_model_module_version": "1.5.0",
            "value": "Downloading: 100%",
            "_view_count": null,
            "_view_module_version": "1.5.0",
            "description_tooltip": null,
            "_model_module": "@jupyter-widgets/controls",
            "layout": "IPY_MODEL_34a0761f11ec466299a0c0cdbbd1c1bd"
          }
        },
        "e7c42eb5b73449beb4e1017129d8c9ce": {
          "model_module": "@jupyter-widgets/controls",
          "model_name": "FloatProgressModel",
          "model_module_version": "1.5.0",
          "state": {
            "_view_name": "ProgressView",
            "style": "IPY_MODEL_3943a2a65f734905808607e242b57335",
            "_dom_classes": [],
            "description": "",
            "_model_name": "FloatProgressModel",
            "bar_style": "success",
            "max": 791656,
            "_view_module": "@jupyter-widgets/controls",
            "_model_module_version": "1.5.0",
            "value": 791656,
            "_view_count": null,
            "_view_module_version": "1.5.0",
            "orientation": "horizontal",
            "min": 0,
            "description_tooltip": null,
            "_model_module": "@jupyter-widgets/controls",
            "layout": "IPY_MODEL_933f0d655fb046258c58dd013a7b0994"
          }
        },
        "05798bece3774aa086754892f3e3dd22": {
          "model_module": "@jupyter-widgets/controls",
          "model_name": "HTMLModel",
          "model_module_version": "1.5.0",
          "state": {
            "_view_name": "HTMLView",
            "style": "IPY_MODEL_153a7f9ba91648a482e0d6eeb57e3076",
            "_dom_classes": [],
            "description": "",
            "_model_name": "HTMLModel",
            "placeholder": "​",
            "_view_module": "@jupyter-widgets/controls",
            "_model_module_version": "1.5.0",
            "value": " 773k/773k [00:00&lt;00:00, 1.04MB/s]",
            "_view_count": null,
            "_view_module_version": "1.5.0",
            "description_tooltip": null,
            "_model_module": "@jupyter-widgets/controls",
            "layout": "IPY_MODEL_d49f3ec546d24c73bcb435f6d0a395aa"
          }
        },
        "ebbe050d7a884e15b4b969621935cd26": {
          "model_module": "@jupyter-widgets/controls",
          "model_name": "DescriptionStyleModel",
          "model_module_version": "1.5.0",
          "state": {
            "_view_name": "StyleView",
            "_model_name": "DescriptionStyleModel",
            "description_width": "",
            "_view_module": "@jupyter-widgets/base",
            "_model_module_version": "1.5.0",
            "_view_count": null,
            "_view_module_version": "1.2.0",
            "_model_module": "@jupyter-widgets/controls"
          }
        },
        "34a0761f11ec466299a0c0cdbbd1c1bd": {
          "model_module": "@jupyter-widgets/base",
          "model_name": "LayoutModel",
          "model_module_version": "1.2.0",
          "state": {
            "_view_name": "LayoutView",
            "grid_template_rows": null,
            "right": null,
            "justify_content": null,
            "_view_module": "@jupyter-widgets/base",
            "overflow": null,
            "_model_module_version": "1.2.0",
            "_view_count": null,
            "flex_flow": null,
            "width": null,
            "min_width": null,
            "border": null,
            "align_items": null,
            "bottom": null,
            "_model_module": "@jupyter-widgets/base",
            "top": null,
            "grid_column": null,
            "overflow_y": null,
            "overflow_x": null,
            "grid_auto_flow": null,
            "grid_area": null,
            "grid_template_columns": null,
            "flex": null,
            "_model_name": "LayoutModel",
            "justify_items": null,
            "grid_row": null,
            "max_height": null,
            "align_content": null,
            "visibility": null,
            "align_self": null,
            "height": null,
            "min_height": null,
            "padding": null,
            "grid_auto_rows": null,
            "grid_gap": null,
            "max_width": null,
            "order": null,
            "_view_module_version": "1.2.0",
            "grid_template_areas": null,
            "object_position": null,
            "object_fit": null,
            "grid_auto_columns": null,
            "margin": null,
            "display": null,
            "left": null
          }
        },
        "3943a2a65f734905808607e242b57335": {
          "model_module": "@jupyter-widgets/controls",
          "model_name": "ProgressStyleModel",
          "model_module_version": "1.5.0",
          "state": {
            "_view_name": "StyleView",
            "_model_name": "ProgressStyleModel",
            "description_width": "",
            "_view_module": "@jupyter-widgets/base",
            "_model_module_version": "1.5.0",
            "_view_count": null,
            "_view_module_version": "1.2.0",
            "bar_color": null,
            "_model_module": "@jupyter-widgets/controls"
          }
        },
        "933f0d655fb046258c58dd013a7b0994": {
          "model_module": "@jupyter-widgets/base",
          "model_name": "LayoutModel",
          "model_module_version": "1.2.0",
          "state": {
            "_view_name": "LayoutView",
            "grid_template_rows": null,
            "right": null,
            "justify_content": null,
            "_view_module": "@jupyter-widgets/base",
            "overflow": null,
            "_model_module_version": "1.2.0",
            "_view_count": null,
            "flex_flow": null,
            "width": null,
            "min_width": null,
            "border": null,
            "align_items": null,
            "bottom": null,
            "_model_module": "@jupyter-widgets/base",
            "top": null,
            "grid_column": null,
            "overflow_y": null,
            "overflow_x": null,
            "grid_auto_flow": null,
            "grid_area": null,
            "grid_template_columns": null,
            "flex": null,
            "_model_name": "LayoutModel",
            "justify_items": null,
            "grid_row": null,
            "max_height": null,
            "align_content": null,
            "visibility": null,
            "align_self": null,
            "height": null,
            "min_height": null,
            "padding": null,
            "grid_auto_rows": null,
            "grid_gap": null,
            "max_width": null,
            "order": null,
            "_view_module_version": "1.2.0",
            "grid_template_areas": null,
            "object_position": null,
            "object_fit": null,
            "grid_auto_columns": null,
            "margin": null,
            "display": null,
            "left": null
          }
        },
        "153a7f9ba91648a482e0d6eeb57e3076": {
          "model_module": "@jupyter-widgets/controls",
          "model_name": "DescriptionStyleModel",
          "model_module_version": "1.5.0",
          "state": {
            "_view_name": "StyleView",
            "_model_name": "DescriptionStyleModel",
            "description_width": "",
            "_view_module": "@jupyter-widgets/base",
            "_model_module_version": "1.5.0",
            "_view_count": null,
            "_view_module_version": "1.2.0",
            "_model_module": "@jupyter-widgets/controls"
          }
        },
        "d49f3ec546d24c73bcb435f6d0a395aa": {
          "model_module": "@jupyter-widgets/base",
          "model_name": "LayoutModel",
          "model_module_version": "1.2.0",
          "state": {
            "_view_name": "LayoutView",
            "grid_template_rows": null,
            "right": null,
            "justify_content": null,
            "_view_module": "@jupyter-widgets/base",
            "overflow": null,
            "_model_module_version": "1.2.0",
            "_view_count": null,
            "flex_flow": null,
            "width": null,
            "min_width": null,
            "border": null,
            "align_items": null,
            "bottom": null,
            "_model_module": "@jupyter-widgets/base",
            "top": null,
            "grid_column": null,
            "overflow_y": null,
            "overflow_x": null,
            "grid_auto_flow": null,
            "grid_area": null,
            "grid_template_columns": null,
            "flex": null,
            "_model_name": "LayoutModel",
            "justify_items": null,
            "grid_row": null,
            "max_height": null,
            "align_content": null,
            "visibility": null,
            "align_self": null,
            "height": null,
            "min_height": null,
            "padding": null,
            "grid_auto_rows": null,
            "grid_gap": null,
            "max_width": null,
            "order": null,
            "_view_module_version": "1.2.0",
            "grid_template_areas": null,
            "object_position": null,
            "object_fit": null,
            "grid_auto_columns": null,
            "margin": null,
            "display": null,
            "left": null
          }
        },
        "ee1d5d4c989a41ea82c9f3d2d29ca667": {
          "model_module": "@jupyter-widgets/controls",
          "model_name": "HBoxModel",
          "model_module_version": "1.5.0",
          "state": {
            "_view_name": "HBoxView",
            "_dom_classes": [],
            "_model_name": "HBoxModel",
            "_view_module": "@jupyter-widgets/controls",
            "_model_module_version": "1.5.0",
            "_view_count": null,
            "_view_module_version": "1.5.0",
            "box_style": "",
            "layout": "IPY_MODEL_e1de5afe0e574dcba77ac0f4e6cec218",
            "_model_module": "@jupyter-widgets/controls",
            "children": [
              "IPY_MODEL_746ef7bd3fdb4797a48d144fec2c2913",
              "IPY_MODEL_18069b9ba6234c4493c86e1c6f6739c6",
              "IPY_MODEL_fb8a9bd6afa649e4a919968f62d38f26"
            ]
          }
        },
        "e1de5afe0e574dcba77ac0f4e6cec218": {
          "model_module": "@jupyter-widgets/base",
          "model_name": "LayoutModel",
          "model_module_version": "1.2.0",
          "state": {
            "_view_name": "LayoutView",
            "grid_template_rows": null,
            "right": null,
            "justify_content": null,
            "_view_module": "@jupyter-widgets/base",
            "overflow": null,
            "_model_module_version": "1.2.0",
            "_view_count": null,
            "flex_flow": null,
            "width": null,
            "min_width": null,
            "border": null,
            "align_items": null,
            "bottom": null,
            "_model_module": "@jupyter-widgets/base",
            "top": null,
            "grid_column": null,
            "overflow_y": null,
            "overflow_x": null,
            "grid_auto_flow": null,
            "grid_area": null,
            "grid_template_columns": null,
            "flex": null,
            "_model_name": "LayoutModel",
            "justify_items": null,
            "grid_row": null,
            "max_height": null,
            "align_content": null,
            "visibility": null,
            "align_self": null,
            "height": null,
            "min_height": null,
            "padding": null,
            "grid_auto_rows": null,
            "grid_gap": null,
            "max_width": null,
            "order": null,
            "_view_module_version": "1.2.0",
            "grid_template_areas": null,
            "object_position": null,
            "object_fit": null,
            "grid_auto_columns": null,
            "margin": null,
            "display": null,
            "left": null
          }
        },
        "746ef7bd3fdb4797a48d144fec2c2913": {
          "model_module": "@jupyter-widgets/controls",
          "model_name": "HTMLModel",
          "model_module_version": "1.5.0",
          "state": {
            "_view_name": "HTMLView",
            "style": "IPY_MODEL_c37955b06ec649a3aef2361ef66776b3",
            "_dom_classes": [],
            "description": "",
            "_model_name": "HTMLModel",
            "placeholder": "​",
            "_view_module": "@jupyter-widgets/controls",
            "_model_module_version": "1.5.0",
            "value": "Downloading: 100%",
            "_view_count": null,
            "_view_module_version": "1.5.0",
            "description_tooltip": null,
            "_model_module": "@jupyter-widgets/controls",
            "layout": "IPY_MODEL_f7f69c2d1a3246b6b1acd6385223a298"
          }
        },
        "18069b9ba6234c4493c86e1c6f6739c6": {
          "model_module": "@jupyter-widgets/controls",
          "model_name": "FloatProgressModel",
          "model_module_version": "1.5.0",
          "state": {
            "_view_name": "ProgressView",
            "style": "IPY_MODEL_cff35ec1171b4586b2d47b1be15c3766",
            "_dom_classes": [],
            "description": "",
            "_model_name": "FloatProgressModel",
            "bar_style": "success",
            "max": 1389353,
            "_view_module": "@jupyter-widgets/controls",
            "_model_module_version": "1.5.0",
            "value": 1389353,
            "_view_count": null,
            "_view_module_version": "1.5.0",
            "orientation": "horizontal",
            "min": 0,
            "description_tooltip": null,
            "_model_module": "@jupyter-widgets/controls",
            "layout": "IPY_MODEL_21e14242ae2541b0bd2e5be8b0c73bfb"
          }
        },
        "fb8a9bd6afa649e4a919968f62d38f26": {
          "model_module": "@jupyter-widgets/controls",
          "model_name": "HTMLModel",
          "model_module_version": "1.5.0",
          "state": {
            "_view_name": "HTMLView",
            "style": "IPY_MODEL_1807d191d8eb4293bb36dc4eb06ca543",
            "_dom_classes": [],
            "description": "",
            "_model_name": "HTMLModel",
            "placeholder": "​",
            "_view_module": "@jupyter-widgets/controls",
            "_model_module_version": "1.5.0",
            "value": " 1.32M/1.32M [00:00&lt;00:00, 1.30MB/s]",
            "_view_count": null,
            "_view_module_version": "1.5.0",
            "description_tooltip": null,
            "_model_module": "@jupyter-widgets/controls",
            "layout": "IPY_MODEL_954107c82a7d4f4e903005e660c6aa12"
          }
        },
        "c37955b06ec649a3aef2361ef66776b3": {
          "model_module": "@jupyter-widgets/controls",
          "model_name": "DescriptionStyleModel",
          "model_module_version": "1.5.0",
          "state": {
            "_view_name": "StyleView",
            "_model_name": "DescriptionStyleModel",
            "description_width": "",
            "_view_module": "@jupyter-widgets/base",
            "_model_module_version": "1.5.0",
            "_view_count": null,
            "_view_module_version": "1.2.0",
            "_model_module": "@jupyter-widgets/controls"
          }
        },
        "f7f69c2d1a3246b6b1acd6385223a298": {
          "model_module": "@jupyter-widgets/base",
          "model_name": "LayoutModel",
          "model_module_version": "1.2.0",
          "state": {
            "_view_name": "LayoutView",
            "grid_template_rows": null,
            "right": null,
            "justify_content": null,
            "_view_module": "@jupyter-widgets/base",
            "overflow": null,
            "_model_module_version": "1.2.0",
            "_view_count": null,
            "flex_flow": null,
            "width": null,
            "min_width": null,
            "border": null,
            "align_items": null,
            "bottom": null,
            "_model_module": "@jupyter-widgets/base",
            "top": null,
            "grid_column": null,
            "overflow_y": null,
            "overflow_x": null,
            "grid_auto_flow": null,
            "grid_area": null,
            "grid_template_columns": null,
            "flex": null,
            "_model_name": "LayoutModel",
            "justify_items": null,
            "grid_row": null,
            "max_height": null,
            "align_content": null,
            "visibility": null,
            "align_self": null,
            "height": null,
            "min_height": null,
            "padding": null,
            "grid_auto_rows": null,
            "grid_gap": null,
            "max_width": null,
            "order": null,
            "_view_module_version": "1.2.0",
            "grid_template_areas": null,
            "object_position": null,
            "object_fit": null,
            "grid_auto_columns": null,
            "margin": null,
            "display": null,
            "left": null
          }
        },
        "cff35ec1171b4586b2d47b1be15c3766": {
          "model_module": "@jupyter-widgets/controls",
          "model_name": "ProgressStyleModel",
          "model_module_version": "1.5.0",
          "state": {
            "_view_name": "StyleView",
            "_model_name": "ProgressStyleModel",
            "description_width": "",
            "_view_module": "@jupyter-widgets/base",
            "_model_module_version": "1.5.0",
            "_view_count": null,
            "_view_module_version": "1.2.0",
            "bar_color": null,
            "_model_module": "@jupyter-widgets/controls"
          }
        },
        "21e14242ae2541b0bd2e5be8b0c73bfb": {
          "model_module": "@jupyter-widgets/base",
          "model_name": "LayoutModel",
          "model_module_version": "1.2.0",
          "state": {
            "_view_name": "LayoutView",
            "grid_template_rows": null,
            "right": null,
            "justify_content": null,
            "_view_module": "@jupyter-widgets/base",
            "overflow": null,
            "_model_module_version": "1.2.0",
            "_view_count": null,
            "flex_flow": null,
            "width": null,
            "min_width": null,
            "border": null,
            "align_items": null,
            "bottom": null,
            "_model_module": "@jupyter-widgets/base",
            "top": null,
            "grid_column": null,
            "overflow_y": null,
            "overflow_x": null,
            "grid_auto_flow": null,
            "grid_area": null,
            "grid_template_columns": null,
            "flex": null,
            "_model_name": "LayoutModel",
            "justify_items": null,
            "grid_row": null,
            "max_height": null,
            "align_content": null,
            "visibility": null,
            "align_self": null,
            "height": null,
            "min_height": null,
            "padding": null,
            "grid_auto_rows": null,
            "grid_gap": null,
            "max_width": null,
            "order": null,
            "_view_module_version": "1.2.0",
            "grid_template_areas": null,
            "object_position": null,
            "object_fit": null,
            "grid_auto_columns": null,
            "margin": null,
            "display": null,
            "left": null
          }
        },
        "1807d191d8eb4293bb36dc4eb06ca543": {
          "model_module": "@jupyter-widgets/controls",
          "model_name": "DescriptionStyleModel",
          "model_module_version": "1.5.0",
          "state": {
            "_view_name": "StyleView",
            "_model_name": "DescriptionStyleModel",
            "description_width": "",
            "_view_module": "@jupyter-widgets/base",
            "_model_module_version": "1.5.0",
            "_view_count": null,
            "_view_module_version": "1.2.0",
            "_model_module": "@jupyter-widgets/controls"
          }
        },
        "954107c82a7d4f4e903005e660c6aa12": {
          "model_module": "@jupyter-widgets/base",
          "model_name": "LayoutModel",
          "model_module_version": "1.2.0",
          "state": {
            "_view_name": "LayoutView",
            "grid_template_rows": null,
            "right": null,
            "justify_content": null,
            "_view_module": "@jupyter-widgets/base",
            "overflow": null,
            "_model_module_version": "1.2.0",
            "_view_count": null,
            "flex_flow": null,
            "width": null,
            "min_width": null,
            "border": null,
            "align_items": null,
            "bottom": null,
            "_model_module": "@jupyter-widgets/base",
            "top": null,
            "grid_column": null,
            "overflow_y": null,
            "overflow_x": null,
            "grid_auto_flow": null,
            "grid_area": null,
            "grid_template_columns": null,
            "flex": null,
            "_model_name": "LayoutModel",
            "justify_items": null,
            "grid_row": null,
            "max_height": null,
            "align_content": null,
            "visibility": null,
            "align_self": null,
            "height": null,
            "min_height": null,
            "padding": null,
            "grid_auto_rows": null,
            "grid_gap": null,
            "max_width": null,
            "order": null,
            "_view_module_version": "1.2.0",
            "grid_template_areas": null,
            "object_position": null,
            "object_fit": null,
            "grid_auto_columns": null,
            "margin": null,
            "display": null,
            "left": null
          }
        },
        "3298f6d2edc84a93b58c010a0e12cf31": {
          "model_module": "@jupyter-widgets/controls",
          "model_name": "HBoxModel",
          "model_module_version": "1.5.0",
          "state": {
            "_view_name": "HBoxView",
            "_dom_classes": [],
            "_model_name": "HBoxModel",
            "_view_module": "@jupyter-widgets/controls",
            "_model_module_version": "1.5.0",
            "_view_count": null,
            "_view_module_version": "1.5.0",
            "box_style": "",
            "layout": "IPY_MODEL_799c09abb0254a88a0eb061f9f8b2f76",
            "_model_module": "@jupyter-widgets/controls",
            "children": [
              "IPY_MODEL_f92175eb5ce2432e93083d6cfd6468d5",
              "IPY_MODEL_3e65ada2be32406db2e5be8f88d59945",
              "IPY_MODEL_04dd2556a5aa428db18660f0a62f596b"
            ]
          }
        },
        "799c09abb0254a88a0eb061f9f8b2f76": {
          "model_module": "@jupyter-widgets/base",
          "model_name": "LayoutModel",
          "model_module_version": "1.2.0",
          "state": {
            "_view_name": "LayoutView",
            "grid_template_rows": null,
            "right": null,
            "justify_content": null,
            "_view_module": "@jupyter-widgets/base",
            "overflow": null,
            "_model_module_version": "1.2.0",
            "_view_count": null,
            "flex_flow": null,
            "width": null,
            "min_width": null,
            "border": null,
            "align_items": null,
            "bottom": null,
            "_model_module": "@jupyter-widgets/base",
            "top": null,
            "grid_column": null,
            "overflow_y": null,
            "overflow_x": null,
            "grid_auto_flow": null,
            "grid_area": null,
            "grid_template_columns": null,
            "flex": null,
            "_model_name": "LayoutModel",
            "justify_items": null,
            "grid_row": null,
            "max_height": null,
            "align_content": null,
            "visibility": null,
            "align_self": null,
            "height": null,
            "min_height": null,
            "padding": null,
            "grid_auto_rows": null,
            "grid_gap": null,
            "max_width": null,
            "order": null,
            "_view_module_version": "1.2.0",
            "grid_template_areas": null,
            "object_position": null,
            "object_fit": null,
            "grid_auto_columns": null,
            "margin": null,
            "display": null,
            "left": null
          }
        },
        "f92175eb5ce2432e93083d6cfd6468d5": {
          "model_module": "@jupyter-widgets/controls",
          "model_name": "HTMLModel",
          "model_module_version": "1.5.0",
          "state": {
            "_view_name": "HTMLView",
            "style": "IPY_MODEL_167106b342494756b72466b968fdb6c6",
            "_dom_classes": [],
            "description": "",
            "_model_name": "HTMLModel",
            "placeholder": "​",
            "_view_module": "@jupyter-widgets/controls",
            "_model_module_version": "1.5.0",
            "value": "Downloading: ",
            "_view_count": null,
            "_view_module_version": "1.5.0",
            "description_tooltip": null,
            "_model_module": "@jupyter-widgets/controls",
            "layout": "IPY_MODEL_f355f2246d464ed7beb6d5509e208251"
          }
        },
        "3e65ada2be32406db2e5be8f88d59945": {
          "model_module": "@jupyter-widgets/controls",
          "model_name": "FloatProgressModel",
          "model_module_version": "1.5.0",
          "state": {
            "_view_name": "ProgressView",
            "style": "IPY_MODEL_efe6a0e445d243acb89c05fb4a9316bf",
            "_dom_classes": [],
            "description": "",
            "_model_name": "FloatProgressModel",
            "bar_style": "success",
            "max": 2161,
            "_view_module": "@jupyter-widgets/controls",
            "_model_module_version": "1.5.0",
            "value": 2161,
            "_view_count": null,
            "_view_module_version": "1.5.0",
            "orientation": "horizontal",
            "min": 0,
            "description_tooltip": null,
            "_model_module": "@jupyter-widgets/controls",
            "layout": "IPY_MODEL_d9a7220b2bd642e2bd39816d2c9fe41b"
          }
        },
        "04dd2556a5aa428db18660f0a62f596b": {
          "model_module": "@jupyter-widgets/controls",
          "model_name": "HTMLModel",
          "model_module_version": "1.5.0",
          "state": {
            "_view_name": "HTMLView",
            "style": "IPY_MODEL_a8eb91febc1547259047871d3021b9ed",
            "_dom_classes": [],
            "description": "",
            "_model_name": "HTMLModel",
            "placeholder": "​",
            "_view_module": "@jupyter-widgets/controls",
            "_model_module_version": "1.5.0",
            "value": " 5.60k/? [00:00&lt;00:00, 147kB/s]",
            "_view_count": null,
            "_view_module_version": "1.5.0",
            "description_tooltip": null,
            "_model_module": "@jupyter-widgets/controls",
            "layout": "IPY_MODEL_5c3bce949d61495098d7e107badd97ba"
          }
        },
        "167106b342494756b72466b968fdb6c6": {
          "model_module": "@jupyter-widgets/controls",
          "model_name": "DescriptionStyleModel",
          "model_module_version": "1.5.0",
          "state": {
            "_view_name": "StyleView",
            "_model_name": "DescriptionStyleModel",
            "description_width": "",
            "_view_module": "@jupyter-widgets/base",
            "_model_module_version": "1.5.0",
            "_view_count": null,
            "_view_module_version": "1.2.0",
            "_model_module": "@jupyter-widgets/controls"
          }
        },
        "f355f2246d464ed7beb6d5509e208251": {
          "model_module": "@jupyter-widgets/base",
          "model_name": "LayoutModel",
          "model_module_version": "1.2.0",
          "state": {
            "_view_name": "LayoutView",
            "grid_template_rows": null,
            "right": null,
            "justify_content": null,
            "_view_module": "@jupyter-widgets/base",
            "overflow": null,
            "_model_module_version": "1.2.0",
            "_view_count": null,
            "flex_flow": null,
            "width": null,
            "min_width": null,
            "border": null,
            "align_items": null,
            "bottom": null,
            "_model_module": "@jupyter-widgets/base",
            "top": null,
            "grid_column": null,
            "overflow_y": null,
            "overflow_x": null,
            "grid_auto_flow": null,
            "grid_area": null,
            "grid_template_columns": null,
            "flex": null,
            "_model_name": "LayoutModel",
            "justify_items": null,
            "grid_row": null,
            "max_height": null,
            "align_content": null,
            "visibility": null,
            "align_self": null,
            "height": null,
            "min_height": null,
            "padding": null,
            "grid_auto_rows": null,
            "grid_gap": null,
            "max_width": null,
            "order": null,
            "_view_module_version": "1.2.0",
            "grid_template_areas": null,
            "object_position": null,
            "object_fit": null,
            "grid_auto_columns": null,
            "margin": null,
            "display": null,
            "left": null
          }
        },
        "efe6a0e445d243acb89c05fb4a9316bf": {
          "model_module": "@jupyter-widgets/controls",
          "model_name": "ProgressStyleModel",
          "model_module_version": "1.5.0",
          "state": {
            "_view_name": "StyleView",
            "_model_name": "ProgressStyleModel",
            "description_width": "",
            "_view_module": "@jupyter-widgets/base",
            "_model_module_version": "1.5.0",
            "_view_count": null,
            "_view_module_version": "1.2.0",
            "bar_color": null,
            "_model_module": "@jupyter-widgets/controls"
          }
        },
        "d9a7220b2bd642e2bd39816d2c9fe41b": {
          "model_module": "@jupyter-widgets/base",
          "model_name": "LayoutModel",
          "model_module_version": "1.2.0",
          "state": {
            "_view_name": "LayoutView",
            "grid_template_rows": null,
            "right": null,
            "justify_content": null,
            "_view_module": "@jupyter-widgets/base",
            "overflow": null,
            "_model_module_version": "1.2.0",
            "_view_count": null,
            "flex_flow": null,
            "width": null,
            "min_width": null,
            "border": null,
            "align_items": null,
            "bottom": null,
            "_model_module": "@jupyter-widgets/base",
            "top": null,
            "grid_column": null,
            "overflow_y": null,
            "overflow_x": null,
            "grid_auto_flow": null,
            "grid_area": null,
            "grid_template_columns": null,
            "flex": null,
            "_model_name": "LayoutModel",
            "justify_items": null,
            "grid_row": null,
            "max_height": null,
            "align_content": null,
            "visibility": null,
            "align_self": null,
            "height": null,
            "min_height": null,
            "padding": null,
            "grid_auto_rows": null,
            "grid_gap": null,
            "max_width": null,
            "order": null,
            "_view_module_version": "1.2.0",
            "grid_template_areas": null,
            "object_position": null,
            "object_fit": null,
            "grid_auto_columns": null,
            "margin": null,
            "display": null,
            "left": null
          }
        },
        "a8eb91febc1547259047871d3021b9ed": {
          "model_module": "@jupyter-widgets/controls",
          "model_name": "DescriptionStyleModel",
          "model_module_version": "1.5.0",
          "state": {
            "_view_name": "StyleView",
            "_model_name": "DescriptionStyleModel",
            "description_width": "",
            "_view_module": "@jupyter-widgets/base",
            "_model_module_version": "1.5.0",
            "_view_count": null,
            "_view_module_version": "1.2.0",
            "_model_module": "@jupyter-widgets/controls"
          }
        },
        "5c3bce949d61495098d7e107badd97ba": {
          "model_module": "@jupyter-widgets/base",
          "model_name": "LayoutModel",
          "model_module_version": "1.2.0",
          "state": {
            "_view_name": "LayoutView",
            "grid_template_rows": null,
            "right": null,
            "justify_content": null,
            "_view_module": "@jupyter-widgets/base",
            "overflow": null,
            "_model_module_version": "1.2.0",
            "_view_count": null,
            "flex_flow": null,
            "width": null,
            "min_width": null,
            "border": null,
            "align_items": null,
            "bottom": null,
            "_model_module": "@jupyter-widgets/base",
            "top": null,
            "grid_column": null,
            "overflow_y": null,
            "overflow_x": null,
            "grid_auto_flow": null,
            "grid_area": null,
            "grid_template_columns": null,
            "flex": null,
            "_model_name": "LayoutModel",
            "justify_items": null,
            "grid_row": null,
            "max_height": null,
            "align_content": null,
            "visibility": null,
            "align_self": null,
            "height": null,
            "min_height": null,
            "padding": null,
            "grid_auto_rows": null,
            "grid_gap": null,
            "max_width": null,
            "order": null,
            "_view_module_version": "1.2.0",
            "grid_template_areas": null,
            "object_position": null,
            "object_fit": null,
            "grid_auto_columns": null,
            "margin": null,
            "display": null,
            "left": null
          }
        },
        "a99d10fd70264d05854291500b6d2f55": {
          "model_module": "@jupyter-widgets/controls",
          "model_name": "HBoxModel",
          "model_module_version": "1.5.0",
          "state": {
            "_view_name": "HBoxView",
            "_dom_classes": [],
            "_model_name": "HBoxModel",
            "_view_module": "@jupyter-widgets/controls",
            "_model_module_version": "1.5.0",
            "_view_count": null,
            "_view_module_version": "1.5.0",
            "box_style": "",
            "layout": "IPY_MODEL_14bb97920dee48709e0da7c020a86bfe",
            "_model_module": "@jupyter-widgets/controls",
            "children": [
              "IPY_MODEL_2cb0bdb8d73b4b7493b1168022f039a5",
              "IPY_MODEL_c8890616426844bbbd7d0f3c385148d4",
              "IPY_MODEL_b0c0da580dca416a92d5fc582e168211"
            ]
          }
        },
        "14bb97920dee48709e0da7c020a86bfe": {
          "model_module": "@jupyter-widgets/base",
          "model_name": "LayoutModel",
          "model_module_version": "1.2.0",
          "state": {
            "_view_name": "LayoutView",
            "grid_template_rows": null,
            "right": null,
            "justify_content": null,
            "_view_module": "@jupyter-widgets/base",
            "overflow": null,
            "_model_module_version": "1.2.0",
            "_view_count": null,
            "flex_flow": null,
            "width": null,
            "min_width": null,
            "border": null,
            "align_items": null,
            "bottom": null,
            "_model_module": "@jupyter-widgets/base",
            "top": null,
            "grid_column": null,
            "overflow_y": null,
            "overflow_x": null,
            "grid_auto_flow": null,
            "grid_area": null,
            "grid_template_columns": null,
            "flex": null,
            "_model_name": "LayoutModel",
            "justify_items": null,
            "grid_row": null,
            "max_height": null,
            "align_content": null,
            "visibility": null,
            "align_self": null,
            "height": null,
            "min_height": null,
            "padding": null,
            "grid_auto_rows": null,
            "grid_gap": null,
            "max_width": null,
            "order": null,
            "_view_module_version": "1.2.0",
            "grid_template_areas": null,
            "object_position": null,
            "object_fit": null,
            "grid_auto_columns": null,
            "margin": null,
            "display": null,
            "left": null
          }
        },
        "2cb0bdb8d73b4b7493b1168022f039a5": {
          "model_module": "@jupyter-widgets/controls",
          "model_name": "HTMLModel",
          "model_module_version": "1.5.0",
          "state": {
            "_view_name": "HTMLView",
            "style": "IPY_MODEL_517863161a1f417ea2dee44c913cd764",
            "_dom_classes": [],
            "description": "",
            "_model_name": "HTMLModel",
            "placeholder": "​",
            "_view_module": "@jupyter-widgets/controls",
            "_model_module_version": "1.5.0",
            "value": "Downloading: 100%",
            "_view_count": null,
            "_view_module_version": "1.5.0",
            "description_tooltip": null,
            "_model_module": "@jupyter-widgets/controls",
            "layout": "IPY_MODEL_4cf1eee7b45d4f6d8e0aef872eca542c"
          }
        },
        "c8890616426844bbbd7d0f3c385148d4": {
          "model_module": "@jupyter-widgets/controls",
          "model_name": "FloatProgressModel",
          "model_module_version": "1.5.0",
          "state": {
            "_view_name": "ProgressView",
            "style": "IPY_MODEL_7d1f664ca9ac40c3998eef342ffd52a8",
            "_dom_classes": [],
            "description": "",
            "_model_name": "FloatProgressModel",
            "bar_style": "success",
            "max": 1197,
            "_view_module": "@jupyter-widgets/controls",
            "_model_module_version": "1.5.0",
            "value": 1197,
            "_view_count": null,
            "_view_module_version": "1.5.0",
            "orientation": "horizontal",
            "min": 0,
            "description_tooltip": null,
            "_model_module": "@jupyter-widgets/controls",
            "layout": "IPY_MODEL_47956fd96d71425f8d68e116fd7a6699"
          }
        },
        "b0c0da580dca416a92d5fc582e168211": {
          "model_module": "@jupyter-widgets/controls",
          "model_name": "HTMLModel",
          "model_module_version": "1.5.0",
          "state": {
            "_view_name": "HTMLView",
            "style": "IPY_MODEL_d27c288e18c441f8b29e8050bd1dd418",
            "_dom_classes": [],
            "description": "",
            "_model_name": "HTMLModel",
            "placeholder": "​",
            "_view_module": "@jupyter-widgets/controls",
            "_model_module_version": "1.5.0",
            "value": " 1.17k/1.17k [00:00&lt;00:00, 24.2kB/s]",
            "_view_count": null,
            "_view_module_version": "1.5.0",
            "description_tooltip": null,
            "_model_module": "@jupyter-widgets/controls",
            "layout": "IPY_MODEL_9a13c780b2144399b8366b99412eecef"
          }
        },
        "517863161a1f417ea2dee44c913cd764": {
          "model_module": "@jupyter-widgets/controls",
          "model_name": "DescriptionStyleModel",
          "model_module_version": "1.5.0",
          "state": {
            "_view_name": "StyleView",
            "_model_name": "DescriptionStyleModel",
            "description_width": "",
            "_view_module": "@jupyter-widgets/base",
            "_model_module_version": "1.5.0",
            "_view_count": null,
            "_view_module_version": "1.2.0",
            "_model_module": "@jupyter-widgets/controls"
          }
        },
        "4cf1eee7b45d4f6d8e0aef872eca542c": {
          "model_module": "@jupyter-widgets/base",
          "model_name": "LayoutModel",
          "model_module_version": "1.2.0",
          "state": {
            "_view_name": "LayoutView",
            "grid_template_rows": null,
            "right": null,
            "justify_content": null,
            "_view_module": "@jupyter-widgets/base",
            "overflow": null,
            "_model_module_version": "1.2.0",
            "_view_count": null,
            "flex_flow": null,
            "width": null,
            "min_width": null,
            "border": null,
            "align_items": null,
            "bottom": null,
            "_model_module": "@jupyter-widgets/base",
            "top": null,
            "grid_column": null,
            "overflow_y": null,
            "overflow_x": null,
            "grid_auto_flow": null,
            "grid_area": null,
            "grid_template_columns": null,
            "flex": null,
            "_model_name": "LayoutModel",
            "justify_items": null,
            "grid_row": null,
            "max_height": null,
            "align_content": null,
            "visibility": null,
            "align_self": null,
            "height": null,
            "min_height": null,
            "padding": null,
            "grid_auto_rows": null,
            "grid_gap": null,
            "max_width": null,
            "order": null,
            "_view_module_version": "1.2.0",
            "grid_template_areas": null,
            "object_position": null,
            "object_fit": null,
            "grid_auto_columns": null,
            "margin": null,
            "display": null,
            "left": null
          }
        },
        "7d1f664ca9ac40c3998eef342ffd52a8": {
          "model_module": "@jupyter-widgets/controls",
          "model_name": "ProgressStyleModel",
          "model_module_version": "1.5.0",
          "state": {
            "_view_name": "StyleView",
            "_model_name": "ProgressStyleModel",
            "description_width": "",
            "_view_module": "@jupyter-widgets/base",
            "_model_module_version": "1.5.0",
            "_view_count": null,
            "_view_module_version": "1.2.0",
            "bar_color": null,
            "_model_module": "@jupyter-widgets/controls"
          }
        },
        "47956fd96d71425f8d68e116fd7a6699": {
          "model_module": "@jupyter-widgets/base",
          "model_name": "LayoutModel",
          "model_module_version": "1.2.0",
          "state": {
            "_view_name": "LayoutView",
            "grid_template_rows": null,
            "right": null,
            "justify_content": null,
            "_view_module": "@jupyter-widgets/base",
            "overflow": null,
            "_model_module_version": "1.2.0",
            "_view_count": null,
            "flex_flow": null,
            "width": null,
            "min_width": null,
            "border": null,
            "align_items": null,
            "bottom": null,
            "_model_module": "@jupyter-widgets/base",
            "top": null,
            "grid_column": null,
            "overflow_y": null,
            "overflow_x": null,
            "grid_auto_flow": null,
            "grid_area": null,
            "grid_template_columns": null,
            "flex": null,
            "_model_name": "LayoutModel",
            "justify_items": null,
            "grid_row": null,
            "max_height": null,
            "align_content": null,
            "visibility": null,
            "align_self": null,
            "height": null,
            "min_height": null,
            "padding": null,
            "grid_auto_rows": null,
            "grid_gap": null,
            "max_width": null,
            "order": null,
            "_view_module_version": "1.2.0",
            "grid_template_areas": null,
            "object_position": null,
            "object_fit": null,
            "grid_auto_columns": null,
            "margin": null,
            "display": null,
            "left": null
          }
        },
        "d27c288e18c441f8b29e8050bd1dd418": {
          "model_module": "@jupyter-widgets/controls",
          "model_name": "DescriptionStyleModel",
          "model_module_version": "1.5.0",
          "state": {
            "_view_name": "StyleView",
            "_model_name": "DescriptionStyleModel",
            "description_width": "",
            "_view_module": "@jupyter-widgets/base",
            "_model_module_version": "1.5.0",
            "_view_count": null,
            "_view_module_version": "1.2.0",
            "_model_module": "@jupyter-widgets/controls"
          }
        },
        "9a13c780b2144399b8366b99412eecef": {
          "model_module": "@jupyter-widgets/base",
          "model_name": "LayoutModel",
          "model_module_version": "1.2.0",
          "state": {
            "_view_name": "LayoutView",
            "grid_template_rows": null,
            "right": null,
            "justify_content": null,
            "_view_module": "@jupyter-widgets/base",
            "overflow": null,
            "_model_module_version": "1.2.0",
            "_view_count": null,
            "flex_flow": null,
            "width": null,
            "min_width": null,
            "border": null,
            "align_items": null,
            "bottom": null,
            "_model_module": "@jupyter-widgets/base",
            "top": null,
            "grid_column": null,
            "overflow_y": null,
            "overflow_x": null,
            "grid_auto_flow": null,
            "grid_area": null,
            "grid_template_columns": null,
            "flex": null,
            "_model_name": "LayoutModel",
            "justify_items": null,
            "grid_row": null,
            "max_height": null,
            "align_content": null,
            "visibility": null,
            "align_self": null,
            "height": null,
            "min_height": null,
            "padding": null,
            "grid_auto_rows": null,
            "grid_gap": null,
            "max_width": null,
            "order": null,
            "_view_module_version": "1.2.0",
            "grid_template_areas": null,
            "object_position": null,
            "object_fit": null,
            "grid_auto_columns": null,
            "margin": null,
            "display": null,
            "left": null
          }
        },
        "2f86636028f545b5b3da6ed68759ce6e": {
          "model_module": "@jupyter-widgets/controls",
          "model_name": "HBoxModel",
          "model_module_version": "1.5.0",
          "state": {
            "_view_name": "HBoxView",
            "_dom_classes": [],
            "_model_name": "HBoxModel",
            "_view_module": "@jupyter-widgets/controls",
            "_model_module_version": "1.5.0",
            "_view_count": null,
            "_view_module_version": "1.5.0",
            "box_style": "",
            "layout": "IPY_MODEL_d62139c4afaa4d849d63c35c44d2259b",
            "_model_module": "@jupyter-widgets/controls",
            "children": [
              "IPY_MODEL_5766ea59bab14b819bd66feb0e285176",
              "IPY_MODEL_6d440a6d755d4cc9a2e09e82f2b32d9c",
              "IPY_MODEL_92f2b40ed3ed418ea93077eb57308b3a"
            ]
          }
        },
        "d62139c4afaa4d849d63c35c44d2259b": {
          "model_module": "@jupyter-widgets/base",
          "model_name": "LayoutModel",
          "model_module_version": "1.2.0",
          "state": {
            "_view_name": "LayoutView",
            "grid_template_rows": null,
            "right": null,
            "justify_content": null,
            "_view_module": "@jupyter-widgets/base",
            "overflow": null,
            "_model_module_version": "1.2.0",
            "_view_count": null,
            "flex_flow": null,
            "width": null,
            "min_width": null,
            "border": null,
            "align_items": null,
            "bottom": null,
            "_model_module": "@jupyter-widgets/base",
            "top": null,
            "grid_column": null,
            "overflow_y": null,
            "overflow_x": null,
            "grid_auto_flow": null,
            "grid_area": null,
            "grid_template_columns": null,
            "flex": null,
            "_model_name": "LayoutModel",
            "justify_items": null,
            "grid_row": null,
            "max_height": null,
            "align_content": null,
            "visibility": null,
            "align_self": null,
            "height": null,
            "min_height": null,
            "padding": null,
            "grid_auto_rows": null,
            "grid_gap": null,
            "max_width": null,
            "order": null,
            "_view_module_version": "1.2.0",
            "grid_template_areas": null,
            "object_position": null,
            "object_fit": null,
            "grid_auto_columns": null,
            "margin": null,
            "display": null,
            "left": null
          }
        },
        "5766ea59bab14b819bd66feb0e285176": {
          "model_module": "@jupyter-widgets/controls",
          "model_name": "HTMLModel",
          "model_module_version": "1.5.0",
          "state": {
            "_view_name": "HTMLView",
            "style": "IPY_MODEL_e1d60a5c5c974ccda275159d2a65b9e3",
            "_dom_classes": [],
            "description": "",
            "_model_name": "HTMLModel",
            "placeholder": "​",
            "_view_module": "@jupyter-widgets/controls",
            "_model_module_version": "1.5.0",
            "value": "Downloading: 100%",
            "_view_count": null,
            "_view_module_version": "1.5.0",
            "description_tooltip": null,
            "_model_module": "@jupyter-widgets/controls",
            "layout": "IPY_MODEL_9b4cd2bfe1d744f6a9458b89a770a285"
          }
        },
        "6d440a6d755d4cc9a2e09e82f2b32d9c": {
          "model_module": "@jupyter-widgets/controls",
          "model_name": "FloatProgressModel",
          "model_module_version": "1.5.0",
          "state": {
            "_view_name": "ProgressView",
            "style": "IPY_MODEL_76c42864c7b84c3d9b771562aa44cd07",
            "_dom_classes": [],
            "description": "",
            "_model_name": "FloatProgressModel",
            "bar_style": "success",
            "max": 242065649,
            "_view_module": "@jupyter-widgets/controls",
            "_model_module_version": "1.5.0",
            "value": 242065649,
            "_view_count": null,
            "_view_module_version": "1.5.0",
            "orientation": "horizontal",
            "min": 0,
            "description_tooltip": null,
            "_model_module": "@jupyter-widgets/controls",
            "layout": "IPY_MODEL_5733ec9cd3c740efb637edc402c32854"
          }
        },
        "92f2b40ed3ed418ea93077eb57308b3a": {
          "model_module": "@jupyter-widgets/controls",
          "model_name": "HTMLModel",
          "model_module_version": "1.5.0",
          "state": {
            "_view_name": "HTMLView",
            "style": "IPY_MODEL_52f246e37e2d4648b46b0176e37ccf43",
            "_dom_classes": [],
            "description": "",
            "_model_name": "HTMLModel",
            "placeholder": "​",
            "_view_module": "@jupyter-widgets/controls",
            "_model_module_version": "1.5.0",
            "value": " 231M/231M [00:05&lt;00:00, 49.2MB/s]",
            "_view_count": null,
            "_view_module_version": "1.5.0",
            "description_tooltip": null,
            "_model_module": "@jupyter-widgets/controls",
            "layout": "IPY_MODEL_e2fa68f725034208ba33d8cfe5fecd25"
          }
        },
        "e1d60a5c5c974ccda275159d2a65b9e3": {
          "model_module": "@jupyter-widgets/controls",
          "model_name": "DescriptionStyleModel",
          "model_module_version": "1.5.0",
          "state": {
            "_view_name": "StyleView",
            "_model_name": "DescriptionStyleModel",
            "description_width": "",
            "_view_module": "@jupyter-widgets/base",
            "_model_module_version": "1.5.0",
            "_view_count": null,
            "_view_module_version": "1.2.0",
            "_model_module": "@jupyter-widgets/controls"
          }
        },
        "9b4cd2bfe1d744f6a9458b89a770a285": {
          "model_module": "@jupyter-widgets/base",
          "model_name": "LayoutModel",
          "model_module_version": "1.2.0",
          "state": {
            "_view_name": "LayoutView",
            "grid_template_rows": null,
            "right": null,
            "justify_content": null,
            "_view_module": "@jupyter-widgets/base",
            "overflow": null,
            "_model_module_version": "1.2.0",
            "_view_count": null,
            "flex_flow": null,
            "width": null,
            "min_width": null,
            "border": null,
            "align_items": null,
            "bottom": null,
            "_model_module": "@jupyter-widgets/base",
            "top": null,
            "grid_column": null,
            "overflow_y": null,
            "overflow_x": null,
            "grid_auto_flow": null,
            "grid_area": null,
            "grid_template_columns": null,
            "flex": null,
            "_model_name": "LayoutModel",
            "justify_items": null,
            "grid_row": null,
            "max_height": null,
            "align_content": null,
            "visibility": null,
            "align_self": null,
            "height": null,
            "min_height": null,
            "padding": null,
            "grid_auto_rows": null,
            "grid_gap": null,
            "max_width": null,
            "order": null,
            "_view_module_version": "1.2.0",
            "grid_template_areas": null,
            "object_position": null,
            "object_fit": null,
            "grid_auto_columns": null,
            "margin": null,
            "display": null,
            "left": null
          }
        },
        "76c42864c7b84c3d9b771562aa44cd07": {
          "model_module": "@jupyter-widgets/controls",
          "model_name": "ProgressStyleModel",
          "model_module_version": "1.5.0",
          "state": {
            "_view_name": "StyleView",
            "_model_name": "ProgressStyleModel",
            "description_width": "",
            "_view_module": "@jupyter-widgets/base",
            "_model_module_version": "1.5.0",
            "_view_count": null,
            "_view_module_version": "1.2.0",
            "bar_color": null,
            "_model_module": "@jupyter-widgets/controls"
          }
        },
        "5733ec9cd3c740efb637edc402c32854": {
          "model_module": "@jupyter-widgets/base",
          "model_name": "LayoutModel",
          "model_module_version": "1.2.0",
          "state": {
            "_view_name": "LayoutView",
            "grid_template_rows": null,
            "right": null,
            "justify_content": null,
            "_view_module": "@jupyter-widgets/base",
            "overflow": null,
            "_model_module_version": "1.2.0",
            "_view_count": null,
            "flex_flow": null,
            "width": null,
            "min_width": null,
            "border": null,
            "align_items": null,
            "bottom": null,
            "_model_module": "@jupyter-widgets/base",
            "top": null,
            "grid_column": null,
            "overflow_y": null,
            "overflow_x": null,
            "grid_auto_flow": null,
            "grid_area": null,
            "grid_template_columns": null,
            "flex": null,
            "_model_name": "LayoutModel",
            "justify_items": null,
            "grid_row": null,
            "max_height": null,
            "align_content": null,
            "visibility": null,
            "align_self": null,
            "height": null,
            "min_height": null,
            "padding": null,
            "grid_auto_rows": null,
            "grid_gap": null,
            "max_width": null,
            "order": null,
            "_view_module_version": "1.2.0",
            "grid_template_areas": null,
            "object_position": null,
            "object_fit": null,
            "grid_auto_columns": null,
            "margin": null,
            "display": null,
            "left": null
          }
        },
        "52f246e37e2d4648b46b0176e37ccf43": {
          "model_module": "@jupyter-widgets/controls",
          "model_name": "DescriptionStyleModel",
          "model_module_version": "1.5.0",
          "state": {
            "_view_name": "StyleView",
            "_model_name": "DescriptionStyleModel",
            "description_width": "",
            "_view_module": "@jupyter-widgets/base",
            "_model_module_version": "1.5.0",
            "_view_count": null,
            "_view_module_version": "1.2.0",
            "_model_module": "@jupyter-widgets/controls"
          }
        },
        "e2fa68f725034208ba33d8cfe5fecd25": {
          "model_module": "@jupyter-widgets/base",
          "model_name": "LayoutModel",
          "model_module_version": "1.2.0",
          "state": {
            "_view_name": "LayoutView",
            "grid_template_rows": null,
            "right": null,
            "justify_content": null,
            "_view_module": "@jupyter-widgets/base",
            "overflow": null,
            "_model_module_version": "1.2.0",
            "_view_count": null,
            "flex_flow": null,
            "width": null,
            "min_width": null,
            "border": null,
            "align_items": null,
            "bottom": null,
            "_model_module": "@jupyter-widgets/base",
            "top": null,
            "grid_column": null,
            "overflow_y": null,
            "overflow_x": null,
            "grid_auto_flow": null,
            "grid_area": null,
            "grid_template_columns": null,
            "flex": null,
            "_model_name": "LayoutModel",
            "justify_items": null,
            "grid_row": null,
            "max_height": null,
            "align_content": null,
            "visibility": null,
            "align_self": null,
            "height": null,
            "min_height": null,
            "padding": null,
            "grid_auto_rows": null,
            "grid_gap": null,
            "max_width": null,
            "order": null,
            "_view_module_version": "1.2.0",
            "grid_template_areas": null,
            "object_position": null,
            "object_fit": null,
            "grid_auto_columns": null,
            "margin": null,
            "display": null,
            "left": null
          }
        },
        "681071d2262c4189a78e96d5475b0bd3": {
          "model_module": "@jupyter-widgets/controls",
          "model_name": "HBoxModel",
          "model_module_version": "1.5.0",
          "state": {
            "_view_name": "HBoxView",
            "_dom_classes": [],
            "_model_name": "HBoxModel",
            "_view_module": "@jupyter-widgets/controls",
            "_model_module_version": "1.5.0",
            "_view_count": null,
            "_view_module_version": "1.5.0",
            "box_style": "",
            "layout": "IPY_MODEL_230559771ad0449bbb1a5ebeb9231dde",
            "_model_module": "@jupyter-widgets/controls",
            "children": [
              "IPY_MODEL_a8c3b8318776449faed54e21d267a3cb",
              "IPY_MODEL_f032f2c559e646ee96fcbe035d710a62",
              "IPY_MODEL_104b897de52d45e5957106e544b5a7f2"
            ]
          }
        },
        "230559771ad0449bbb1a5ebeb9231dde": {
          "model_module": "@jupyter-widgets/base",
          "model_name": "LayoutModel",
          "model_module_version": "1.2.0",
          "state": {
            "_view_name": "LayoutView",
            "grid_template_rows": null,
            "right": null,
            "justify_content": null,
            "_view_module": "@jupyter-widgets/base",
            "overflow": null,
            "_model_module_version": "1.2.0",
            "_view_count": null,
            "flex_flow": null,
            "width": null,
            "min_width": null,
            "border": null,
            "align_items": null,
            "bottom": null,
            "_model_module": "@jupyter-widgets/base",
            "top": null,
            "grid_column": null,
            "overflow_y": null,
            "overflow_x": null,
            "grid_auto_flow": null,
            "grid_area": null,
            "grid_template_columns": null,
            "flex": null,
            "_model_name": "LayoutModel",
            "justify_items": null,
            "grid_row": null,
            "max_height": null,
            "align_content": null,
            "visibility": null,
            "align_self": null,
            "height": null,
            "min_height": null,
            "padding": null,
            "grid_auto_rows": null,
            "grid_gap": null,
            "max_width": null,
            "order": null,
            "_view_module_version": "1.2.0",
            "grid_template_areas": null,
            "object_position": null,
            "object_fit": null,
            "grid_auto_columns": null,
            "margin": null,
            "display": null,
            "left": null
          }
        },
        "a8c3b8318776449faed54e21d267a3cb": {
          "model_module": "@jupyter-widgets/controls",
          "model_name": "HTMLModel",
          "model_module_version": "1.5.0",
          "state": {
            "_view_name": "HTMLView",
            "style": "IPY_MODEL_c8119950ef6f43ebabb758a2d9f6944e",
            "_dom_classes": [],
            "description": "",
            "_model_name": "HTMLModel",
            "placeholder": "​",
            "_view_module": "@jupyter-widgets/controls",
            "_model_module_version": "1.5.0",
            "value": "Downloading: 100%",
            "_view_count": null,
            "_view_module_version": "1.5.0",
            "description_tooltip": null,
            "_model_module": "@jupyter-widgets/controls",
            "layout": "IPY_MODEL_d71c97c0d46e407687f2de4669c5622b"
          }
        },
        "f032f2c559e646ee96fcbe035d710a62": {
          "model_module": "@jupyter-widgets/controls",
          "model_name": "FloatProgressModel",
          "model_module_version": "1.5.0",
          "state": {
            "_view_name": "ProgressView",
            "style": "IPY_MODEL_41a6eeef9cdb4c1083c8c652f19126e2",
            "_dom_classes": [],
            "description": "",
            "_model_name": "FloatProgressModel",
            "bar_style": "success",
            "max": 791656,
            "_view_module": "@jupyter-widgets/controls",
            "_model_module_version": "1.5.0",
            "value": 791656,
            "_view_count": null,
            "_view_module_version": "1.5.0",
            "orientation": "horizontal",
            "min": 0,
            "description_tooltip": null,
            "_model_module": "@jupyter-widgets/controls",
            "layout": "IPY_MODEL_90854fe822e04fae8c3dd721a4076071"
          }
        },
        "104b897de52d45e5957106e544b5a7f2": {
          "model_module": "@jupyter-widgets/controls",
          "model_name": "HTMLModel",
          "model_module_version": "1.5.0",
          "state": {
            "_view_name": "HTMLView",
            "style": "IPY_MODEL_cc45d0426aea4a6e817aa4e36163073d",
            "_dom_classes": [],
            "description": "",
            "_model_name": "HTMLModel",
            "placeholder": "​",
            "_view_module": "@jupyter-widgets/controls",
            "_model_module_version": "1.5.0",
            "value": " 773k/773k [00:00&lt;00:00, 1.35MB/s]",
            "_view_count": null,
            "_view_module_version": "1.5.0",
            "description_tooltip": null,
            "_model_module": "@jupyter-widgets/controls",
            "layout": "IPY_MODEL_6a5f2eb8b6504851ade62d54f8cfa1db"
          }
        },
        "c8119950ef6f43ebabb758a2d9f6944e": {
          "model_module": "@jupyter-widgets/controls",
          "model_name": "DescriptionStyleModel",
          "model_module_version": "1.5.0",
          "state": {
            "_view_name": "StyleView",
            "_model_name": "DescriptionStyleModel",
            "description_width": "",
            "_view_module": "@jupyter-widgets/base",
            "_model_module_version": "1.5.0",
            "_view_count": null,
            "_view_module_version": "1.2.0",
            "_model_module": "@jupyter-widgets/controls"
          }
        },
        "d71c97c0d46e407687f2de4669c5622b": {
          "model_module": "@jupyter-widgets/base",
          "model_name": "LayoutModel",
          "model_module_version": "1.2.0",
          "state": {
            "_view_name": "LayoutView",
            "grid_template_rows": null,
            "right": null,
            "justify_content": null,
            "_view_module": "@jupyter-widgets/base",
            "overflow": null,
            "_model_module_version": "1.2.0",
            "_view_count": null,
            "flex_flow": null,
            "width": null,
            "min_width": null,
            "border": null,
            "align_items": null,
            "bottom": null,
            "_model_module": "@jupyter-widgets/base",
            "top": null,
            "grid_column": null,
            "overflow_y": null,
            "overflow_x": null,
            "grid_auto_flow": null,
            "grid_area": null,
            "grid_template_columns": null,
            "flex": null,
            "_model_name": "LayoutModel",
            "justify_items": null,
            "grid_row": null,
            "max_height": null,
            "align_content": null,
            "visibility": null,
            "align_self": null,
            "height": null,
            "min_height": null,
            "padding": null,
            "grid_auto_rows": null,
            "grid_gap": null,
            "max_width": null,
            "order": null,
            "_view_module_version": "1.2.0",
            "grid_template_areas": null,
            "object_position": null,
            "object_fit": null,
            "grid_auto_columns": null,
            "margin": null,
            "display": null,
            "left": null
          }
        },
        "41a6eeef9cdb4c1083c8c652f19126e2": {
          "model_module": "@jupyter-widgets/controls",
          "model_name": "ProgressStyleModel",
          "model_module_version": "1.5.0",
          "state": {
            "_view_name": "StyleView",
            "_model_name": "ProgressStyleModel",
            "description_width": "",
            "_view_module": "@jupyter-widgets/base",
            "_model_module_version": "1.5.0",
            "_view_count": null,
            "_view_module_version": "1.2.0",
            "bar_color": null,
            "_model_module": "@jupyter-widgets/controls"
          }
        },
        "90854fe822e04fae8c3dd721a4076071": {
          "model_module": "@jupyter-widgets/base",
          "model_name": "LayoutModel",
          "model_module_version": "1.2.0",
          "state": {
            "_view_name": "LayoutView",
            "grid_template_rows": null,
            "right": null,
            "justify_content": null,
            "_view_module": "@jupyter-widgets/base",
            "overflow": null,
            "_model_module_version": "1.2.0",
            "_view_count": null,
            "flex_flow": null,
            "width": null,
            "min_width": null,
            "border": null,
            "align_items": null,
            "bottom": null,
            "_model_module": "@jupyter-widgets/base",
            "top": null,
            "grid_column": null,
            "overflow_y": null,
            "overflow_x": null,
            "grid_auto_flow": null,
            "grid_area": null,
            "grid_template_columns": null,
            "flex": null,
            "_model_name": "LayoutModel",
            "justify_items": null,
            "grid_row": null,
            "max_height": null,
            "align_content": null,
            "visibility": null,
            "align_self": null,
            "height": null,
            "min_height": null,
            "padding": null,
            "grid_auto_rows": null,
            "grid_gap": null,
            "max_width": null,
            "order": null,
            "_view_module_version": "1.2.0",
            "grid_template_areas": null,
            "object_position": null,
            "object_fit": null,
            "grid_auto_columns": null,
            "margin": null,
            "display": null,
            "left": null
          }
        },
        "cc45d0426aea4a6e817aa4e36163073d": {
          "model_module": "@jupyter-widgets/controls",
          "model_name": "DescriptionStyleModel",
          "model_module_version": "1.5.0",
          "state": {
            "_view_name": "StyleView",
            "_model_name": "DescriptionStyleModel",
            "description_width": "",
            "_view_module": "@jupyter-widgets/base",
            "_model_module_version": "1.5.0",
            "_view_count": null,
            "_view_module_version": "1.2.0",
            "_model_module": "@jupyter-widgets/controls"
          }
        },
        "6a5f2eb8b6504851ade62d54f8cfa1db": {
          "model_module": "@jupyter-widgets/base",
          "model_name": "LayoutModel",
          "model_module_version": "1.2.0",
          "state": {
            "_view_name": "LayoutView",
            "grid_template_rows": null,
            "right": null,
            "justify_content": null,
            "_view_module": "@jupyter-widgets/base",
            "overflow": null,
            "_model_module_version": "1.2.0",
            "_view_count": null,
            "flex_flow": null,
            "width": null,
            "min_width": null,
            "border": null,
            "align_items": null,
            "bottom": null,
            "_model_module": "@jupyter-widgets/base",
            "top": null,
            "grid_column": null,
            "overflow_y": null,
            "overflow_x": null,
            "grid_auto_flow": null,
            "grid_area": null,
            "grid_template_columns": null,
            "flex": null,
            "_model_name": "LayoutModel",
            "justify_items": null,
            "grid_row": null,
            "max_height": null,
            "align_content": null,
            "visibility": null,
            "align_self": null,
            "height": null,
            "min_height": null,
            "padding": null,
            "grid_auto_rows": null,
            "grid_gap": null,
            "max_width": null,
            "order": null,
            "_view_module_version": "1.2.0",
            "grid_template_areas": null,
            "object_position": null,
            "object_fit": null,
            "grid_auto_columns": null,
            "margin": null,
            "display": null,
            "left": null
          }
        },
        "93c32a4abb4e420198b80872b77b5262": {
          "model_module": "@jupyter-widgets/controls",
          "model_name": "HBoxModel",
          "model_module_version": "1.5.0",
          "state": {
            "_view_name": "HBoxView",
            "_dom_classes": [],
            "_model_name": "HBoxModel",
            "_view_module": "@jupyter-widgets/controls",
            "_model_module_version": "1.5.0",
            "_view_count": null,
            "_view_module_version": "1.5.0",
            "box_style": "",
            "layout": "IPY_MODEL_eb8a4d33952942e797c2042e5260f9b9",
            "_model_module": "@jupyter-widgets/controls",
            "children": [
              "IPY_MODEL_5cd45c50a7ea47f1b5ebbc56aff984de",
              "IPY_MODEL_2ef718f279154dedbdedbf17300c9ab0",
              "IPY_MODEL_75ee8d241bb1456297b2c0925b5f37b1"
            ]
          }
        },
        "eb8a4d33952942e797c2042e5260f9b9": {
          "model_module": "@jupyter-widgets/base",
          "model_name": "LayoutModel",
          "model_module_version": "1.2.0",
          "state": {
            "_view_name": "LayoutView",
            "grid_template_rows": null,
            "right": null,
            "justify_content": null,
            "_view_module": "@jupyter-widgets/base",
            "overflow": null,
            "_model_module_version": "1.2.0",
            "_view_count": null,
            "flex_flow": null,
            "width": null,
            "min_width": null,
            "border": null,
            "align_items": null,
            "bottom": null,
            "_model_module": "@jupyter-widgets/base",
            "top": null,
            "grid_column": null,
            "overflow_y": null,
            "overflow_x": null,
            "grid_auto_flow": null,
            "grid_area": null,
            "grid_template_columns": null,
            "flex": null,
            "_model_name": "LayoutModel",
            "justify_items": null,
            "grid_row": null,
            "max_height": null,
            "align_content": null,
            "visibility": null,
            "align_self": null,
            "height": null,
            "min_height": null,
            "padding": null,
            "grid_auto_rows": null,
            "grid_gap": null,
            "max_width": null,
            "order": null,
            "_view_module_version": "1.2.0",
            "grid_template_areas": null,
            "object_position": null,
            "object_fit": null,
            "grid_auto_columns": null,
            "margin": null,
            "display": null,
            "left": null
          }
        },
        "5cd45c50a7ea47f1b5ebbc56aff984de": {
          "model_module": "@jupyter-widgets/controls",
          "model_name": "HTMLModel",
          "model_module_version": "1.5.0",
          "state": {
            "_view_name": "HTMLView",
            "style": "IPY_MODEL_27f95a162adb4a4ab9d62f5eedc86bee",
            "_dom_classes": [],
            "description": "",
            "_model_name": "HTMLModel",
            "placeholder": "​",
            "_view_module": "@jupyter-widgets/controls",
            "_model_module_version": "1.5.0",
            "value": "Downloading: 100%",
            "_view_count": null,
            "_view_module_version": "1.5.0",
            "description_tooltip": null,
            "_model_module": "@jupyter-widgets/controls",
            "layout": "IPY_MODEL_b3fb3faf655a4a1cae74a54eb1933aa9"
          }
        },
        "2ef718f279154dedbdedbf17300c9ab0": {
          "model_module": "@jupyter-widgets/controls",
          "model_name": "FloatProgressModel",
          "model_module_version": "1.5.0",
          "state": {
            "_view_name": "ProgressView",
            "style": "IPY_MODEL_02c26abc3a7a466cbbdb352dedf65729",
            "_dom_classes": [],
            "description": "",
            "_model_name": "FloatProgressModel",
            "bar_style": "success",
            "max": 1389353,
            "_view_module": "@jupyter-widgets/controls",
            "_model_module_version": "1.5.0",
            "value": 1389353,
            "_view_count": null,
            "_view_module_version": "1.5.0",
            "orientation": "horizontal",
            "min": 0,
            "description_tooltip": null,
            "_model_module": "@jupyter-widgets/controls",
            "layout": "IPY_MODEL_29906a1c2f844244b1ef00ed44049304"
          }
        },
        "75ee8d241bb1456297b2c0925b5f37b1": {
          "model_module": "@jupyter-widgets/controls",
          "model_name": "HTMLModel",
          "model_module_version": "1.5.0",
          "state": {
            "_view_name": "HTMLView",
            "style": "IPY_MODEL_c66278e36b9642fc8441f3c31d009933",
            "_dom_classes": [],
            "description": "",
            "_model_name": "HTMLModel",
            "placeholder": "​",
            "_view_module": "@jupyter-widgets/controls",
            "_model_module_version": "1.5.0",
            "value": " 1.32M/1.32M [00:00&lt;00:00, 1.02MB/s]",
            "_view_count": null,
            "_view_module_version": "1.5.0",
            "description_tooltip": null,
            "_model_module": "@jupyter-widgets/controls",
            "layout": "IPY_MODEL_4f5e65fb59fe42d99057772ea329ada7"
          }
        },
        "27f95a162adb4a4ab9d62f5eedc86bee": {
          "model_module": "@jupyter-widgets/controls",
          "model_name": "DescriptionStyleModel",
          "model_module_version": "1.5.0",
          "state": {
            "_view_name": "StyleView",
            "_model_name": "DescriptionStyleModel",
            "description_width": "",
            "_view_module": "@jupyter-widgets/base",
            "_model_module_version": "1.5.0",
            "_view_count": null,
            "_view_module_version": "1.2.0",
            "_model_module": "@jupyter-widgets/controls"
          }
        },
        "b3fb3faf655a4a1cae74a54eb1933aa9": {
          "model_module": "@jupyter-widgets/base",
          "model_name": "LayoutModel",
          "model_module_version": "1.2.0",
          "state": {
            "_view_name": "LayoutView",
            "grid_template_rows": null,
            "right": null,
            "justify_content": null,
            "_view_module": "@jupyter-widgets/base",
            "overflow": null,
            "_model_module_version": "1.2.0",
            "_view_count": null,
            "flex_flow": null,
            "width": null,
            "min_width": null,
            "border": null,
            "align_items": null,
            "bottom": null,
            "_model_module": "@jupyter-widgets/base",
            "top": null,
            "grid_column": null,
            "overflow_y": null,
            "overflow_x": null,
            "grid_auto_flow": null,
            "grid_area": null,
            "grid_template_columns": null,
            "flex": null,
            "_model_name": "LayoutModel",
            "justify_items": null,
            "grid_row": null,
            "max_height": null,
            "align_content": null,
            "visibility": null,
            "align_self": null,
            "height": null,
            "min_height": null,
            "padding": null,
            "grid_auto_rows": null,
            "grid_gap": null,
            "max_width": null,
            "order": null,
            "_view_module_version": "1.2.0",
            "grid_template_areas": null,
            "object_position": null,
            "object_fit": null,
            "grid_auto_columns": null,
            "margin": null,
            "display": null,
            "left": null
          }
        },
        "02c26abc3a7a466cbbdb352dedf65729": {
          "model_module": "@jupyter-widgets/controls",
          "model_name": "ProgressStyleModel",
          "model_module_version": "1.5.0",
          "state": {
            "_view_name": "StyleView",
            "_model_name": "ProgressStyleModel",
            "description_width": "",
            "_view_module": "@jupyter-widgets/base",
            "_model_module_version": "1.5.0",
            "_view_count": null,
            "_view_module_version": "1.2.0",
            "bar_color": null,
            "_model_module": "@jupyter-widgets/controls"
          }
        },
        "29906a1c2f844244b1ef00ed44049304": {
          "model_module": "@jupyter-widgets/base",
          "model_name": "LayoutModel",
          "model_module_version": "1.2.0",
          "state": {
            "_view_name": "LayoutView",
            "grid_template_rows": null,
            "right": null,
            "justify_content": null,
            "_view_module": "@jupyter-widgets/base",
            "overflow": null,
            "_model_module_version": "1.2.0",
            "_view_count": null,
            "flex_flow": null,
            "width": null,
            "min_width": null,
            "border": null,
            "align_items": null,
            "bottom": null,
            "_model_module": "@jupyter-widgets/base",
            "top": null,
            "grid_column": null,
            "overflow_y": null,
            "overflow_x": null,
            "grid_auto_flow": null,
            "grid_area": null,
            "grid_template_columns": null,
            "flex": null,
            "_model_name": "LayoutModel",
            "justify_items": null,
            "grid_row": null,
            "max_height": null,
            "align_content": null,
            "visibility": null,
            "align_self": null,
            "height": null,
            "min_height": null,
            "padding": null,
            "grid_auto_rows": null,
            "grid_gap": null,
            "max_width": null,
            "order": null,
            "_view_module_version": "1.2.0",
            "grid_template_areas": null,
            "object_position": null,
            "object_fit": null,
            "grid_auto_columns": null,
            "margin": null,
            "display": null,
            "left": null
          }
        },
        "c66278e36b9642fc8441f3c31d009933": {
          "model_module": "@jupyter-widgets/controls",
          "model_name": "DescriptionStyleModel",
          "model_module_version": "1.5.0",
          "state": {
            "_view_name": "StyleView",
            "_model_name": "DescriptionStyleModel",
            "description_width": "",
            "_view_module": "@jupyter-widgets/base",
            "_model_module_version": "1.5.0",
            "_view_count": null,
            "_view_module_version": "1.2.0",
            "_model_module": "@jupyter-widgets/controls"
          }
        },
        "4f5e65fb59fe42d99057772ea329ada7": {
          "model_module": "@jupyter-widgets/base",
          "model_name": "LayoutModel",
          "model_module_version": "1.2.0",
          "state": {
            "_view_name": "LayoutView",
            "grid_template_rows": null,
            "right": null,
            "justify_content": null,
            "_view_module": "@jupyter-widgets/base",
            "overflow": null,
            "_model_module_version": "1.2.0",
            "_view_count": null,
            "flex_flow": null,
            "width": null,
            "min_width": null,
            "border": null,
            "align_items": null,
            "bottom": null,
            "_model_module": "@jupyter-widgets/base",
            "top": null,
            "grid_column": null,
            "overflow_y": null,
            "overflow_x": null,
            "grid_auto_flow": null,
            "grid_area": null,
            "grid_template_columns": null,
            "flex": null,
            "_model_name": "LayoutModel",
            "justify_items": null,
            "grid_row": null,
            "max_height": null,
            "align_content": null,
            "visibility": null,
            "align_self": null,
            "height": null,
            "min_height": null,
            "padding": null,
            "grid_auto_rows": null,
            "grid_gap": null,
            "max_width": null,
            "order": null,
            "_view_module_version": "1.2.0",
            "grid_template_areas": null,
            "object_position": null,
            "object_fit": null,
            "grid_auto_columns": null,
            "margin": null,
            "display": null,
            "left": null
          }
        }
      }
    }
  },
  "nbformat": 4,
  "nbformat_minor": 5
}
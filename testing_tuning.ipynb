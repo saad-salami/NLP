{
  "cells": [
    {
      "cell_type": "markdown",
      "id": "d7542153",
      "metadata": {
        "id": "d7542153"
      },
      "source": [
        "## Transformer\n",
        "\n",
        "Transformers only reads in the following formats:\n",
        "\n",
        "1. txt\n",
        "2. csv\n",
        "3. tsv\n",
        "4. jsonl\n",
        "5. json\n",
        "6. xml\n",
        "\n",
        "[Source](https://huggingface.co/docs/datasets/dataset_script.html)\n",
        "\n",
        "If you want to read in pdf files, you would have to convert it to any of the format above.\n",
        "\n",
        "for our notebook we would be converting thekkkkkkkkknzkjx000000m t"
      ]
    },
    {
      "cell_type": "code",
      "source": [
        "!pip install transformers\n",
        "!pip install datasets\n",
        "!pip install pdfminer\n",
        "!pip install rouge_score\n",
        "!pip install rouge"
      ],
      "metadata": {
        "id": "GTTiPiy5VZLh"
      },
      "id": "GTTiPiy5VZLh",
      "execution_count": null,
      "outputs": []
    },
    {
      "cell_type": "code",
      "execution_count": null,
      "id": "788ceb0e",
      "metadata": {
        "id": "788ceb0e"
      },
      "outputs": [],
      "source": [
        "from io import StringIO\n",
        "\n",
        "from pdfminer.converter import TextConverter\n",
        "from pdfminer.layout import LAParams\n",
        "from pdfminer.pdfdocument import PDFDocument\n",
        "from pdfminer.pdfinterp import PDFResourceManager, PDFPageInterpreter\n",
        "from pdfminer.pdfpage import PDFPage\n",
        "from pdfminer.pdfparser import PDFParser\n",
        "from datasets import load_metric\n",
        "\n",
        "\n",
        "\n",
        "#from transformers import pipeline\n",
        "from transformers import AutoModelForSeq2SeqLM, AutoTokenizer"
      ]
    },
    {
      "cell_type": "code",
      "execution_count": null,
      "id": "cf5081df",
      "metadata": {
        "id": "cf5081df",
        "colab": {
          "base_uri": "https://localhost:8080/",
          "height": 49,
          "referenced_widgets": [
            "f1595f5058684c49ac26e9861cdf3699",
            "c553547792da4e2ea618bcdbff08a210",
            "2bb1553be63e42fc8dff530d1e06deb4",
            "b802b90be4224e7aabed9c7c81aedbbc",
            "4d1b4b82ddb947a5ab402aabb4da1500",
            "99a79a8038ba44b997f8f305e00d329f",
            "45770c38dacd435091bd561532218f3c",
            "7c7575abaa5c425493867d8901ea7254",
            "16d7d349174d4960aeed8d837afef61a",
            "a2ad8e47bbb14e279b71022ececa6abd",
            "92d38a5d7e134a33bcfddbf57a4cc90f"
          ]
        },
        "outputId": "e86049ac-2414-45bd-f534-d7740eaba6c7"
      },
      "outputs": [
        {
          "output_type": "display_data",
          "data": {
            "application/vnd.jupyter.widget-view+json": {
              "model_id": "f1595f5058684c49ac26e9861cdf3699",
              "version_minor": 0,
              "version_major": 2
            },
            "text/plain": [
              "Downloading:   0%|          | 0.00/2.16k [00:00<?, ?B/s]"
            ]
          },
          "metadata": {}
        }
      ],
      "source": [
        "metric = load_metric('rouge')"
      ]
    },
    {
      "cell_type": "code",
      "execution_count": null,
      "id": "9af7f2a1",
      "metadata": {
        "id": "9af7f2a1",
        "colab": {
          "base_uri": "https://localhost:8080/",
          "height": 81,
          "referenced_widgets": [
            "f586e4f4066c4dac8982595c75e4a388",
            "72c4079704a44f88922c09589e66b85b",
            "73452802bfae4c0bab5a2a7759df780a",
            "d6e6ea107d984d9aa53090bccd9ea30d",
            "c13166f573084e918a6b98685e187479",
            "a421b1cb2f72477498019e66d1511f30",
            "0f2c659fd6f844f4af4d9579719a1e9b",
            "cc22b6f2186e4227a814411c37c13ee2",
            "e20a13605cef42cbbec8502b657401d2",
            "48230b75ab5e411b980b819084b9ee45",
            "f552d00a24ed45c291a0f0d4f996d846",
            "4c7e3c143778450f99a15312ac637616",
            "7345f06c2dee4af793fdde9f20514a47",
            "60f7e0d2fcdc44c2a867a6bfac31b7e3",
            "4ffc5ec5b9fc4a48a52d96e99d7fc980",
            "3917969cd740427b91bb53ec5cd27372",
            "54a95817344847f8a67771e0604a4f7f",
            "7aed87cdb6f54ba2ac22d1fc52314235",
            "a2021d07aedd44b0b352df0b1435cd5c",
            "f4af7fbd69a74057901c06403005e550",
            "17df1bdfbaf1491aafd3d83bfe194d3a",
            "3252ea6db24743cea1ebc1e4e45b872b"
          ]
        },
        "outputId": "0616ecd3-6b4c-4dde-bc29-359bbe6678cb"
      },
      "outputs": [
        {
          "output_type": "display_data",
          "data": {
            "application/vnd.jupyter.widget-view+json": {
              "model_id": "f586e4f4066c4dac8982595c75e4a388",
              "version_minor": 0,
              "version_major": 2
            },
            "text/plain": [
              "Downloading:   0%|          | 0.00/1.17k [00:00<?, ?B/s]"
            ]
          },
          "metadata": {}
        },
        {
          "output_type": "display_data",
          "data": {
            "application/vnd.jupyter.widget-view+json": {
              "model_id": "4c7e3c143778450f99a15312ac637616",
              "version_minor": 0,
              "version_major": 2
            },
            "text/plain": [
              "Downloading:   0%|          | 0.00/850M [00:00<?, ?B/s]"
            ]
          },
          "metadata": {}
        }
      ],
      "source": [
        "model = AutoModelForSeq2SeqLM.from_pretrained(\"t5-base\")"
      ]
    },
    {
      "cell_type": "code",
      "execution_count": null,
      "id": "3a84db51",
      "metadata": {
        "id": "3a84db51",
        "colab": {
          "base_uri": "https://localhost:8080/",
          "height": 81,
          "referenced_widgets": [
            "8831d5051f6f4f239ded95c845381f09",
            "1ab6c39118f143fa95be193ceeba783a",
            "8857e65d625140568083a30e6fcd38b6",
            "1ae09f11872c46c9a27bfcd76f53ff91",
            "fa27c00d2c0740a9aef171ab13f4dc87",
            "6f496b0f669e4104bcd6cccfa00fc630",
            "44f368c9c86244c0b087e11c60d44ad0",
            "ae32f08763044d16a64c143fe83c5ce5",
            "38d7a0b480ed4428ae9f4e0bd4d055e2",
            "49b1d8f7d97844129c40e31f3b32f3ae",
            "5aa2d1027a644909bde1ad4e357a0bc4",
            "8df4d6102406485aa78cd7ad9b05742a",
            "f8e5a855def044d29c2f61d3b656f200",
            "eb8313a8d4704219afbc23224e601d9c",
            "e9458d580b804d35a3b37a61659324b3",
            "417756e6c8fa4327bae10ed5a9673b59",
            "6a3d3108d5d140e692f3c0fffbcff6d0",
            "12a903dc2634458e9e450b782f3afa6e",
            "8521b254ce3c4f47afc69296bc654898",
            "3102efb1b5054ff1ace2a5af0e5f878e",
            "a58e9e6e31e040079e5623a4550d2367",
            "9132eada98684340ad4a23a8e0949681"
          ]
        },
        "outputId": "75eeeb40-18d1-4f4b-9811-9f6f1b85ebaf"
      },
      "outputs": [
        {
          "output_type": "display_data",
          "data": {
            "application/vnd.jupyter.widget-view+json": {
              "model_id": "8831d5051f6f4f239ded95c845381f09",
              "version_minor": 0,
              "version_major": 2
            },
            "text/plain": [
              "Downloading:   0%|          | 0.00/773k [00:00<?, ?B/s]"
            ]
          },
          "metadata": {}
        },
        {
          "output_type": "display_data",
          "data": {
            "application/vnd.jupyter.widget-view+json": {
              "model_id": "8df4d6102406485aa78cd7ad9b05742a",
              "version_minor": 0,
              "version_major": 2
            },
            "text/plain": [
              "Downloading:   0%|          | 0.00/1.32M [00:00<?, ?B/s]"
            ]
          },
          "metadata": {}
        }
      ],
      "source": [
        "tokenizer = AutoTokenizer.from_pretrained(\"t5-base\")"
      ]
    },
    {
      "cell_type": "code",
      "source": [
        "output_string = StringIO()\n",
        "with open(\"summary_one.pdf\" , \"rb\") as in_file:\n",
        "    parser = PDFParser(in_file)\n",
        "    doc = PDFDocument(parser)\n",
        "    rsrcmgr = PDFResourceManager()\n",
        "    device =  TextConverter(rsrcmgr, output_string, laparams= LAParams())\n",
        "    interpreter = PDFPageInterpreter(rsrcmgr, device)\n",
        "    \n",
        "    for page in PDFPage.create_pages(doc):\n",
        "        interpreter.process_page(page)\n",
        "        #print('*' * 100)\n",
        "        \n",
        "print(output_string.getvalue())"
      ],
      "metadata": {
        "colab": {
          "base_uri": "https://localhost:8080/"
        },
        "id": "XS7S2rK_URUF",
        "outputId": "b6a4b480-7766-49af-9af5-1ab61a6e50cc"
      },
      "id": "XS7S2rK_URUF",
      "execution_count": null,
      "outputs": [
        {
          "output_type": "stream",
          "name": "stdout",
          "text": [
            "There were certain underlying conditions that enabled department stores to\n",
            "grow up when they did. From the start, they all catered for middle-class\n",
            "customers and set out to convey to them an air of luxury and solid comfort. Of\n",
            "necessity, they all arose in central positions where large numbers of people\n",
            "could reach them easily by means of public transport. Physically, they grew up\n",
            "in an era of big technical developments in building so that they could a\u0000ord\n",
            "multi-storey palaces and could have enormous plate-glass windows for\n",
            "display, lighting and novelties like lifts.\n",
            "Above all, the department stores rose with the rise of Victorian white-collar\n",
            "workers, the small-scale businessmen and professionals whose womenfolk\n",
            "had money to spare for a few luxuries and were gradually switching the\n",
            "emphasis of their housekeeping expenditure from food to other items.\n",
            "\n",
            "Most of these stores drew enough customers to ﬁll their huge shops by o\u0000ering\n",
            "two new things. One was the new manufactures, particularly clothing, goods\n",
            "and accessories, household furnishings and equipment of all kinds that were\n",
            "coming out of the factories in increasing quantities. The specialist shops\n",
            "stocked these too, of course, but the department stores always made it a point\n",
            "to be the ﬁrst in the ﬁeld if they could with novelty of any kind. And the other\n",
            "special thing they o\u0000ered the middle-class shoppers, many of whom were\n",
            "newly rich and a little experienced in luxury shopping, was a lavish display and\n",
            "wide choice of these goods.\n",
            "\n",
            "The department stores, however, introduced into a respectable class trade the\n",
            "vulgar practice of openly marking or ticketing goods with their prices – a\n",
            "practice that had not even yet penetrated shops that could claim that they were\n",
            "really exclusive. But the department stores as a rule made a virtue not only of\n",
            "displaying their wares as openly as they could but also of boldly pricing them\n",
            "for all to see. Their large-scale purchases enabled them to sell cheaply and they\n",
            "were not ashamed in the early days to make price one of their selling points.\n",
            "‘Store price’ was a by-word for cheapness.\n",
            "\n",
            "The lines they concentrated on were fashion goods, things that shoppers were\n",
            "prepared to travel long distances for and to take some time and trouble in\n",
            "choosing. The department stores were at least partly responsible for the way\n",
            "the middle classes gradually became fashion conscious, and helped to mould\n",
            "their tastes. They were the ﬁrst preachers of the modern creed that goods\n",
            "\n",
            "\fought to be replaced when they are outdated rather than when they are\n",
            "outworn.\n",
            "\n",
            "\f\n"
          ]
        }
      ]
    },
    {
      "cell_type": "code",
      "source": [
        "text = output_string.getvalue()\n",
        "text = text[:-4]\n",
        "dataset = text.replace('\\n', ' ').replace('\\\\', '').replace('\\n\\n', '').replace('\\x0c','').replace('\\x00', 'ff')\n",
        "dataset"
      ],
      "metadata": {
        "colab": {
          "base_uri": "https://localhost:8080/",
          "height": 122
        },
        "id": "ApnxIAnCVj0O",
        "outputId": "b2b33b97-c5e4-44da-8bd7-c9c6df3338fc"
      },
      "id": "ApnxIAnCVj0O",
      "execution_count": null,
      "outputs": [
        {
          "output_type": "execute_result",
          "data": {
            "application/vnd.google.colaboratory.intrinsic+json": {
              "type": "string"
            },
            "text/plain": [
              "'There were certain underlying conditions that enabled department stores to grow up when they did. From the start, they all catered for middle-class customers and set out to convey to them an air of luxury and solid comfort. Of necessity, they all arose in central positions where large numbers of people could reach them easily by means of public transport. Physically, they grew up in an era of big technical developments in building so that they could afford multi-storey palaces and could have enormous plate-glass windows for display, lighting and novelties like lifts. Above all, the department stores rose with the rise of Victorian white-collar workers, the small-scale businessmen and professionals whose womenfolk had money to spare for a few luxuries and were gradually switching the emphasis of their housekeeping expenditure from food to other items.  Most of these stores drew enough customers to ﬁll their huge shops by offering two new things. One was the new manufactures, particularly clothing, goods and accessories, household furnishings and equipment of all kinds that were coming out of the factories in increasing quantities. The specialist shops stocked these too, of course, but the department stores always made it a point to be the ﬁrst in the ﬁeld if they could with novelty of any kind. And the other special thing they offered the middle-class shoppers, many of whom were newly rich and a little experienced in luxury shopping, was a lavish display and wide choice of these goods.  The department stores, however, introduced into a respectable class trade the vulgar practice of openly marking or ticketing goods with their prices – a practice that had not even yet penetrated shops that could claim that they were really exclusive. But the department stores as a rule made a virtue not only of displaying their wares as openly as they could but also of boldly pricing them for all to see. Their large-scale purchases enabled them to sell cheaply and they were not ashamed in the early days to make price one of their selling points. ‘Store price’ was a by-word for cheapness.  The lines they concentrated on were fashion goods, things that shoppers were prepared to travel long distances for and to take some time and trouble in choosing. The department stores were at least partly responsible for the way the middle classes gradually became fashion conscious, and helped to mould their tastes. They were the ﬁrst preachers of the modern creed that goods  ought to be replaced when they are outdated rather than when they are outworn'"
            ]
          },
          "metadata": {},
          "execution_count": 8
        }
      ]
    },
    {
      "cell_type": "code",
      "source": [
        "\n",
        "n =512\n",
        "bank = [dataset[i: i + len(dataset)//3 + 2] for i in range(0, len(dataset), len(dataset)//3 +2)]\n",
        "bank[0]"
      ],
      "metadata": {
        "colab": {
          "base_uri": "https://localhost:8080/",
          "height": 105
        },
        "id": "0MiJqMrNRzpL",
        "outputId": "93b7657d-e446-4013-bc8e-e685b4b065c7"
      },
      "id": "0MiJqMrNRzpL",
      "execution_count": 35,
      "outputs": [
        {
          "output_type": "execute_result",
          "data": {
            "application/vnd.google.colaboratory.intrinsic+json": {
              "type": "string"
            },
            "text/plain": [
              "'There were certain underlying conditions that enabled department stores to grow up when they did. From the start, they all catered for middle-class customers and set out to convey to them an air of luxury and solid comfort. Of necessity, they all arose in central positions where large numbers of people could reach them easily by means of public transport. Physically, they grew up in an era of big technical developments in building so that they could afford multi-storey palaces and could have enormous plate-glass windows for display, lighting and novelties like lifts. Above all, the department stores rose with the rise of Victorian white-collar workers, the small-scale businessmen and professionals whose womenfolk had money to spare for a few luxuries and were gradually switching the emphasis of their housekeeping expenditure from food to other '"
            ]
          },
          "metadata": {},
          "execution_count": 35
        }
      ]
    },
    {
      "cell_type": "code",
      "source": [
        "bank[1]"
      ],
      "metadata": {
        "colab": {
          "base_uri": "https://localhost:8080/",
          "height": 105
        },
        "id": "Xoe9MUVxSNF6",
        "outputId": "4658592a-9f2e-409e-9b6a-07998f1ed09d"
      },
      "id": "Xoe9MUVxSNF6",
      "execution_count": 36,
      "outputs": [
        {
          "output_type": "execute_result",
          "data": {
            "application/vnd.google.colaboratory.intrinsic+json": {
              "type": "string"
            },
            "text/plain": [
              "'items.  Most of these stores drew enough customers to ﬁll their huge shops by offering two new things. One was the new manufactures, particularly clothing, goods and accessories, household furnishings and equipment of all kinds that were coming out of the factories in increasing quantities. The specialist shops stocked these too, of course, but the department stores always made it a point to be the ﬁrst in the ﬁeld if they could with novelty of any kind. And the other special thing they offered the middle-class shoppers, many of whom were newly rich and a little experienced in luxury shopping, was a lavish display and wide choice of these goods.  The department stores, however, introduced into a respectable class trade the vulgar practice of openly marking or ticketing goods with their prices – a practice that had not even yet penetrated shops '"
            ]
          },
          "metadata": {},
          "execution_count": 36
        }
      ]
    },
    {
      "cell_type": "code",
      "source": [
        "bank[2]"
      ],
      "metadata": {
        "colab": {
          "base_uri": "https://localhost:8080/",
          "height": 105
        },
        "id": "Aj_AEkkAdv6n",
        "outputId": "313668be-d4e1-4952-ed49-8ae07718601a"
      },
      "id": "Aj_AEkkAdv6n",
      "execution_count": 37,
      "outputs": [
        {
          "output_type": "execute_result",
          "data": {
            "application/vnd.google.colaboratory.intrinsic+json": {
              "type": "string"
            },
            "text/plain": [
              "'that could claim that they were really exclusive. But the department stores as a rule made a virtue not only of displaying their wares as openly as they could but also of boldly pricing them for all to see. Their large-scale purchases enabled them to sell cheaply and they were not ashamed in the early days to make price one of their selling points. ‘Store price’ was a by-word for cheapness.  The lines they concentrated on were fashion goods, things that shoppers were prepared to travel long distances for and to take some time and trouble in choosing. The department stores were at least partly responsible for the way the middle classes gradually became fashion conscious, and helped to mould their tastes. They were the ﬁrst preachers of the modern creed that goods  ought to be replaced when they are outdated rather than when they are outworn'"
            ]
          },
          "metadata": {},
          "execution_count": 37
        }
      ]
    },
    {
      "cell_type": "code",
      "source": [
        "\n",
        "#n 512=\n",
        "#bank = [dataset[i:i+n] for i in range(0, len(dataset), n)]\n",
        "\n",
        "#bank = [dataset[i: i + len(dataset)//2+1] for i in range(0, len(dataset), len(dataset)//2 +1)]\n",
        "\n",
        "bank = [dataset[i: i + len(dataset)//3 + 2] for i in range(0, len(dataset), len(dataset)//3 +2)]\n",
        "\n",
        "model = AutoModelForSeq2SeqLM.from_pretrained(\"t5-base\")\n",
        "tokenizer = AutoTokenizer.from_pretrained(\"t5-base\")\n",
        "\n",
        "\n",
        "summary = []\n",
        "for data in bank:\n",
        "    #inputs, references = batch\n",
        "    inputs = tokenizer(\"summarize: \" + data, return_tensors=\"pt\", max_length=512, truncation=True)\n",
        "    outputs = model.generate(inputs[\"input_ids\"], max_length=150, min_length=40, length_penalty=0.0, num_beams=5, early_stopping=True, no_repeat_ngram_size=2)\n",
        "    summary.append(tokenizer.decode(outputs[0]))\n",
        "    \n",
        "\n",
        "\n",
        "    #print(tokenizer.decode(outputs[0]))\n",
        "    \n",
        "result  = \"\".join(summary)\n",
        "result = result.replace(r'<pad>','').replace(r'</s>','')\n",
        "\n",
        "print(result)\n",
        "\n"
      ],
      "metadata": {
        "colab": {
          "base_uri": "https://localhost:8080/"
        },
        "id": "ZA0qiX1QUROt",
        "outputId": "ffa6bc0e-4ab5-45c6-f864-f61085890fce"
      },
      "id": "ZA0qiX1QUROt",
      "execution_count": 39,
      "outputs": [
        {
          "output_type": "stream",
          "name": "stdout",
          "text": [
            " department stores rose with the rise of Victorian white-collar workers. small-scale businessmen and professionals whose womenfolk had money to spare for luxuries were gradually switching emphasis of housekeeping expenditure from food to other expenditures. department stores made it a point to be the first in the field if they could with novelty of any kind. other special thing they offered the middle-class shoppers was lavish display and wide choice of these goods. department stores were at least partly responsible for the way the middle classes gradually became fashion conscious. they were the first preachers of the modern creed that goods ought to be replaced when they are outdated rather than outworn.\n"
          ]
        }
      ]
    },
    {
      "cell_type": "code",
      "source": [
        "#lenght penalty < 0 batch size of 3\n",
        "\n",
        "#department stores rose with the rise of Victorian white-collar workers. \n",
        "#small-scale businessmen and professionals whose womenfolk had money to spare for luxuries were gradually switching emphasis of housekeeping expenditure from food to other expenditures. \n",
        "#department stores made it a point to be the first in the field if they could with novelty of any kind. \n",
        "#other special thing they offered the middle-class shoppers was lavish display and wide choice of these goods. \n",
        "#department stores were at least partly responsible for the way the middle classes gradually became fashion conscious. \n",
        "#they were the first preachers of the modern creed that goods ought to be replaced when they are outdated rather than outworn.\n"
      ],
      "metadata": {
        "id": "KRjGcw4qcqk9"
      },
      "id": "KRjGcw4qcqk9",
      "execution_count": null,
      "outputs": []
    },
    {
      "cell_type": "code",
      "source": [
        "metric.compute(predictions = [result], references = [dataset])"
      ],
      "metadata": {
        "colab": {
          "base_uri": "https://localhost:8080/"
        },
        "id": "C_wQV6dafTf8",
        "outputId": "0ab0ffe3-fc90-42b6-c986-4acd5aac3324"
      },
      "id": "C_wQV6dafTf8",
      "execution_count": 43,
      "outputs": [
        {
          "output_type": "execute_result",
          "data": {
            "text/plain": [
              "{'rouge1': AggregateScore(low=Score(precision=0.9923076923076923, recall=0.29930394431554525, fmeasure=0.45989304812834225), mid=Score(precision=0.9923076923076923, recall=0.29930394431554525, fmeasure=0.45989304812834225), high=Score(precision=0.9923076923076923, recall=0.29930394431554525, fmeasure=0.45989304812834225)),\n",
              " 'rouge2': AggregateScore(low=Score(precision=0.9069767441860465, recall=0.27209302325581397, fmeasure=0.4186046511627907), mid=Score(precision=0.9069767441860465, recall=0.27209302325581397, fmeasure=0.4186046511627907), high=Score(precision=0.9069767441860465, recall=0.27209302325581397, fmeasure=0.4186046511627907)),\n",
              " 'rougeL': AggregateScore(low=Score(precision=0.8307692307692308, recall=0.2505800464037123, fmeasure=0.3850267379679144), mid=Score(precision=0.8307692307692308, recall=0.2505800464037123, fmeasure=0.3850267379679144), high=Score(precision=0.8307692307692308, recall=0.2505800464037123, fmeasure=0.3850267379679144)),\n",
              " 'rougeLsum': AggregateScore(low=Score(precision=0.8307692307692308, recall=0.2505800464037123, fmeasure=0.3850267379679144), mid=Score(precision=0.8307692307692308, recall=0.2505800464037123, fmeasure=0.3850267379679144), high=Score(precision=0.8307692307692308, recall=0.2505800464037123, fmeasure=0.3850267379679144))}"
            ]
          },
          "metadata": {},
          "execution_count": 43
        }
      ]
    },
    {
      "cell_type": "code",
      "source": [
        "#lenght penalty < 0 batch size of 2\n",
        "\n",
        "#the department stores rose with the rise of Victorian white-collar workers. they catered for middle-class customers and set out to convey to them an air of luxury and solid comfort. \n",
        "#department stores introduced vulgar practice of openly marking or ticketing goods with their prices into class trade. \n",
        "#large-scale purchases enabled them to sell cheaply and they were not ashamed in the early days to make price one of their selling points."
      ],
      "metadata": {
        "id": "8RQlXLEqcJsl"
      },
      "id": "8RQlXLEqcJsl",
      "execution_count": null,
      "outputs": []
    },
    {
      "cell_type": "code",
      "source": [
        "#lenght penalty > 0 batch size of 2\n",
        "\n",
        "#the department stores rose with the rise of Victorian white-collar workers. they catered for middle-class customers and set out to convey to them an air of luxury and solid comfort, \n",
        "#says robert mcginnon. he says they grew up in central positions where large numbers of people could reach them easily by public transport. \n",
        "#department stores introduced vulgar practice of openly marking or ticketing goods with their prices into class trade. \n",
        "#large-scale purchases enabled them to sell cheaply and they were not ashamed in the early days to make price one of their selling points. \n",
        "#‘Store price’ was a by-word for cheapness. the lines they concentrated on were fashion goods, \n",
        "#things that shoppers were prepared to travel long distances for and to take some time in choosing."
      ],
      "metadata": {
        "id": "R4S8147zXEjW"
      },
      "id": "R4S8147zXEjW",
      "execution_count": null,
      "outputs": []
    },
    {
      "cell_type": "code",
      "source": [
        "metric.compute(predictions = [result], references = [dataset])"
      ],
      "metadata": {
        "colab": {
          "base_uri": "https://localhost:8080/"
        },
        "id": "tainZXASUQRu",
        "outputId": "f97080a8-35d6-41f6-fcbf-596537080d7d"
      },
      "id": "tainZXASUQRu",
      "execution_count": null,
      "outputs": [
        {
          "output_type": "execute_result",
          "data": {
            "text/plain": [
              "{'rouge1': AggregateScore(low=Score(precision=0.9615384615384616, recall=0.2900232018561485, fmeasure=0.4456327985739751), mid=Score(precision=0.9615384615384616, recall=0.2900232018561485, fmeasure=0.4456327985739751), high=Score(precision=0.9615384615384616, recall=0.2900232018561485, fmeasure=0.4456327985739751)),\n",
              " 'rouge2': AggregateScore(low=Score(precision=0.875968992248062, recall=0.2627906976744186, fmeasure=0.40429338103756707), mid=Score(precision=0.875968992248062, recall=0.2627906976744186, fmeasure=0.40429338103756707), high=Score(precision=0.875968992248062, recall=0.2627906976744186, fmeasure=0.40429338103756707)),\n",
              " 'rougeL': AggregateScore(low=Score(precision=0.8538461538461538, recall=0.25754060324825984, fmeasure=0.3957219251336898), mid=Score(precision=0.8538461538461538, recall=0.25754060324825984, fmeasure=0.3957219251336898), high=Score(precision=0.8538461538461538, recall=0.25754060324825984, fmeasure=0.3957219251336898)),\n",
              " 'rougeLsum': AggregateScore(low=Score(precision=0.8538461538461538, recall=0.25754060324825984, fmeasure=0.3957219251336898), mid=Score(precision=0.8538461538461538, recall=0.25754060324825984, fmeasure=0.3957219251336898), high=Score(precision=0.8538461538461538, recall=0.25754060324825984, fmeasure=0.3957219251336898))}"
            ]
          },
          "metadata": {},
          "execution_count": 24
        }
      ]
    },
    {
      "cell_type": "code",
      "source": [
        "\n",
        "# n =512\n",
        "# bank = [dataset[i:i+n] for i in range(0, len(dataset), n)]\n",
        "\n",
        "#bank = [dataset[i: i + len(dataset)//2+1] for i in range(0, len(dataset), len(dataset)//2 +1)]\n",
        "\n",
        "bank = [dataset[i: i + len(dataset)//3 + 2] for i in range(0, len(dataset), len(dataset)//3 +2)]\n",
        "\n",
        "model = AutoModelForSeq2SeqLM.from_pretrained(\"t5-small\")\n",
        "tokenizer = AutoTokenizer.from_pretrained(\"t5-small\")\n",
        "\n",
        "\n",
        "summary = []\n",
        "for data in bank:\n",
        "    #inputs, references = batch\n",
        "    inputs = tokenizer(\"summarize: \" + data, return_tensors=\"pt\", max_length=512, truncation=True)\n",
        "    outputs = model.generate(inputs[\"input_ids\"], max_length=150, min_length=40, length_penalty=0.0, num_beams=4, early_stopping=True, no_repeat_ngram_size=2)\n",
        "    summary.append(tokenizer.decode(outputs[0]))\n",
        "    \n",
        "\n",
        "\n",
        "    #print(tokenizer.decode(outputs[0]))\n",
        "    \n",
        "result  = \"\".join(summary)\n",
        "result = result.replace(r'<pad>','').replace(r'</s>','')\n",
        "\n",
        "print(result)\n"
      ],
      "metadata": {
        "colab": {
          "base_uri": "https://localhost:8080/"
        },
        "id": "CMu4Uv3BURLW",
        "outputId": "5aded4d9-1127-437c-d0cc-f73da4796fda"
      },
      "id": "CMu4Uv3BURLW",
      "execution_count": 42,
      "outputs": [
        {
          "output_type": "stream",
          "name": "stdout",
          "text": [
            " department stores rose with the rise of white-collar workers and small-scale businessmen and professionals whose womenfolk had money to spare for few luxuries. they were gradually switching the emphasis of their housekeeping expenditure from food to other expenditures. the department stores introduced into a respectable class trade the vulgar practice of openly marking or ticketing goods with their prices. one was the new manufactures, particularly clothing, goods and accessories, household furnishings and equipment of all kinds that were coming out of the factories in increasing quantities. department stores made a virtue not only of displaying their wares as openly as they could but also of boldly pricing them for all to see. they were not ashamed in the early days to make price one of their selling points.\n"
          ]
        }
      ]
    },
    {
      "cell_type": "code",
      "source": [
        "#department stores rose with the rise of white-collar workers and small-scale businessmen and professionals whose womenfolk had money to spare for luxuries. \n",
        "#one was the new manufactures, particularly clothing, goods and accessories, household furnishings and equipment that were coming out of the factories in increasing quantities. \n",
        "#the specialist shops stocked these too, of course, but they always made it a point to be the first in the field. \n",
        "#the department stores introduced into a respectable class trade the vulgar practice of openly marking or ticketing goods with their prices. \n",
        "#but they introduced the'store price' store was at least partly responsible for the way they gradually became fashion conscious and helped to mould their tastes."
      ],
      "metadata": {
        "id": "fBc4Up9sVJLM"
      },
      "id": "fBc4Up9sVJLM",
      "execution_count": null,
      "outputs": []
    },
    {
      "cell_type": "code",
      "source": [
        "metric.compute(predictions = [result], references = [dataset])"
      ],
      "metadata": {
        "id": "0ZCaGaUEURIJ",
        "colab": {
          "base_uri": "https://localhost:8080/"
        },
        "outputId": "cdb28176-dfa1-48a7-c38c-5269b8bbaca1"
      },
      "id": "0ZCaGaUEURIJ",
      "execution_count": null,
      "outputs": [
        {
          "output_type": "execute_result",
          "data": {
            "text/plain": [
              "{'rouge1': AggregateScore(low=Score(precision=0.9712230215827338, recall=0.31322505800464034, fmeasure=0.47368421052631576), mid=Score(precision=0.9712230215827338, recall=0.31322505800464034, fmeasure=0.47368421052631576), high=Score(precision=0.9712230215827338, recall=0.31322505800464034, fmeasure=0.47368421052631576)),\n",
              " 'rouge2': AggregateScore(low=Score(precision=0.8043478260869565, recall=0.25813953488372093, fmeasure=0.3908450704225352), mid=Score(precision=0.8043478260869565, recall=0.25813953488372093, fmeasure=0.3908450704225352), high=Score(precision=0.8043478260869565, recall=0.25813953488372093, fmeasure=0.3908450704225352)),\n",
              " 'rougeL': AggregateScore(low=Score(precision=0.8920863309352518, recall=0.2877030162412993, fmeasure=0.4350877192982456), mid=Score(precision=0.8920863309352518, recall=0.2877030162412993, fmeasure=0.4350877192982456), high=Score(precision=0.8920863309352518, recall=0.2877030162412993, fmeasure=0.4350877192982456)),\n",
              " 'rougeLsum': AggregateScore(low=Score(precision=0.8920863309352518, recall=0.2877030162412993, fmeasure=0.4350877192982456), mid=Score(precision=0.8920863309352518, recall=0.2877030162412993, fmeasure=0.4350877192982456), high=Score(precision=0.8920863309352518, recall=0.2877030162412993, fmeasure=0.4350877192982456))}"
            ]
          },
          "metadata": {},
          "execution_count": 26
        }
      ]
    },
    {
      "cell_type": "code",
      "source": [
        "output_string = StringIO()\n",
        "with open(\"data/summary_two.pdf\" , \"rb\") as in_file:\n",
        "    parser = PDFParser(in_file)\n",
        "    doc = PDFDocument(parser)\n",
        "    rsrcmgr = PDFResourceManager()\n",
        "    device =  TextConverter(rsrcmgr, output_string, laparams= LAParams())\n",
        "    interpreter = PDFPageInterpreter(rsrcmgr, device)\n",
        "    \n",
        "    for page in PDFPage.create_pages(doc):\n",
        "        interpreter.process_page(page)\n",
        "        #print('*' * 100)\n",
        "        \n",
        "print(output_string.getvalue())"
      ],
      "metadata": {
        "colab": {
          "base_uri": "https://localhost:8080/"
        },
        "id": "3Z1R5ZwSURFU",
        "outputId": "909dfba9-1a83-4245-d6ef-6436b2d0cbdb"
      },
      "id": "3Z1R5ZwSURFU",
      "execution_count": null,
      "outputs": [
        {
          "output_type": "stream",
          "name": "stdout",
          "text": [
            "Despite the fact that our planet is habitable only because most of it is\n",
            "composed of water, it is the oceans that are the most immediately threatened\n",
            "part of the earth.\n",
            "\n",
            "It was in the oceans that life ﬁrst began to stir, shielded by the waters from the\n",
            "sun’s irresistible radiation. It was from the oceans that planets and animals\n",
            "emerged to colonize the land surface of the planet.  It is the oceans today that\n",
            "provide the water vapour which, drawn up by the sun, falls upon the earth in\n",
            "harvest-bringing, life-sustaining rain. The ocean is a major provider of the\n",
            "oxygen released by its plankton for the beneﬁt of all the species of land, air and\n",
            "sea – breathing with lungs and gills.\n",
            "\n",
            "Without special qualities for holding heat, much of the earth would be\n",
            "uninhabitable.\n",
            "\n",
            "The oceans are the coolants of the tropics, the bringers of warm currents to\n",
            "cold regions, the universal moderators of temperature throughout the globe.\n",
            "\n",
            "The oceans are also indispensable to man because they ﬁrst created the\n",
            "worldwide currents of sea-borne trade which have steadily drawn our planet\n",
            "into a single economic system. They still produce protein. In 1996, sixty-three\n",
            "million metric tons of ﬁsh came from the sea, estimated to be approximately\n",
            "one-ﬁfth of the ocean’s production.\n",
            "\n",
            "Fish, if turned directly to human use, could make up a large part of the protein\n",
            "diet required for the world’s children, especially those in developing countries,\n",
            "at a very low cost. But, in one of the world economy’s most unacceptable\n",
            "diversions of resources, ﬁfty percent of the harvest from the oceans is\n",
            "converted to ﬁsh meal which today ends up feeding pigs and chickens in\n",
            "developed countries. It is very sad that ‘developed’ animal pets have the chance\n",
            "of a better diet than very many ‘developing’ babies.\n",
            "\n",
            "\f\n"
          ]
        }
      ]
    },
    {
      "cell_type": "code",
      "source": [
        "text = output_string.getvalue()\n",
        "text = text[:-4]\n",
        "dataset = text.replace('\\n', ' ').replace('\\\\', '').replace('\\n\\n', '').replace('\\x0c','').replace('\\x00', 'ff')\n",
        "dataset"
      ],
      "metadata": {
        "colab": {
          "base_uri": "https://localhost:8080/",
          "height": 105
        },
        "id": "wbh8fC8nURCL",
        "outputId": "3cc6ba61-7b5d-4142-8308-aff7fdda3180"
      },
      "id": "wbh8fC8nURCL",
      "execution_count": null,
      "outputs": [
        {
          "output_type": "execute_result",
          "data": {
            "application/vnd.google.colaboratory.intrinsic+json": {
              "type": "string"
            },
            "text/plain": [
              "'Despite the fact that our planet is habitable only because most of it is composed of water, it is the oceans that are the most immediately threatened part of the earth.  It was in the oceans that life ﬁrst began to stir, shielded by the waters from the sun’s irresistible radiation. It was from the oceans that planets and animals emerged to colonize the land surface of the planet.  It is the oceans today that provide the water vapour which, drawn up by the sun, falls upon the earth in harvest-bringing, life-sustaining rain. The ocean is a major provider of the oxygen released by its plankton for the beneﬁt of all the species of land, air and sea – breathing with lungs and gills.  Without special qualities for holding heat, much of the earth would be uninhabitable.  The oceans are the coolants of the tropics, the bringers of warm currents to cold regions, the universal moderators of temperature throughout the globe.  The oceans are also indispensable to man because they ﬁrst created the worldwide currents of sea-borne trade which have steadily drawn our planet into a single economic system. They still produce protein. In 1996, sixty-three million metric tons of ﬁsh came from the sea, estimated to be approximately one-ﬁfth of the ocean’s production.  Fish, if turned directly to human use, could make up a large part of the protein diet required for the world’s children, especially those in developing countries, at a very low cost. But, in one of the world economy’s most unacceptable diversions of resources, ﬁfty percent of the harvest from the oceans is converted to ﬁsh meal which today ends up feeding pigs and chickens in developed countries. It is very sad that ‘developed’ animal pets have the chance of a better diet than very many ‘developing’ babies'"
            ]
          },
          "metadata": {},
          "execution_count": 54
        }
      ]
    },
    {
      "cell_type": "code",
      "source": [
        "\n",
        "n =512\n",
        "bank = [dataset[i:i+n] for i in range(0, len(dataset), n)]\n",
        "\n",
        "model = AutoModelForSeq2SeqLM.from_pretrained(\"t5-base\")\n",
        "tokenizer = AutoTokenizer.from_pretrained(\"t5-base\")\n",
        "\n",
        "\n",
        "summary = []\n",
        "for data in bank:\n",
        "    #inputs, references = batch\n",
        "    inputs = tokenizer(\"summarize: \" + data, return_tensors=\"pt\", max_length=512, truncation=True)\n",
        "    outputs = model.generate(inputs[\"input_ids\"], max_length=150, min_length=40, length_penalty=2.0, num_beams=4, early_stopping=True, no_repeat_ngram_size=2)\n",
        "    summary.append(tokenizer.decode(outputs[0]))\n",
        "    \n",
        "\n",
        "\n",
        "    #print(tokenizer.decode(outputs[0]))\n",
        "    \n",
        "result  = \"\".join(summary)\n",
        "result = result.replace(r'<pad>','').replace(r'</s>','')\n",
        "\n",
        "print(result)\n",
        "\n",
        "metric.compute(predictions = [result], references = [dataset])"
      ],
      "metadata": {
        "colab": {
          "base_uri": "https://localhost:8080/"
        },
        "id": "TR_pvzfEUQ5r",
        "outputId": "23360f80-4fdf-4d60-8d17-103c490794a7"
      },
      "id": "TR_pvzfEUQ5r",
      "execution_count": null,
      "outputs": [
        {
          "output_type": "stream",
          "name": "stdout",
          "text": [
            " the oceans provide the water vapour which, drawn up by the sun, falls upon the earth in harvest-bringing, life-bringing, harvest-bringing, life-sustaining ways. it is the oceans today that provide the water vapour which, drawn up by the sun, falls upon the earth in harvest-bringing, life-sustaining ways. the oceans are the coolants of the tropics, the bringers of warm currents to cold regions, the universal moderators of temperature throughout the globe. without special qualities for holding heat, much of the earth would be uninhabitable. in 1996, sixty-three million metric tons of fish came from the sea. fish could make up a large part of the protein diet required for the world’s children, especially those in developing countries, at a very low cost. rcent of the harvest from the oceans is converted to fish meal which today ends up feeding pigs and chickens in developed countries. it is very sad that ‘developed’ animal pets have the chance of a better diet than very many ‘developing’ babies.\n"
          ]
        },
        {
          "output_type": "execute_result",
          "data": {
            "text/plain": [
              "{'rouge1': AggregateScore(low=Score(precision=0.9011627906976745, recall=0.4983922829581994, fmeasure=0.6418219461697724), mid=Score(precision=0.9011627906976745, recall=0.4983922829581994, fmeasure=0.6418219461697724), high=Score(precision=0.9011627906976745, recall=0.4983922829581994, fmeasure=0.6418219461697724)),\n",
              " 'rouge2': AggregateScore(low=Score(precision=0.8011695906432749, recall=0.44193548387096776, fmeasure=0.5696465696465697), mid=Score(precision=0.8011695906432749, recall=0.44193548387096776, fmeasure=0.5696465696465697), high=Score(precision=0.8011695906432749, recall=0.44193548387096776, fmeasure=0.5696465696465697)),\n",
              " 'rougeL': AggregateScore(low=Score(precision=0.7965116279069767, recall=0.4405144694533762, fmeasure=0.567287784679089), mid=Score(precision=0.7965116279069767, recall=0.4405144694533762, fmeasure=0.567287784679089), high=Score(precision=0.7965116279069767, recall=0.4405144694533762, fmeasure=0.567287784679089)),\n",
              " 'rougeLsum': AggregateScore(low=Score(precision=0.7965116279069767, recall=0.4405144694533762, fmeasure=0.567287784679089), mid=Score(precision=0.7965116279069767, recall=0.4405144694533762, fmeasure=0.567287784679089), high=Score(precision=0.7965116279069767, recall=0.4405144694533762, fmeasure=0.567287784679089))}"
            ]
          },
          "metadata": {},
          "execution_count": 55
        }
      ]
    },
    {
      "cell_type": "code",
      "source": [
        "\n",
        "n =512\n",
        "bank = [dataset[i:i+n] for i in range(0, len(dataset), n)]\n",
        "\n",
        "model = AutoModelForSeq2SeqLM.from_pretrained(\"t5-small\")\n",
        "tokenizer = AutoTokenizer.from_pretrained(\"t5-small\")\n",
        "\n",
        "\n",
        "summary = []\n",
        "for data in bank:\n",
        "    #inputs, references = batch\n",
        "    inputs = tokenizer(\"summarize: \" + data, return_tensors=\"pt\", max_length=512, truncation=True)\n",
        "    outputs = model.generate(inputs[\"input_ids\"], max_length=150, min_length=40, length_penalty=2.0, num_beams=4, early_stopping=True, no_repeat_ngram_size=2)\n",
        "    summary.append(tokenizer.decode(outputs[0]))\n",
        "    \n",
        "\n",
        "\n",
        "    #print(tokenizer.decode(outputs[0]))\n",
        "    \n",
        "result  = \"\".join(summary)\n",
        "result = result.replace(r'<pad>','').replace(r'</s>','')\n",
        "\n",
        "print(result)\n",
        "\n",
        "metric.compute(predictions = [result], references = [dataset])"
      ],
      "metadata": {
        "colab": {
          "base_uri": "https://localhost:8080/"
        },
        "id": "r9nlZVEpWnLf",
        "outputId": "d57f2066-7051-41ea-d59c-217b5955fcaa"
      },
      "id": "r9nlZVEpWnLf",
      "execution_count": null,
      "outputs": [
        {
          "output_type": "stream",
          "name": "stdout",
          "text": [
            " the oceans today provide the water vapour which falls upon the earth in harvest-bringing, life-bringing. it was in the oceans that life first began to stir, shielded by the waters from the sun’s irresistible radiation. the oceans are the coolants of the tropics, the bringers of warm currents to cold regions, the universal moderators of temperature throughout the globe. the oceans are also indispensable to man because they first created the worldwide currents of sebastian. in 1996, sixty-three million metric tons of fish came from the sea. fish could make up a large part of the protein diet required for the world’s children at a very low cost. rcent of the harvest from the oceans is converted to fish meal which ends up feeding pigs and chickens in developed countries. it is sad that ‘developed’ animal pets have the chance of a better diet than very many ‘developing’ babies.\n"
          ]
        },
        {
          "output_type": "execute_result",
          "data": {
            "text/plain": [
              "{'rouge1': AggregateScore(low=Score(precision=0.9545454545454546, recall=0.47266881028938906, fmeasure=0.6322580645161291), mid=Score(precision=0.9545454545454546, recall=0.47266881028938906, fmeasure=0.6322580645161291), high=Score(precision=0.9545454545454546, recall=0.47266881028938906, fmeasure=0.6322580645161291)),\n",
              " 'rouge2': AggregateScore(low=Score(precision=0.8562091503267973, recall=0.42258064516129035, fmeasure=0.5658747300215983), mid=Score(precision=0.8562091503267973, recall=0.42258064516129035, fmeasure=0.5658747300215983), high=Score(precision=0.8562091503267973, recall=0.42258064516129035, fmeasure=0.5658747300215983)),\n",
              " 'rougeL': AggregateScore(low=Score(precision=0.8831168831168831, recall=0.43729903536977494, fmeasure=0.5849462365591398), mid=Score(precision=0.8831168831168831, recall=0.43729903536977494, fmeasure=0.5849462365591398), high=Score(precision=0.8831168831168831, recall=0.43729903536977494, fmeasure=0.5849462365591398)),\n",
              " 'rougeLsum': AggregateScore(low=Score(precision=0.8831168831168831, recall=0.43729903536977494, fmeasure=0.5849462365591398), mid=Score(precision=0.8831168831168831, recall=0.43729903536977494, fmeasure=0.5849462365591398), high=Score(precision=0.8831168831168831, recall=0.43729903536977494, fmeasure=0.5849462365591398))}"
            ]
          },
          "metadata": {},
          "execution_count": 56
        }
      ]
    },
    {
      "cell_type": "code",
      "source": [
        "output_string = StringIO()\n",
        "with open(\"data/summary_three.pdf\" , \"rb\") as in_file:\n",
        "    parser = PDFParser(in_file)\n",
        "    doc = PDFDocument(parser)\n",
        "    rsrcmgr = PDFResourceManager()\n",
        "    device =  TextConverter(rsrcmgr, output_string, laparams= LAParams())\n",
        "    interpreter = PDFPageInterpreter(rsrcmgr, device)\n",
        "    \n",
        "    for page in PDFPage.create_pages(doc):\n",
        "        interpreter.process_page(page)\n",
        "        #print('*' * 100)\n",
        "        \n",
        "print(output_string.getvalue())"
      ],
      "metadata": {
        "colab": {
          "base_uri": "https://localhost:8080/"
        },
        "id": "er9bgX78Wxoa",
        "outputId": "e81d8d34-a503-415b-b8f3-742d38d07122"
      },
      "id": "er9bgX78Wxoa",
      "execution_count": null,
      "outputs": [
        {
          "output_type": "stream",
          "name": "stdout",
          "text": [
            "It has been the custom of historians to divide the factors for wars into\n",
            "immediate and underlying causes. Among these underlying causes, the\n",
            "economic factor is generally placed at the head of the list. Indeed, the most\n",
            "important of these was the industrial and commercial rivalry between\n",
            "Germany and Great Britain.\n",
            "\n",
            "Germany, after its uniﬁcation in 1871, went through a period of economic\n",
            "miracle. By 1914, she was producing more iron and steel than Britain and\n",
            "France combined. In chemicals, in dye, and in the manufacture of scientiﬁc\n",
            "equipment she led the world. The products of her industries were crowding\n",
            "British manufactures in nearly every market for continental Europe, in the Far\n",
            "East and in Britain itself.\n",
            "\n",
            "There is evidence that certain interests in Great Britain were becoming\n",
            "seriously alarmed over the menace of German competition.\n",
            "\n",
            "There seemed to be a strong conviction that Germany was waging deliberate\n",
            "and deadly economic warfare upon Britain to capture her market by unfair\n",
            "methods. Thus, for Britain to allow Germany to be victorious in this struggle\n",
            "would mean the destruction of her prosperity and a grave threat to her national\n",
            "existence.\n",
            "\n",
            "There are indications that the French also were alarmed by the German\n",
            "industrial expansion. In 1870, France had lost possession of the expensive iron\n",
            "and coal deposit of Lorraine, which had gone to swell the industrial growth of\n",
            "Germany. To be sure, the French had plenty of iron left in the Briery Fields, but\n",
            "they were afraid that their enemy might eventually reach out and grab these\n",
            "too. Besides, France was under necessity of importing coal and this galled her\n",
            "pride almost as much as the loss of the iron.\n",
            "\n",
            "In addition, the Russian ambition to gain control of Constantinople and other\n",
            "portions of Turkish territory conﬂicted with German plans for reserving the\n",
            "Turkish Empire as their happy hunting ground of commercial privilege. Then\n",
            "Russia and Austria a close ally of Germany were rivals for a monopoly of trade\n",
            "with the Balkan kingdoms of Serbia, Romania, Bulgaria and Greece.\n",
            "\n",
            "\f\f\n"
          ]
        }
      ]
    },
    {
      "cell_type": "code",
      "source": [
        "text = output_string.getvalue()\n",
        "text = text[:-4]\n",
        "dataset = text.replace('\\n', ' ').replace('\\\\', '').replace('\\n\\n', '').replace('\\x0c','').replace('\\x00', 'ff')\n",
        "dataset"
      ],
      "metadata": {
        "colab": {
          "base_uri": "https://localhost:8080/",
          "height": 105
        },
        "id": "v5DFl4NPXRjw",
        "outputId": "7090191f-0e3a-4cd1-d85b-4c1ac12bb55a"
      },
      "id": "v5DFl4NPXRjw",
      "execution_count": null,
      "outputs": [
        {
          "output_type": "execute_result",
          "data": {
            "application/vnd.google.colaboratory.intrinsic+json": {
              "type": "string"
            },
            "text/plain": [
              "'It has been the custom of historians to divide the factors for wars into immediate and underlying causes. Among these underlying causes, the economic factor is generally placed at the head of the list. Indeed, the most important of these was the industrial and commercial rivalry between Germany and Great Britain.  Germany, after its uniﬁcation in 1871, went through a period of economic miracle. By 1914, she was producing more iron and steel than Britain and France combined. In chemicals, in dye, and in the manufacture of scientiﬁc equipment she led the world. The products of her industries were crowding British manufactures in nearly every market for continental Europe, in the Far East and in Britain itself.  There is evidence that certain interests in Great Britain were becoming seriously alarmed over the menace of German competition.  There seemed to be a strong conviction that Germany was waging deliberate and deadly economic warfare upon Britain to capture her market by unfair methods. Thus, for Britain to allow Germany to be victorious in this struggle would mean the destruction of her prosperity and a grave threat to her national existence.  There are indications that the French also were alarmed by the German industrial expansion. In 1870, France had lost possession of the expensive iron and coal deposit of Lorraine, which had gone to swell the industrial growth of Germany. To be sure, the French had plenty of iron left in the Briery Fields, but they were afraid that their enemy might eventually reach out and grab these too. Besides, France was under necessity of importing coal and this galled her pride almost as much as the loss of the iron.  In addition, the Russian ambition to gain control of Constantinople and other portions of Turkish territory conﬂicted with German plans for reserving the Turkish Empire as their happy hunting ground of commercial privilege. Then Russia and Austria a close ally of Germany were rivals for a monopoly of trade with the Balkan kingdoms of Serbia, Romania, Bulgaria and Greece.'"
            ]
          },
          "metadata": {},
          "execution_count": 58
        }
      ]
    },
    {
      "cell_type": "code",
      "source": [
        "\n",
        "n =512\n",
        "bank = [dataset[i:i+n] for i in range(0, len(dataset), n)]\n",
        "\n",
        "model = AutoModelForSeq2SeqLM.from_pretrained(\"t5-base\")\n",
        "tokenizer = AutoTokenizer.from_pretrained(\"t5-base\")\n",
        "\n",
        "\n",
        "summary = []\n",
        "for data in bank:\n",
        "    #inputs, references = batch\n",
        "    inputs = tokenizer(\"summarize: \" + data, return_tensors=\"pt\", max_length=512, truncation=True)\n",
        "    outputs = model.generate(inputs[\"input_ids\"], max_length=150, min_length=40,length_penalty=2.0, num_beams=4, early_stopping=True, no_repeat_ngram_size=2)\n",
        "    summary.append(tokenizer.decode(outputs[0]))\n",
        "    \n",
        "\n",
        "\n",
        "    #print(tokenizer.decode(outputs[0]))\n",
        "    \n",
        "result  = \"\".join(summary)\n",
        "result = result.replace(r'<pad>','').replace(r'</s>','')\n",
        "\n",
        "print(result)\n",
        "\n",
        "metric.compute(predictions = [result], references = [dataset])"
      ],
      "metadata": {
        "colab": {
          "base_uri": "https://localhost:8080/"
        },
        "id": "K4Bp1QuUXZ1G",
        "outputId": "4a7315ab-4a63-478f-8a7a-44dafe5c93aa"
      },
      "id": "K4Bp1QuUXZ1G",
      "execution_count": null,
      "outputs": [
        {
          "output_type": "stream",
          "name": "stdout",
          "text": [
            " the industrial and commercial rivalry between Germany and Great Britain. by 1914, she was producing more iron and steel than Britain and France combined. by 1914, she was producing more iron and steel than Britain and France combined. david rothkopf: her industries were crowding British manufactures in nearly every market. he says there seemed to be a conviction that Germany was waging deadly economic warfare. rothkopf: for Britain to teeter on the edge of German competition, it would be a mistake. he says it would be a mistake for the u.s. to rely on british manufacturers. frida ghitis: o allow germany to be victorious in this struggle would mean the destruction of her prosperity. ghitis: there are indications that the french also were alarmed by the German industrial expansion. ghitis: o allow Germany to be victorious would mean the destruction of her national existence. ghitis: o allow Germany to be victorious in this struggle would mean the destruction of her prosperity. frida ghitis: besides, France was under necessity of importing coal and this galled her pride. ghitis: besides, Russia and Austria a close ally of Germany were rivals for a monopoly of trade with the Balkan kingdoms. ghitis: then Russia and Austria a close ally of Germany were rivals for a monopoly of trade with the kingdoms of Serbia, Romania, Bulgaria and Grec. cnn.com/sce/sce/sce/sce/sce/sce/sce/sce/sce/sce/sce/sce/sce/sce/sce/sce/sce/sce/sce/sce/sce/sce/sce/sce/sce/sce/sce/sce/sce/sce/sce/sce/sce/sce/sce/s\n"
          ]
        },
        {
          "output_type": "execute_result",
          "data": {
            "text/plain": [
              "{'rouge1': AggregateScore(low=Score(precision=0.5954198473282443, recall=0.4588235294117647, fmeasure=0.5182724252491694), mid=Score(precision=0.5954198473282443, recall=0.4588235294117647, fmeasure=0.5182724252491694), high=Score(precision=0.5954198473282443, recall=0.4588235294117647, fmeasure=0.5182724252491694)),\n",
              " 'rouge2': AggregateScore(low=Score(precision=0.44061302681992337, recall=0.3392330383480826, fmeasure=0.38333333333333336), mid=Score(precision=0.44061302681992337, recall=0.3392330383480826, fmeasure=0.38333333333333336), high=Score(precision=0.44061302681992337, recall=0.3392330383480826, fmeasure=0.38333333333333336)),\n",
              " 'rougeL': AggregateScore(low=Score(precision=0.4961832061068702, recall=0.38235294117647056, fmeasure=0.4318936877076412), mid=Score(precision=0.4961832061068702, recall=0.38235294117647056, fmeasure=0.4318936877076412), high=Score(precision=0.4961832061068702, recall=0.38235294117647056, fmeasure=0.4318936877076412)),\n",
              " 'rougeLsum': AggregateScore(low=Score(precision=0.4961832061068702, recall=0.38235294117647056, fmeasure=0.4318936877076412), mid=Score(precision=0.4961832061068702, recall=0.38235294117647056, fmeasure=0.4318936877076412), high=Score(precision=0.4961832061068702, recall=0.38235294117647056, fmeasure=0.4318936877076412))}"
            ]
          },
          "metadata": {},
          "execution_count": 59
        }
      ]
    },
    {
      "cell_type": "code",
      "source": [
        "\n",
        "n =512\n",
        "bank = [dataset[i:i+n] for i in range(0, len(dataset), n)]\n",
        "\n",
        "model = AutoModelForSeq2SeqLM.from_pretrained(\"t5-small\")\n",
        "tokenizer = AutoTokenizer.from_pretrained(\"t5-small\")\n",
        "\n",
        "\n",
        "summary = []\n",
        "for data in bank:\n",
        "    #inputs, references = batch\n",
        "    inputs = tokenizer(\"summarize: \" + data, return_tensors=\"pt\", max_length=512, truncation=True)\n",
        "    outputs = model.generate(inputs[\"input_ids\"], max_length=150, min_length=40, length_penalty=2.0, num_beams=4, early_stopping=True, no_repeat_ngram_size=2)\n",
        "    summary.append(tokenizer.decode(outputs[0]))\n",
        "    \n",
        "\n",
        "\n",
        "    #print(tokenizer.decode(outputs[0]))\n",
        "    \n",
        "result  = \"\".join(summary)\n",
        "result = result.replace(r'<pad>','').replace(r'</s>','')\n",
        "\n",
        "print(result)\n",
        "\n",
        "metric.compute(predictions = [result], references = [dataset])"
      ],
      "metadata": {
        "colab": {
          "base_uri": "https://localhost:8080/"
        },
        "id": "ThFdcmb-Xgg4",
        "outputId": "18a17301-b69a-4d9d-88a7-e8476e21cdef"
      },
      "id": "ThFdcmb-Xgg4",
      "execution_count": null,
      "outputs": [
        {
          "output_type": "stream",
          "name": "stdout",
          "text": [
            " it has been the custom of historians to divide the factors for wars into immediate and underlying causes. the most important of these was the industrial and commercial rivalry between Germany and Great Britain. by 1914, she was producing more iron and steel than Britain and France combined. the products of her industries crowding British manufactures in nearly every market for continental Europe, in the far East and in Britain itself. there seems to be a strong conviction that Germany was waging deliberate and deadly economic warfare upon Britain to capture her market by unfair methods. in 1870, France had lost possession of the expensive iron and coal deposit of Lorraine. in 1870, the French had plenty of iron left in the Briery Fields. but they were afraid that their enemy might eventually reach ousted. france was under necessity of importing coal and this galled her pride almost as much as the loss of the iron. the Russian ambition to gain control of Constantinople conflicted with german plans for reserving the Turkish Empire as their happy hunting ground of commercial privilege. ece. ece. ece. ece. ece. ece. ece. ece. ece. ece.\n"
          ]
        },
        {
          "output_type": "execute_result",
          "data": {
            "text/plain": [
              "{'rouge1': AggregateScore(low=Score(precision=0.9267015706806283, recall=0.5205882352941177, fmeasure=0.6666666666666666), mid=Score(precision=0.9267015706806283, recall=0.5205882352941177, fmeasure=0.6666666666666666), high=Score(precision=0.9267015706806283, recall=0.5205882352941177, fmeasure=0.6666666666666666)),\n",
              " 'rouge2': AggregateScore(low=Score(precision=0.8736842105263158, recall=0.4896755162241888, fmeasure=0.6275992438563327), mid=Score(precision=0.8736842105263158, recall=0.4896755162241888, fmeasure=0.6275992438563327), high=Score(precision=0.8736842105263158, recall=0.4896755162241888, fmeasure=0.6275992438563327)),\n",
              " 'rougeL': AggregateScore(low=Score(precision=0.9214659685863874, recall=0.5176470588235295, fmeasure=0.6629001883239172), mid=Score(precision=0.9214659685863874, recall=0.5176470588235295, fmeasure=0.6629001883239172), high=Score(precision=0.9214659685863874, recall=0.5176470588235295, fmeasure=0.6629001883239172)),\n",
              " 'rougeLsum': AggregateScore(low=Score(precision=0.9214659685863874, recall=0.5176470588235295, fmeasure=0.6629001883239172), mid=Score(precision=0.9214659685863874, recall=0.5176470588235295, fmeasure=0.6629001883239172), high=Score(precision=0.9214659685863874, recall=0.5176470588235295, fmeasure=0.6629001883239172))}"
            ]
          },
          "metadata": {},
          "execution_count": 60
        }
      ]
    },
    {
      "cell_type": "code",
      "source": [
        ""
      ],
      "metadata": {
        "id": "9mjzdkKRXpdd"
      },
      "id": "9mjzdkKRXpdd",
      "execution_count": null,
      "outputs": []
    },
    {
      "cell_type": "code",
      "source": [
        "output_string = StringIO()\n",
        "with open(\"data/summary_four.pdf\" , \"rb\") as in_file:\n",
        "    parser = PDFParser(in_file)\n",
        "    doc = PDFDocument(parser)\n",
        "    rsrcmgr = PDFResourceManager()\n",
        "    device =  TextConverter(rsrcmgr, output_string, laparams= LAParams())\n",
        "    interpreter = PDFPageInterpreter(rsrcmgr, device)\n",
        "    \n",
        "    for page in PDFPage.create_pages(doc):\n",
        "        interpreter.process_page(page)\n",
        "        #print('*' * 100)\n",
        "        \n",
        "print(output_string.getvalue())"
      ],
      "metadata": {
        "colab": {
          "base_uri": "https://localhost:8080/"
        },
        "id": "7r2C1mwiX0SH",
        "outputId": "6ea6d5f7-ed40-4ad2-eadb-7de928371619"
      },
      "id": "7r2C1mwiX0SH",
      "execution_count": null,
      "outputs": [
        {
          "output_type": "stream",
          "name": "stdout",
          "text": [
            "Mining ranks among the world’s most destructive industries. Yet mineral\n",
            "extraction and processing are absent in most discussions of global\n",
            "environmental threats. Governmental and private analyses have focused only\n",
            "on increasing mineral supplies.\n",
            "\n",
            "Each year, mining strips some 28 billion tons of material from the earth. This\n",
            "is more than what is removed by the natural erosion of all the earth’s rivers.\n",
            "Worldwide, mining and smelting generate an estimated 2.7 billion tons of\n",
            "processing waste each year, much of it hazardous dwarﬁng the more familiar\n",
            "municipal waste. Smelter pollution has created biological wastelands as large\n",
            "as 10, 000 hectares and pumped some eight percent of the total worldwide\n",
            "emissions of sulphur dioxide, a major contributor to acid rain, into the\n",
            "atmosphere.\n",
            "\n",
            "Mining could also cause more damaging deforestation than bad farming\n",
            "practices in certain parts of the world. For example, smelters at a single iron\n",
            "mine in Brazil will require enough fuelwood to deforest 50,000 hectares of\n",
            "tropical forest each year.\n",
            "\n",
            "Mining has been poorly regulated even in wealthy industrialized nations. While\n",
            "many governments subsidize mineral production, few enact or enforce strict\n",
            "environmental regulations for mining operations. As a result, not only are\n",
            "many mining activities more environmentally destructive than need be, but\n",
            "prices of minerals do not include their full environmental cost. Today’s low\n",
            "mineral prices reﬂect only the immediate economics of extraction and\n",
            "destruction. They fail to consider the full costs of eroded land, dammed or\n",
            "polluted rivers and displacement of people unlucky enough to live atop mineral\n",
            "deposits. In light of this, governments should remove subsidies provided for\n",
            "mining virgin minerals.\n",
            "\n",
            "The devastating e\u0000ects of the industry are particularly severe in the developing\n",
            "countries which have been producing a substantial portion of the world’s\n",
            "mineral supplies, although they use relatively little. This is because\n",
            "environmental controls tend to be weak or non-existent in these countries.\n",
            "What makes their situation more pathetic is that many of them are among the\n",
            "world’s poorest nations.\n",
            "\n",
            "\fContrary to popular belief, the people of most mineral–exporting countries\n",
            "gain little from mining. Expensive investment in equipment and infrastructure\n",
            "combined with falling world mineral prices, especially during the eighties, has\n",
            "made these countries some of the world’s most heavily indebted.\n",
            "\n",
            "While the world appears in little danger of running out of most non-fuel\n",
            "minerals, it is obvious that the planet cannot a\u0000ord the human and ecological\n",
            "price of its growing appetite for minerals. It will therefore be wise to satisfy\n",
            "human needs with smaller amounts of virgin minerals. It will also work for our\n",
            "good if we increase recycling of materials, and make metal-based products\n",
            "more durable and easier to repair.\n",
            "\n",
            "\f\n"
          ]
        }
      ]
    },
    {
      "cell_type": "code",
      "source": [
        "text = output_string.getvalue()\n",
        "text = text[:-4]\n",
        "dataset = text.replace('\\n', ' ').replace('\\\\', '').replace('\\n\\n', '').replace('\\x0c','').replace('\\x00', 'ff')\n",
        "dataset"
      ],
      "metadata": {
        "colab": {
          "base_uri": "https://localhost:8080/",
          "height": 105
        },
        "id": "1R6om-RHX7L8",
        "outputId": "c2775dbd-776b-42ae-bc86-41a8c9752cc0"
      },
      "id": "1R6om-RHX7L8",
      "execution_count": null,
      "outputs": [
        {
          "output_type": "execute_result",
          "data": {
            "application/vnd.google.colaboratory.intrinsic+json": {
              "type": "string"
            },
            "text/plain": [
              "'Mining ranks among the world’s most destructive industries. Yet mineral extraction and processing are absent in most discussions of global environmental threats. Governmental and private analyses have focused only on increasing mineral supplies.  Each year, mining strips some 28 billion tons of material from the earth. This is more than what is removed by the natural erosion of all the earth’s rivers. Worldwide, mining and smelting generate an estimated 2.7 billion tons of processing waste each year, much of it hazardous dwarﬁng the more familiar municipal waste. Smelter pollution has created biological wastelands as large as 10, 000 hectares and pumped some eight percent of the total worldwide emissions of sulphur dioxide, a major contributor to acid rain, into the atmosphere.  Mining could also cause more damaging deforestation than bad farming practices in certain parts of the world. For example, smelters at a single iron mine in Brazil will require enough fuelwood to deforest 50,000 hectares of tropical forest each year.  Mining has been poorly regulated even in wealthy industrialized nations. While many governments subsidize mineral production, few enact or enforce strict environmental regulations for mining operations. As a result, not only are many mining activities more environmentally destructive than need be, but prices of minerals do not include their full environmental cost. Today’s low mineral prices reﬂect only the immediate economics of extraction and destruction. They fail to consider the full costs of eroded land, dammed or polluted rivers and displacement of people unlucky enough to live atop mineral deposits. In light of this, governments should remove subsidies provided for mining virgin minerals.  The devastating effects of the industry are particularly severe in the developing countries which have been producing a substantial portion of the world’s mineral supplies, although they use relatively little. This is because environmental controls tend to be weak or non-existent in these countries. What makes their situation more pathetic is that many of them are among the world’s poorest nations.  Contrary to popular belief, the people of most mineral–exporting countries gain little from mining. Expensive investment in equipment and infrastructure combined with falling world mineral prices, especially during the eighties, has made these countries some of the world’s most heavily indebted.  While the world appears in little danger of running out of most non-fuel minerals, it is obvious that the planet cannot afford the human and ecological price of its growing appetite for minerals. It will therefore be wise to satisfy human needs with smaller amounts of virgin minerals. It will also work for our good if we increase recycling of materials, and make metal-based products more durable and easier to repair'"
            ]
          },
          "metadata": {},
          "execution_count": 62
        }
      ]
    },
    {
      "cell_type": "code",
      "source": [
        "\n",
        "n =512\n",
        "bank = [dataset[i:i+n] for i in range(0, len(dataset), n)]\n",
        "\n",
        "model = AutoModelForSeq2SeqLM.from_pretrained(\"t5-base\")\n",
        "tokenizer = AutoTokenizer.from_pretrained(\"t5-base\")\n",
        "\n",
        "\n",
        "summary = []\n",
        "for data in bank:\n",
        "    #inputs, references = batch\n",
        "    inputs = tokenizer(\"summarize: \" + data, return_tensors=\"pt\", max_length=512, truncation=True)\n",
        "    outputs = model.generate(inputs[\"input_ids\"], max_length=150, min_length=40, length_penalty=2.0, num_beams=4, early_stopping=True, no_repeat_ngram_size=2)\n",
        "    summary.append(tokenizer.decode(outputs[0]))\n",
        "    \n",
        "\n",
        "\n",
        "    #print(tokenizer.decode(outputs[0]))\n",
        "    \n",
        "result  = \"\".join(summary)\n",
        "result = result.replace(r'<pad>','').replace(r'</s>','')\n",
        "\n",
        "print(result)\n",
        "\n",
        "metric.compute(predictions = [result], references = [dataset])"
      ],
      "metadata": {
        "colab": {
          "base_uri": "https://localhost:8080/"
        },
        "id": "JEvFWeXZX--i",
        "outputId": "91bbfcb4-4fd2-4cc7-dc56-332563912be0"
      },
      "id": "JEvFWeXZX--i",
      "execution_count": null,
      "outputs": [
        {
          "output_type": "stream",
          "name": "stdout",
          "text": [
            " each year, mining strips some 28 billion tons of material from the earth. this is more than what is removed by the natural erosion of all the earth’s rivers. mining and smelting generate an estimated 2.7 billion tons of processing waste each year. smelter pollution has created biological wastelands as large as 10, 000 hectares. mining could cause more damaging deforestation than bad farming practices. mining could cause more damaging deforestation than bad farming practices. mining has been poorly regulated even in wealthy industrialized nations. many governments subsidize mineral production, but few enact or enforce strict environmental regulations. prices of minerals do not include their full environmental cost. osts of eroded land, dammed or polluted rivers and displacement of people unlucky enough to live atop mineral deposits. the devastating effects of the industry are particularly severe in the developing countries. the people of most mineral–exporting countries gain little from mining. falling world mineral prices, especially during the eighties, has made these countries some of the world’s most heavily indebted. t can afford the human and ecological price of its growing appetite for minerals. t will therefore be wise to satisfy human needs with smaller amounts of virgin minerals. it will also work for our good if we increase recycling of materials.\n"
          ]
        },
        {
          "output_type": "execute_result",
          "data": {
            "text/plain": [
              "{'rouge1': AggregateScore(low=Score(precision=0.9488372093023256, recall=0.4523281596452328, fmeasure=0.6126126126126126), mid=Score(precision=0.9488372093023256, recall=0.4523281596452328, fmeasure=0.6126126126126126), high=Score(precision=0.9488372093023256, recall=0.4523281596452328, fmeasure=0.6126126126126126)),\n",
              " 'rouge2': AggregateScore(low=Score(precision=0.8644859813084113, recall=0.4111111111111111, fmeasure=0.5572289156626505), mid=Score(precision=0.8644859813084113, recall=0.4111111111111111, fmeasure=0.5572289156626505), high=Score(precision=0.8644859813084113, recall=0.4111111111111111, fmeasure=0.5572289156626505)),\n",
              " 'rougeL': AggregateScore(low=Score(precision=0.9302325581395349, recall=0.4434589800443459, fmeasure=0.6006006006006006), mid=Score(precision=0.9302325581395349, recall=0.4434589800443459, fmeasure=0.6006006006006006), high=Score(precision=0.9302325581395349, recall=0.4434589800443459, fmeasure=0.6006006006006006)),\n",
              " 'rougeLsum': AggregateScore(low=Score(precision=0.9302325581395349, recall=0.4434589800443459, fmeasure=0.6006006006006006), mid=Score(precision=0.9302325581395349, recall=0.4434589800443459, fmeasure=0.6006006006006006), high=Score(precision=0.9302325581395349, recall=0.4434589800443459, fmeasure=0.6006006006006006))}"
            ]
          },
          "metadata": {},
          "execution_count": 63
        }
      ]
    },
    {
      "cell_type": "code",
      "source": [
        "\n",
        "n =512\n",
        "bank = [dataset[i:i+n] for i in range(0, len(dataset), n)]\n",
        "\n",
        "model = AutoModelForSeq2SeqLM.from_pretrained(\"t5-small\")\n",
        "tokenizer = AutoTokenizer.from_pretrained(\"t5-small\")\n",
        "\n",
        "\n",
        "summary = []\n",
        "for data in bank:\n",
        "    #inputs, references = batch\n",
        "    inputs = tokenizer(\"summarize: \" + data, return_tensors=\"pt\", max_length=512, truncation=True)\n",
        "    outputs = model.generate(inputs[\"input_ids\"], max_length=150, min_length=40, length_penalty=2.0, num_beams=4, early_stopping=True, no_repeat_ngram_size=2)\n",
        "    summary.append(tokenizer.decode(outputs[0]))\n",
        "    \n",
        "\n",
        "\n",
        "    #print(tokenizer.decode(outputs[0]))\n",
        "    \n",
        "result  = \"\".join(summary)\n",
        "result = result.replace(r'<pad>','').replace(r'</s>','')\n",
        "\n",
        "print(result)\n",
        "\n",
        "metric.compute(predictions = [result], references = [dataset])"
      ],
      "metadata": {
        "colab": {
          "base_uri": "https://localhost:8080/"
        },
        "id": "IVIj5Uqlg3Lo",
        "outputId": "a72a63a5-44f6-49ed-c494-5a81cca207fc"
      },
      "id": "IVIj5Uqlg3Lo",
      "execution_count": null,
      "outputs": [
        {
          "output_type": "stream",
          "name": "stdout",
          "text": [
            " each year, mining strips 28 billion tons of material from the earth. this is more than what is removed by the natural erosion of all the earth’s rivers. worldwide, mining and smelting generate an estimated 2.7 billion tons of processing waste each year. smelter pollution has created biological wastelands as large as 10, 000 hectares. mining could also cause more damaging deforestation than bad farming practices. mining could also cause more damaging deforestation than bad farming practices in certain parts of the world. mining has been poorly regulated even in wealthy industrialized nations. some governments enact or enforce strict environmental regulations for mining operations. prices of minerals do not include their full environmental cost. osts of eroded land, dammed or polluted rivers and displacement of people unlucky enough to live atop mineral deposits. governments should remove subsidies provided for mining virgin minerals. the people of most mineral–exporting countries gain little from mining. the world appears in little danger of running out of most non-fuel minerals. but the plane is obvious that the plane is in danger of running out of most non-fuel. t cannot afford the human and ecological price of its growing appetite for minerals. it will therefore be wise to satisfy human needs with smaller amounts of virgin minerals. it will also work for our good if we increase recycling of materials.\n"
          ]
        },
        {
          "output_type": "execute_result",
          "data": {
            "text/plain": [
              "{'rouge1': AggregateScore(low=Score(precision=0.9301310043668122, recall=0.4722838137472284, fmeasure=0.6264705882352941), mid=Score(precision=0.9301310043668122, recall=0.4722838137472284, fmeasure=0.6264705882352941), high=Score(precision=0.9301310043668122, recall=0.4722838137472284, fmeasure=0.6264705882352941)),\n",
              " 'rouge2': AggregateScore(low=Score(precision=0.8245614035087719, recall=0.4177777777777778, fmeasure=0.5545722713864307), mid=Score(precision=0.8245614035087719, recall=0.4177777777777778, fmeasure=0.5545722713864307), high=Score(precision=0.8245614035087719, recall=0.4177777777777778, fmeasure=0.5545722713864307)),\n",
              " 'rougeL': AggregateScore(low=Score(precision=0.8777292576419214, recall=0.44567627494456763, fmeasure=0.5911764705882353), mid=Score(precision=0.8777292576419214, recall=0.44567627494456763, fmeasure=0.5911764705882353), high=Score(precision=0.8777292576419214, recall=0.44567627494456763, fmeasure=0.5911764705882353)),\n",
              " 'rougeLsum': AggregateScore(low=Score(precision=0.8777292576419214, recall=0.44567627494456763, fmeasure=0.5911764705882353), mid=Score(precision=0.8777292576419214, recall=0.44567627494456763, fmeasure=0.5911764705882353), high=Score(precision=0.8777292576419214, recall=0.44567627494456763, fmeasure=0.5911764705882353))}"
            ]
          },
          "metadata": {},
          "execution_count": 64
        }
      ]
    },
    {
      "cell_type": "markdown",
      "source": [
        "Reference\n",
        "1. What is Rouge score? [here](https://www.youtube.com/watch?v=TMshhnrEXlg)\n",
        "2. Interpreting Rouge scores [here](https://stats.stackexchange.com/questions/301626/interpreting-rouge-scores)\n",
        "3. How others tested their text summarizer after using rouge [here](https://link.springer.com/article/10.1007/s10579-017-9389-4)\n",
        "4. Understanding how to finetune Hyperparameters for model.generate [here](https://huggingface.co/blog/how-to-generate)\n",
        "5. Understanding num_beam used as an argument for model.generate [here](https://huggingface.co/blog/how-to-generate)"
      ],
      "metadata": {
        "id": "z2B1aaNVaXgi"
      },
      "id": "z2B1aaNVaXgi"
    },
    {
      "cell_type": "code",
      "source": [
        ""
      ],
      "metadata": {
        "id": "6xQheM6ZYEf6"
      },
      "id": "6xQheM6ZYEf6",
      "execution_count": null,
      "outputs": []
    }
  ],
  "metadata": {
    "kernelspec": {
      "display_name": "Python 3 (ipykernel)",
      "language": "python",
      "name": "python3"
    },
    "language_info": {
      "codemirror_mode": {
        "name": "ipython",
        "version": 3
      },
      "file_extension": ".py",
      "mimetype": "text/x-python",
      "name": "python",
      "nbconvert_exporter": "python",
      "pygments_lexer": "ipython3",
      "version": "3.8.12"
    },
    "colab": {
      "name": "testing_tuning.ipynb",
      "provenance": [],
      "collapsed_sections": []
    },
    "widgets": {
      "application/vnd.jupyter.widget-state+json": {
        "f1595f5058684c49ac26e9861cdf3699": {
          "model_module": "@jupyter-widgets/controls",
          "model_name": "HBoxModel",
          "model_module_version": "1.5.0",
          "state": {
            "_view_name": "HBoxView",
            "_dom_classes": [],
            "_model_name": "HBoxModel",
            "_view_module": "@jupyter-widgets/controls",
            "_model_module_version": "1.5.0",
            "_view_count": null,
            "_view_module_version": "1.5.0",
            "box_style": "",
            "layout": "IPY_MODEL_c553547792da4e2ea618bcdbff08a210",
            "_model_module": "@jupyter-widgets/controls",
            "children": [
              "IPY_MODEL_2bb1553be63e42fc8dff530d1e06deb4",
              "IPY_MODEL_b802b90be4224e7aabed9c7c81aedbbc",
              "IPY_MODEL_4d1b4b82ddb947a5ab402aabb4da1500"
            ]
          }
        },
        "c553547792da4e2ea618bcdbff08a210": {
          "model_module": "@jupyter-widgets/base",
          "model_name": "LayoutModel",
          "model_module_version": "1.2.0",
          "state": {
            "_view_name": "LayoutView",
            "grid_template_rows": null,
            "right": null,
            "justify_content": null,
            "_view_module": "@jupyter-widgets/base",
            "overflow": null,
            "_model_module_version": "1.2.0",
            "_view_count": null,
            "flex_flow": null,
            "width": null,
            "min_width": null,
            "border": null,
            "align_items": null,
            "bottom": null,
            "_model_module": "@jupyter-widgets/base",
            "top": null,
            "grid_column": null,
            "overflow_y": null,
            "overflow_x": null,
            "grid_auto_flow": null,
            "grid_area": null,
            "grid_template_columns": null,
            "flex": null,
            "_model_name": "LayoutModel",
            "justify_items": null,
            "grid_row": null,
            "max_height": null,
            "align_content": null,
            "visibility": null,
            "align_self": null,
            "height": null,
            "min_height": null,
            "padding": null,
            "grid_auto_rows": null,
            "grid_gap": null,
            "max_width": null,
            "order": null,
            "_view_module_version": "1.2.0",
            "grid_template_areas": null,
            "object_position": null,
            "object_fit": null,
            "grid_auto_columns": null,
            "margin": null,
            "display": null,
            "left": null
          }
        },
        "2bb1553be63e42fc8dff530d1e06deb4": {
          "model_module": "@jupyter-widgets/controls",
          "model_name": "HTMLModel",
          "model_module_version": "1.5.0",
          "state": {
            "_view_name": "HTMLView",
            "style": "IPY_MODEL_99a79a8038ba44b997f8f305e00d329f",
            "_dom_classes": [],
            "description": "",
            "_model_name": "HTMLModel",
            "placeholder": "​",
            "_view_module": "@jupyter-widgets/controls",
            "_model_module_version": "1.5.0",
            "value": "Downloading: ",
            "_view_count": null,
            "_view_module_version": "1.5.0",
            "description_tooltip": null,
            "_model_module": "@jupyter-widgets/controls",
            "layout": "IPY_MODEL_45770c38dacd435091bd561532218f3c"
          }
        },
        "b802b90be4224e7aabed9c7c81aedbbc": {
          "model_module": "@jupyter-widgets/controls",
          "model_name": "FloatProgressModel",
          "model_module_version": "1.5.0",
          "state": {
            "_view_name": "ProgressView",
            "style": "IPY_MODEL_7c7575abaa5c425493867d8901ea7254",
            "_dom_classes": [],
            "description": "",
            "_model_name": "FloatProgressModel",
            "bar_style": "success",
            "max": 2161,
            "_view_module": "@jupyter-widgets/controls",
            "_model_module_version": "1.5.0",
            "value": 2161,
            "_view_count": null,
            "_view_module_version": "1.5.0",
            "orientation": "horizontal",
            "min": 0,
            "description_tooltip": null,
            "_model_module": "@jupyter-widgets/controls",
            "layout": "IPY_MODEL_16d7d349174d4960aeed8d837afef61a"
          }
        },
        "4d1b4b82ddb947a5ab402aabb4da1500": {
          "model_module": "@jupyter-widgets/controls",
          "model_name": "HTMLModel",
          "model_module_version": "1.5.0",
          "state": {
            "_view_name": "HTMLView",
            "style": "IPY_MODEL_a2ad8e47bbb14e279b71022ececa6abd",
            "_dom_classes": [],
            "description": "",
            "_model_name": "HTMLModel",
            "placeholder": "​",
            "_view_module": "@jupyter-widgets/controls",
            "_model_module_version": "1.5.0",
            "value": " 5.60k/? [00:00&lt;00:00, 125kB/s]",
            "_view_count": null,
            "_view_module_version": "1.5.0",
            "description_tooltip": null,
            "_model_module": "@jupyter-widgets/controls",
            "layout": "IPY_MODEL_92d38a5d7e134a33bcfddbf57a4cc90f"
          }
        },
        "99a79a8038ba44b997f8f305e00d329f": {
          "model_module": "@jupyter-widgets/controls",
          "model_name": "DescriptionStyleModel",
          "model_module_version": "1.5.0",
          "state": {
            "_view_name": "StyleView",
            "_model_name": "DescriptionStyleModel",
            "description_width": "",
            "_view_module": "@jupyter-widgets/base",
            "_model_module_version": "1.5.0",
            "_view_count": null,
            "_view_module_version": "1.2.0",
            "_model_module": "@jupyter-widgets/controls"
          }
        },
        "45770c38dacd435091bd561532218f3c": {
          "model_module": "@jupyter-widgets/base",
          "model_name": "LayoutModel",
          "model_module_version": "1.2.0",
          "state": {
            "_view_name": "LayoutView",
            "grid_template_rows": null,
            "right": null,
            "justify_content": null,
            "_view_module": "@jupyter-widgets/base",
            "overflow": null,
            "_model_module_version": "1.2.0",
            "_view_count": null,
            "flex_flow": null,
            "width": null,
            "min_width": null,
            "border": null,
            "align_items": null,
            "bottom": null,
            "_model_module": "@jupyter-widgets/base",
            "top": null,
            "grid_column": null,
            "overflow_y": null,
            "overflow_x": null,
            "grid_auto_flow": null,
            "grid_area": null,
            "grid_template_columns": null,
            "flex": null,
            "_model_name": "LayoutModel",
            "justify_items": null,
            "grid_row": null,
            "max_height": null,
            "align_content": null,
            "visibility": null,
            "align_self": null,
            "height": null,
            "min_height": null,
            "padding": null,
            "grid_auto_rows": null,
            "grid_gap": null,
            "max_width": null,
            "order": null,
            "_view_module_version": "1.2.0",
            "grid_template_areas": null,
            "object_position": null,
            "object_fit": null,
            "grid_auto_columns": null,
            "margin": null,
            "display": null,
            "left": null
          }
        },
        "7c7575abaa5c425493867d8901ea7254": {
          "model_module": "@jupyter-widgets/controls",
          "model_name": "ProgressStyleModel",
          "model_module_version": "1.5.0",
          "state": {
            "_view_name": "StyleView",
            "_model_name": "ProgressStyleModel",
            "description_width": "",
            "_view_module": "@jupyter-widgets/base",
            "_model_module_version": "1.5.0",
            "_view_count": null,
            "_view_module_version": "1.2.0",
            "bar_color": null,
            "_model_module": "@jupyter-widgets/controls"
          }
        },
        "16d7d349174d4960aeed8d837afef61a": {
          "model_module": "@jupyter-widgets/base",
          "model_name": "LayoutModel",
          "model_module_version": "1.2.0",
          "state": {
            "_view_name": "LayoutView",
            "grid_template_rows": null,
            "right": null,
            "justify_content": null,
            "_view_module": "@jupyter-widgets/base",
            "overflow": null,
            "_model_module_version": "1.2.0",
            "_view_count": null,
            "flex_flow": null,
            "width": null,
            "min_width": null,
            "border": null,
            "align_items": null,
            "bottom": null,
            "_model_module": "@jupyter-widgets/base",
            "top": null,
            "grid_column": null,
            "overflow_y": null,
            "overflow_x": null,
            "grid_auto_flow": null,
            "grid_area": null,
            "grid_template_columns": null,
            "flex": null,
            "_model_name": "LayoutModel",
            "justify_items": null,
            "grid_row": null,
            "max_height": null,
            "align_content": null,
            "visibility": null,
            "align_self": null,
            "height": null,
            "min_height": null,
            "padding": null,
            "grid_auto_rows": null,
            "grid_gap": null,
            "max_width": null,
            "order": null,
            "_view_module_version": "1.2.0",
            "grid_template_areas": null,
            "object_position": null,
            "object_fit": null,
            "grid_auto_columns": null,
            "margin": null,
            "display": null,
            "left": null
          }
        },
        "a2ad8e47bbb14e279b71022ececa6abd": {
          "model_module": "@jupyter-widgets/controls",
          "model_name": "DescriptionStyleModel",
          "model_module_version": "1.5.0",
          "state": {
            "_view_name": "StyleView",
            "_model_name": "DescriptionStyleModel",
            "description_width": "",
            "_view_module": "@jupyter-widgets/base",
            "_model_module_version": "1.5.0",
            "_view_count": null,
            "_view_module_version": "1.2.0",
            "_model_module": "@jupyter-widgets/controls"
          }
        },
        "92d38a5d7e134a33bcfddbf57a4cc90f": {
          "model_module": "@jupyter-widgets/base",
          "model_name": "LayoutModel",
          "model_module_version": "1.2.0",
          "state": {
            "_view_name": "LayoutView",
            "grid_template_rows": null,
            "right": null,
            "justify_content": null,
            "_view_module": "@jupyter-widgets/base",
            "overflow": null,
            "_model_module_version": "1.2.0",
            "_view_count": null,
            "flex_flow": null,
            "width": null,
            "min_width": null,
            "border": null,
            "align_items": null,
            "bottom": null,
            "_model_module": "@jupyter-widgets/base",
            "top": null,
            "grid_column": null,
            "overflow_y": null,
            "overflow_x": null,
            "grid_auto_flow": null,
            "grid_area": null,
            "grid_template_columns": null,
            "flex": null,
            "_model_name": "LayoutModel",
            "justify_items": null,
            "grid_row": null,
            "max_height": null,
            "align_content": null,
            "visibility": null,
            "align_self": null,
            "height": null,
            "min_height": null,
            "padding": null,
            "grid_auto_rows": null,
            "grid_gap": null,
            "max_width": null,
            "order": null,
            "_view_module_version": "1.2.0",
            "grid_template_areas": null,
            "object_position": null,
            "object_fit": null,
            "grid_auto_columns": null,
            "margin": null,
            "display": null,
            "left": null
          }
        },
        "f586e4f4066c4dac8982595c75e4a388": {
          "model_module": "@jupyter-widgets/controls",
          "model_name": "HBoxModel",
          "model_module_version": "1.5.0",
          "state": {
            "_view_name": "HBoxView",
            "_dom_classes": [],
            "_model_name": "HBoxModel",
            "_view_module": "@jupyter-widgets/controls",
            "_model_module_version": "1.5.0",
            "_view_count": null,
            "_view_module_version": "1.5.0",
            "box_style": "",
            "layout": "IPY_MODEL_72c4079704a44f88922c09589e66b85b",
            "_model_module": "@jupyter-widgets/controls",
            "children": [
              "IPY_MODEL_73452802bfae4c0bab5a2a7759df780a",
              "IPY_MODEL_d6e6ea107d984d9aa53090bccd9ea30d",
              "IPY_MODEL_c13166f573084e918a6b98685e187479"
            ]
          }
        },
        "72c4079704a44f88922c09589e66b85b": {
          "model_module": "@jupyter-widgets/base",
          "model_name": "LayoutModel",
          "model_module_version": "1.2.0",
          "state": {
            "_view_name": "LayoutView",
            "grid_template_rows": null,
            "right": null,
            "justify_content": null,
            "_view_module": "@jupyter-widgets/base",
            "overflow": null,
            "_model_module_version": "1.2.0",
            "_view_count": null,
            "flex_flow": null,
            "width": null,
            "min_width": null,
            "border": null,
            "align_items": null,
            "bottom": null,
            "_model_module": "@jupyter-widgets/base",
            "top": null,
            "grid_column": null,
            "overflow_y": null,
            "overflow_x": null,
            "grid_auto_flow": null,
            "grid_area": null,
            "grid_template_columns": null,
            "flex": null,
            "_model_name": "LayoutModel",
            "justify_items": null,
            "grid_row": null,
            "max_height": null,
            "align_content": null,
            "visibility": null,
            "align_self": null,
            "height": null,
            "min_height": null,
            "padding": null,
            "grid_auto_rows": null,
            "grid_gap": null,
            "max_width": null,
            "order": null,
            "_view_module_version": "1.2.0",
            "grid_template_areas": null,
            "object_position": null,
            "object_fit": null,
            "grid_auto_columns": null,
            "margin": null,
            "display": null,
            "left": null
          }
        },
        "73452802bfae4c0bab5a2a7759df780a": {
          "model_module": "@jupyter-widgets/controls",
          "model_name": "HTMLModel",
          "model_module_version": "1.5.0",
          "state": {
            "_view_name": "HTMLView",
            "style": "IPY_MODEL_a421b1cb2f72477498019e66d1511f30",
            "_dom_classes": [],
            "description": "",
            "_model_name": "HTMLModel",
            "placeholder": "​",
            "_view_module": "@jupyter-widgets/controls",
            "_model_module_version": "1.5.0",
            "value": "Downloading: 100%",
            "_view_count": null,
            "_view_module_version": "1.5.0",
            "description_tooltip": null,
            "_model_module": "@jupyter-widgets/controls",
            "layout": "IPY_MODEL_0f2c659fd6f844f4af4d9579719a1e9b"
          }
        },
        "d6e6ea107d984d9aa53090bccd9ea30d": {
          "model_module": "@jupyter-widgets/controls",
          "model_name": "FloatProgressModel",
          "model_module_version": "1.5.0",
          "state": {
            "_view_name": "ProgressView",
            "style": "IPY_MODEL_cc22b6f2186e4227a814411c37c13ee2",
            "_dom_classes": [],
            "description": "",
            "_model_name": "FloatProgressModel",
            "bar_style": "success",
            "max": 1199,
            "_view_module": "@jupyter-widgets/controls",
            "_model_module_version": "1.5.0",
            "value": 1199,
            "_view_count": null,
            "_view_module_version": "1.5.0",
            "orientation": "horizontal",
            "min": 0,
            "description_tooltip": null,
            "_model_module": "@jupyter-widgets/controls",
            "layout": "IPY_MODEL_e20a13605cef42cbbec8502b657401d2"
          }
        },
        "c13166f573084e918a6b98685e187479": {
          "model_module": "@jupyter-widgets/controls",
          "model_name": "HTMLModel",
          "model_module_version": "1.5.0",
          "state": {
            "_view_name": "HTMLView",
            "style": "IPY_MODEL_48230b75ab5e411b980b819084b9ee45",
            "_dom_classes": [],
            "description": "",
            "_model_name": "HTMLModel",
            "placeholder": "​",
            "_view_module": "@jupyter-widgets/controls",
            "_model_module_version": "1.5.0",
            "value": " 1.17k/1.17k [00:00&lt;00:00, 22.3kB/s]",
            "_view_count": null,
            "_view_module_version": "1.5.0",
            "description_tooltip": null,
            "_model_module": "@jupyter-widgets/controls",
            "layout": "IPY_MODEL_f552d00a24ed45c291a0f0d4f996d846"
          }
        },
        "a421b1cb2f72477498019e66d1511f30": {
          "model_module": "@jupyter-widgets/controls",
          "model_name": "DescriptionStyleModel",
          "model_module_version": "1.5.0",
          "state": {
            "_view_name": "StyleView",
            "_model_name": "DescriptionStyleModel",
            "description_width": "",
            "_view_module": "@jupyter-widgets/base",
            "_model_module_version": "1.5.0",
            "_view_count": null,
            "_view_module_version": "1.2.0",
            "_model_module": "@jupyter-widgets/controls"
          }
        },
        "0f2c659fd6f844f4af4d9579719a1e9b": {
          "model_module": "@jupyter-widgets/base",
          "model_name": "LayoutModel",
          "model_module_version": "1.2.0",
          "state": {
            "_view_name": "LayoutView",
            "grid_template_rows": null,
            "right": null,
            "justify_content": null,
            "_view_module": "@jupyter-widgets/base",
            "overflow": null,
            "_model_module_version": "1.2.0",
            "_view_count": null,
            "flex_flow": null,
            "width": null,
            "min_width": null,
            "border": null,
            "align_items": null,
            "bottom": null,
            "_model_module": "@jupyter-widgets/base",
            "top": null,
            "grid_column": null,
            "overflow_y": null,
            "overflow_x": null,
            "grid_auto_flow": null,
            "grid_area": null,
            "grid_template_columns": null,
            "flex": null,
            "_model_name": "LayoutModel",
            "justify_items": null,
            "grid_row": null,
            "max_height": null,
            "align_content": null,
            "visibility": null,
            "align_self": null,
            "height": null,
            "min_height": null,
            "padding": null,
            "grid_auto_rows": null,
            "grid_gap": null,
            "max_width": null,
            "order": null,
            "_view_module_version": "1.2.0",
            "grid_template_areas": null,
            "object_position": null,
            "object_fit": null,
            "grid_auto_columns": null,
            "margin": null,
            "display": null,
            "left": null
          }
        },
        "cc22b6f2186e4227a814411c37c13ee2": {
          "model_module": "@jupyter-widgets/controls",
          "model_name": "ProgressStyleModel",
          "model_module_version": "1.5.0",
          "state": {
            "_view_name": "StyleView",
            "_model_name": "ProgressStyleModel",
            "description_width": "",
            "_view_module": "@jupyter-widgets/base",
            "_model_module_version": "1.5.0",
            "_view_count": null,
            "_view_module_version": "1.2.0",
            "bar_color": null,
            "_model_module": "@jupyter-widgets/controls"
          }
        },
        "e20a13605cef42cbbec8502b657401d2": {
          "model_module": "@jupyter-widgets/base",
          "model_name": "LayoutModel",
          "model_module_version": "1.2.0",
          "state": {
            "_view_name": "LayoutView",
            "grid_template_rows": null,
            "right": null,
            "justify_content": null,
            "_view_module": "@jupyter-widgets/base",
            "overflow": null,
            "_model_module_version": "1.2.0",
            "_view_count": null,
            "flex_flow": null,
            "width": null,
            "min_width": null,
            "border": null,
            "align_items": null,
            "bottom": null,
            "_model_module": "@jupyter-widgets/base",
            "top": null,
            "grid_column": null,
            "overflow_y": null,
            "overflow_x": null,
            "grid_auto_flow": null,
            "grid_area": null,
            "grid_template_columns": null,
            "flex": null,
            "_model_name": "LayoutModel",
            "justify_items": null,
            "grid_row": null,
            "max_height": null,
            "align_content": null,
            "visibility": null,
            "align_self": null,
            "height": null,
            "min_height": null,
            "padding": null,
            "grid_auto_rows": null,
            "grid_gap": null,
            "max_width": null,
            "order": null,
            "_view_module_version": "1.2.0",
            "grid_template_areas": null,
            "object_position": null,
            "object_fit": null,
            "grid_auto_columns": null,
            "margin": null,
            "display": null,
            "left": null
          }
        },
        "48230b75ab5e411b980b819084b9ee45": {
          "model_module": "@jupyter-widgets/controls",
          "model_name": "DescriptionStyleModel",
          "model_module_version": "1.5.0",
          "state": {
            "_view_name": "StyleView",
            "_model_name": "DescriptionStyleModel",
            "description_width": "",
            "_view_module": "@jupyter-widgets/base",
            "_model_module_version": "1.5.0",
            "_view_count": null,
            "_view_module_version": "1.2.0",
            "_model_module": "@jupyter-widgets/controls"
          }
        },
        "f552d00a24ed45c291a0f0d4f996d846": {
          "model_module": "@jupyter-widgets/base",
          "model_name": "LayoutModel",
          "model_module_version": "1.2.0",
          "state": {
            "_view_name": "LayoutView",
            "grid_template_rows": null,
            "right": null,
            "justify_content": null,
            "_view_module": "@jupyter-widgets/base",
            "overflow": null,
            "_model_module_version": "1.2.0",
            "_view_count": null,
            "flex_flow": null,
            "width": null,
            "min_width": null,
            "border": null,
            "align_items": null,
            "bottom": null,
            "_model_module": "@jupyter-widgets/base",
            "top": null,
            "grid_column": null,
            "overflow_y": null,
            "overflow_x": null,
            "grid_auto_flow": null,
            "grid_area": null,
            "grid_template_columns": null,
            "flex": null,
            "_model_name": "LayoutModel",
            "justify_items": null,
            "grid_row": null,
            "max_height": null,
            "align_content": null,
            "visibility": null,
            "align_self": null,
            "height": null,
            "min_height": null,
            "padding": null,
            "grid_auto_rows": null,
            "grid_gap": null,
            "max_width": null,
            "order": null,
            "_view_module_version": "1.2.0",
            "grid_template_areas": null,
            "object_position": null,
            "object_fit": null,
            "grid_auto_columns": null,
            "margin": null,
            "display": null,
            "left": null
          }
        },
        "4c7e3c143778450f99a15312ac637616": {
          "model_module": "@jupyter-widgets/controls",
          "model_name": "HBoxModel",
          "model_module_version": "1.5.0",
          "state": {
            "_view_name": "HBoxView",
            "_dom_classes": [],
            "_model_name": "HBoxModel",
            "_view_module": "@jupyter-widgets/controls",
            "_model_module_version": "1.5.0",
            "_view_count": null,
            "_view_module_version": "1.5.0",
            "box_style": "",
            "layout": "IPY_MODEL_7345f06c2dee4af793fdde9f20514a47",
            "_model_module": "@jupyter-widgets/controls",
            "children": [
              "IPY_MODEL_60f7e0d2fcdc44c2a867a6bfac31b7e3",
              "IPY_MODEL_4ffc5ec5b9fc4a48a52d96e99d7fc980",
              "IPY_MODEL_3917969cd740427b91bb53ec5cd27372"
            ]
          }
        },
        "7345f06c2dee4af793fdde9f20514a47": {
          "model_module": "@jupyter-widgets/base",
          "model_name": "LayoutModel",
          "model_module_version": "1.2.0",
          "state": {
            "_view_name": "LayoutView",
            "grid_template_rows": null,
            "right": null,
            "justify_content": null,
            "_view_module": "@jupyter-widgets/base",
            "overflow": null,
            "_model_module_version": "1.2.0",
            "_view_count": null,
            "flex_flow": null,
            "width": null,
            "min_width": null,
            "border": null,
            "align_items": null,
            "bottom": null,
            "_model_module": "@jupyter-widgets/base",
            "top": null,
            "grid_column": null,
            "overflow_y": null,
            "overflow_x": null,
            "grid_auto_flow": null,
            "grid_area": null,
            "grid_template_columns": null,
            "flex": null,
            "_model_name": "LayoutModel",
            "justify_items": null,
            "grid_row": null,
            "max_height": null,
            "align_content": null,
            "visibility": null,
            "align_self": null,
            "height": null,
            "min_height": null,
            "padding": null,
            "grid_auto_rows": null,
            "grid_gap": null,
            "max_width": null,
            "order": null,
            "_view_module_version": "1.2.0",
            "grid_template_areas": null,
            "object_position": null,
            "object_fit": null,
            "grid_auto_columns": null,
            "margin": null,
            "display": null,
            "left": null
          }
        },
        "60f7e0d2fcdc44c2a867a6bfac31b7e3": {
          "model_module": "@jupyter-widgets/controls",
          "model_name": "HTMLModel",
          "model_module_version": "1.5.0",
          "state": {
            "_view_name": "HTMLView",
            "style": "IPY_MODEL_54a95817344847f8a67771e0604a4f7f",
            "_dom_classes": [],
            "description": "",
            "_model_name": "HTMLModel",
            "placeholder": "​",
            "_view_module": "@jupyter-widgets/controls",
            "_model_module_version": "1.5.0",
            "value": "Downloading: 100%",
            "_view_count": null,
            "_view_module_version": "1.5.0",
            "description_tooltip": null,
            "_model_module": "@jupyter-widgets/controls",
            "layout": "IPY_MODEL_7aed87cdb6f54ba2ac22d1fc52314235"
          }
        },
        "4ffc5ec5b9fc4a48a52d96e99d7fc980": {
          "model_module": "@jupyter-widgets/controls",
          "model_name": "FloatProgressModel",
          "model_module_version": "1.5.0",
          "state": {
            "_view_name": "ProgressView",
            "style": "IPY_MODEL_a2021d07aedd44b0b352df0b1435cd5c",
            "_dom_classes": [],
            "description": "",
            "_model_name": "FloatProgressModel",
            "bar_style": "success",
            "max": 891691430,
            "_view_module": "@jupyter-widgets/controls",
            "_model_module_version": "1.5.0",
            "value": 891691430,
            "_view_count": null,
            "_view_module_version": "1.5.0",
            "orientation": "horizontal",
            "min": 0,
            "description_tooltip": null,
            "_model_module": "@jupyter-widgets/controls",
            "layout": "IPY_MODEL_f4af7fbd69a74057901c06403005e550"
          }
        },
        "3917969cd740427b91bb53ec5cd27372": {
          "model_module": "@jupyter-widgets/controls",
          "model_name": "HTMLModel",
          "model_module_version": "1.5.0",
          "state": {
            "_view_name": "HTMLView",
            "style": "IPY_MODEL_17df1bdfbaf1491aafd3d83bfe194d3a",
            "_dom_classes": [],
            "description": "",
            "_model_name": "HTMLModel",
            "placeholder": "​",
            "_view_module": "@jupyter-widgets/controls",
            "_model_module_version": "1.5.0",
            "value": " 850M/850M [00:30&lt;00:00, 45.5MB/s]",
            "_view_count": null,
            "_view_module_version": "1.5.0",
            "description_tooltip": null,
            "_model_module": "@jupyter-widgets/controls",
            "layout": "IPY_MODEL_3252ea6db24743cea1ebc1e4e45b872b"
          }
        },
        "54a95817344847f8a67771e0604a4f7f": {
          "model_module": "@jupyter-widgets/controls",
          "model_name": "DescriptionStyleModel",
          "model_module_version": "1.5.0",
          "state": {
            "_view_name": "StyleView",
            "_model_name": "DescriptionStyleModel",
            "description_width": "",
            "_view_module": "@jupyter-widgets/base",
            "_model_module_version": "1.5.0",
            "_view_count": null,
            "_view_module_version": "1.2.0",
            "_model_module": "@jupyter-widgets/controls"
          }
        },
        "7aed87cdb6f54ba2ac22d1fc52314235": {
          "model_module": "@jupyter-widgets/base",
          "model_name": "LayoutModel",
          "model_module_version": "1.2.0",
          "state": {
            "_view_name": "LayoutView",
            "grid_template_rows": null,
            "right": null,
            "justify_content": null,
            "_view_module": "@jupyter-widgets/base",
            "overflow": null,
            "_model_module_version": "1.2.0",
            "_view_count": null,
            "flex_flow": null,
            "width": null,
            "min_width": null,
            "border": null,
            "align_items": null,
            "bottom": null,
            "_model_module": "@jupyter-widgets/base",
            "top": null,
            "grid_column": null,
            "overflow_y": null,
            "overflow_x": null,
            "grid_auto_flow": null,
            "grid_area": null,
            "grid_template_columns": null,
            "flex": null,
            "_model_name": "LayoutModel",
            "justify_items": null,
            "grid_row": null,
            "max_height": null,
            "align_content": null,
            "visibility": null,
            "align_self": null,
            "height": null,
            "min_height": null,
            "padding": null,
            "grid_auto_rows": null,
            "grid_gap": null,
            "max_width": null,
            "order": null,
            "_view_module_version": "1.2.0",
            "grid_template_areas": null,
            "object_position": null,
            "object_fit": null,
            "grid_auto_columns": null,
            "margin": null,
            "display": null,
            "left": null
          }
        },
        "a2021d07aedd44b0b352df0b1435cd5c": {
          "model_module": "@jupyter-widgets/controls",
          "model_name": "ProgressStyleModel",
          "model_module_version": "1.5.0",
          "state": {
            "_view_name": "StyleView",
            "_model_name": "ProgressStyleModel",
            "description_width": "",
            "_view_module": "@jupyter-widgets/base",
            "_model_module_version": "1.5.0",
            "_view_count": null,
            "_view_module_version": "1.2.0",
            "bar_color": null,
            "_model_module": "@jupyter-widgets/controls"
          }
        },
        "f4af7fbd69a74057901c06403005e550": {
          "model_module": "@jupyter-widgets/base",
          "model_name": "LayoutModel",
          "model_module_version": "1.2.0",
          "state": {
            "_view_name": "LayoutView",
            "grid_template_rows": null,
            "right": null,
            "justify_content": null,
            "_view_module": "@jupyter-widgets/base",
            "overflow": null,
            "_model_module_version": "1.2.0",
            "_view_count": null,
            "flex_flow": null,
            "width": null,
            "min_width": null,
            "border": null,
            "align_items": null,
            "bottom": null,
            "_model_module": "@jupyter-widgets/base",
            "top": null,
            "grid_column": null,
            "overflow_y": null,
            "overflow_x": null,
            "grid_auto_flow": null,
            "grid_area": null,
            "grid_template_columns": null,
            "flex": null,
            "_model_name": "LayoutModel",
            "justify_items": null,
            "grid_row": null,
            "max_height": null,
            "align_content": null,
            "visibility": null,
            "align_self": null,
            "height": null,
            "min_height": null,
            "padding": null,
            "grid_auto_rows": null,
            "grid_gap": null,
            "max_width": null,
            "order": null,
            "_view_module_version": "1.2.0",
            "grid_template_areas": null,
            "object_position": null,
            "object_fit": null,
            "grid_auto_columns": null,
            "margin": null,
            "display": null,
            "left": null
          }
        },
        "17df1bdfbaf1491aafd3d83bfe194d3a": {
          "model_module": "@jupyter-widgets/controls",
          "model_name": "DescriptionStyleModel",
          "model_module_version": "1.5.0",
          "state": {
            "_view_name": "StyleView",
            "_model_name": "DescriptionStyleModel",
            "description_width": "",
            "_view_module": "@jupyter-widgets/base",
            "_model_module_version": "1.5.0",
            "_view_count": null,
            "_view_module_version": "1.2.0",
            "_model_module": "@jupyter-widgets/controls"
          }
        },
        "3252ea6db24743cea1ebc1e4e45b872b": {
          "model_module": "@jupyter-widgets/base",
          "model_name": "LayoutModel",
          "model_module_version": "1.2.0",
          "state": {
            "_view_name": "LayoutView",
            "grid_template_rows": null,
            "right": null,
            "justify_content": null,
            "_view_module": "@jupyter-widgets/base",
            "overflow": null,
            "_model_module_version": "1.2.0",
            "_view_count": null,
            "flex_flow": null,
            "width": null,
            "min_width": null,
            "border": null,
            "align_items": null,
            "bottom": null,
            "_model_module": "@jupyter-widgets/base",
            "top": null,
            "grid_column": null,
            "overflow_y": null,
            "overflow_x": null,
            "grid_auto_flow": null,
            "grid_area": null,
            "grid_template_columns": null,
            "flex": null,
            "_model_name": "LayoutModel",
            "justify_items": null,
            "grid_row": null,
            "max_height": null,
            "align_content": null,
            "visibility": null,
            "align_self": null,
            "height": null,
            "min_height": null,
            "padding": null,
            "grid_auto_rows": null,
            "grid_gap": null,
            "max_width": null,
            "order": null,
            "_view_module_version": "1.2.0",
            "grid_template_areas": null,
            "object_position": null,
            "object_fit": null,
            "grid_auto_columns": null,
            "margin": null,
            "display": null,
            "left": null
          }
        },
        "8831d5051f6f4f239ded95c845381f09": {
          "model_module": "@jupyter-widgets/controls",
          "model_name": "HBoxModel",
          "model_module_version": "1.5.0",
          "state": {
            "_view_name": "HBoxView",
            "_dom_classes": [],
            "_model_name": "HBoxModel",
            "_view_module": "@jupyter-widgets/controls",
            "_model_module_version": "1.5.0",
            "_view_count": null,
            "_view_module_version": "1.5.0",
            "box_style": "",
            "layout": "IPY_MODEL_1ab6c39118f143fa95be193ceeba783a",
            "_model_module": "@jupyter-widgets/controls",
            "children": [
              "IPY_MODEL_8857e65d625140568083a30e6fcd38b6",
              "IPY_MODEL_1ae09f11872c46c9a27bfcd76f53ff91",
              "IPY_MODEL_fa27c00d2c0740a9aef171ab13f4dc87"
            ]
          }
        },
        "1ab6c39118f143fa95be193ceeba783a": {
          "model_module": "@jupyter-widgets/base",
          "model_name": "LayoutModel",
          "model_module_version": "1.2.0",
          "state": {
            "_view_name": "LayoutView",
            "grid_template_rows": null,
            "right": null,
            "justify_content": null,
            "_view_module": "@jupyter-widgets/base",
            "overflow": null,
            "_model_module_version": "1.2.0",
            "_view_count": null,
            "flex_flow": null,
            "width": null,
            "min_width": null,
            "border": null,
            "align_items": null,
            "bottom": null,
            "_model_module": "@jupyter-widgets/base",
            "top": null,
            "grid_column": null,
            "overflow_y": null,
            "overflow_x": null,
            "grid_auto_flow": null,
            "grid_area": null,
            "grid_template_columns": null,
            "flex": null,
            "_model_name": "LayoutModel",
            "justify_items": null,
            "grid_row": null,
            "max_height": null,
            "align_content": null,
            "visibility": null,
            "align_self": null,
            "height": null,
            "min_height": null,
            "padding": null,
            "grid_auto_rows": null,
            "grid_gap": null,
            "max_width": null,
            "order": null,
            "_view_module_version": "1.2.0",
            "grid_template_areas": null,
            "object_position": null,
            "object_fit": null,
            "grid_auto_columns": null,
            "margin": null,
            "display": null,
            "left": null
          }
        },
        "8857e65d625140568083a30e6fcd38b6": {
          "model_module": "@jupyter-widgets/controls",
          "model_name": "HTMLModel",
          "model_module_version": "1.5.0",
          "state": {
            "_view_name": "HTMLView",
            "style": "IPY_MODEL_6f496b0f669e4104bcd6cccfa00fc630",
            "_dom_classes": [],
            "description": "",
            "_model_name": "HTMLModel",
            "placeholder": "​",
            "_view_module": "@jupyter-widgets/controls",
            "_model_module_version": "1.5.0",
            "value": "Downloading: 100%",
            "_view_count": null,
            "_view_module_version": "1.5.0",
            "description_tooltip": null,
            "_model_module": "@jupyter-widgets/controls",
            "layout": "IPY_MODEL_44f368c9c86244c0b087e11c60d44ad0"
          }
        },
        "1ae09f11872c46c9a27bfcd76f53ff91": {
          "model_module": "@jupyter-widgets/controls",
          "model_name": "FloatProgressModel",
          "model_module_version": "1.5.0",
          "state": {
            "_view_name": "ProgressView",
            "style": "IPY_MODEL_ae32f08763044d16a64c143fe83c5ce5",
            "_dom_classes": [],
            "description": "",
            "_model_name": "FloatProgressModel",
            "bar_style": "success",
            "max": 791656,
            "_view_module": "@jupyter-widgets/controls",
            "_model_module_version": "1.5.0",
            "value": 791656,
            "_view_count": null,
            "_view_module_version": "1.5.0",
            "orientation": "horizontal",
            "min": 0,
            "description_tooltip": null,
            "_model_module": "@jupyter-widgets/controls",
            "layout": "IPY_MODEL_38d7a0b480ed4428ae9f4e0bd4d055e2"
          }
        },
        "fa27c00d2c0740a9aef171ab13f4dc87": {
          "model_module": "@jupyter-widgets/controls",
          "model_name": "HTMLModel",
          "model_module_version": "1.5.0",
          "state": {
            "_view_name": "HTMLView",
            "style": "IPY_MODEL_49b1d8f7d97844129c40e31f3b32f3ae",
            "_dom_classes": [],
            "description": "",
            "_model_name": "HTMLModel",
            "placeholder": "​",
            "_view_module": "@jupyter-widgets/controls",
            "_model_module_version": "1.5.0",
            "value": " 773k/773k [00:00&lt;00:00, 1.17MB/s]",
            "_view_count": null,
            "_view_module_version": "1.5.0",
            "description_tooltip": null,
            "_model_module": "@jupyter-widgets/controls",
            "layout": "IPY_MODEL_5aa2d1027a644909bde1ad4e357a0bc4"
          }
        },
        "6f496b0f669e4104bcd6cccfa00fc630": {
          "model_module": "@jupyter-widgets/controls",
          "model_name": "DescriptionStyleModel",
          "model_module_version": "1.5.0",
          "state": {
            "_view_name": "StyleView",
            "_model_name": "DescriptionStyleModel",
            "description_width": "",
            "_view_module": "@jupyter-widgets/base",
            "_model_module_version": "1.5.0",
            "_view_count": null,
            "_view_module_version": "1.2.0",
            "_model_module": "@jupyter-widgets/controls"
          }
        },
        "44f368c9c86244c0b087e11c60d44ad0": {
          "model_module": "@jupyter-widgets/base",
          "model_name": "LayoutModel",
          "model_module_version": "1.2.0",
          "state": {
            "_view_name": "LayoutView",
            "grid_template_rows": null,
            "right": null,
            "justify_content": null,
            "_view_module": "@jupyter-widgets/base",
            "overflow": null,
            "_model_module_version": "1.2.0",
            "_view_count": null,
            "flex_flow": null,
            "width": null,
            "min_width": null,
            "border": null,
            "align_items": null,
            "bottom": null,
            "_model_module": "@jupyter-widgets/base",
            "top": null,
            "grid_column": null,
            "overflow_y": null,
            "overflow_x": null,
            "grid_auto_flow": null,
            "grid_area": null,
            "grid_template_columns": null,
            "flex": null,
            "_model_name": "LayoutModel",
            "justify_items": null,
            "grid_row": null,
            "max_height": null,
            "align_content": null,
            "visibility": null,
            "align_self": null,
            "height": null,
            "min_height": null,
            "padding": null,
            "grid_auto_rows": null,
            "grid_gap": null,
            "max_width": null,
            "order": null,
            "_view_module_version": "1.2.0",
            "grid_template_areas": null,
            "object_position": null,
            "object_fit": null,
            "grid_auto_columns": null,
            "margin": null,
            "display": null,
            "left": null
          }
        },
        "ae32f08763044d16a64c143fe83c5ce5": {
          "model_module": "@jupyter-widgets/controls",
          "model_name": "ProgressStyleModel",
          "model_module_version": "1.5.0",
          "state": {
            "_view_name": "StyleView",
            "_model_name": "ProgressStyleModel",
            "description_width": "",
            "_view_module": "@jupyter-widgets/base",
            "_model_module_version": "1.5.0",
            "_view_count": null,
            "_view_module_version": "1.2.0",
            "bar_color": null,
            "_model_module": "@jupyter-widgets/controls"
          }
        },
        "38d7a0b480ed4428ae9f4e0bd4d055e2": {
          "model_module": "@jupyter-widgets/base",
          "model_name": "LayoutModel",
          "model_module_version": "1.2.0",
          "state": {
            "_view_name": "LayoutView",
            "grid_template_rows": null,
            "right": null,
            "justify_content": null,
            "_view_module": "@jupyter-widgets/base",
            "overflow": null,
            "_model_module_version": "1.2.0",
            "_view_count": null,
            "flex_flow": null,
            "width": null,
            "min_width": null,
            "border": null,
            "align_items": null,
            "bottom": null,
            "_model_module": "@jupyter-widgets/base",
            "top": null,
            "grid_column": null,
            "overflow_y": null,
            "overflow_x": null,
            "grid_auto_flow": null,
            "grid_area": null,
            "grid_template_columns": null,
            "flex": null,
            "_model_name": "LayoutModel",
            "justify_items": null,
            "grid_row": null,
            "max_height": null,
            "align_content": null,
            "visibility": null,
            "align_self": null,
            "height": null,
            "min_height": null,
            "padding": null,
            "grid_auto_rows": null,
            "grid_gap": null,
            "max_width": null,
            "order": null,
            "_view_module_version": "1.2.0",
            "grid_template_areas": null,
            "object_position": null,
            "object_fit": null,
            "grid_auto_columns": null,
            "margin": null,
            "display": null,
            "left": null
          }
        },
        "49b1d8f7d97844129c40e31f3b32f3ae": {
          "model_module": "@jupyter-widgets/controls",
          "model_name": "DescriptionStyleModel",
          "model_module_version": "1.5.0",
          "state": {
            "_view_name": "StyleView",
            "_model_name": "DescriptionStyleModel",
            "description_width": "",
            "_view_module": "@jupyter-widgets/base",
            "_model_module_version": "1.5.0",
            "_view_count": null,
            "_view_module_version": "1.2.0",
            "_model_module": "@jupyter-widgets/controls"
          }
        },
        "5aa2d1027a644909bde1ad4e357a0bc4": {
          "model_module": "@jupyter-widgets/base",
          "model_name": "LayoutModel",
          "model_module_version": "1.2.0",
          "state": {
            "_view_name": "LayoutView",
            "grid_template_rows": null,
            "right": null,
            "justify_content": null,
            "_view_module": "@jupyter-widgets/base",
            "overflow": null,
            "_model_module_version": "1.2.0",
            "_view_count": null,
            "flex_flow": null,
            "width": null,
            "min_width": null,
            "border": null,
            "align_items": null,
            "bottom": null,
            "_model_module": "@jupyter-widgets/base",
            "top": null,
            "grid_column": null,
            "overflow_y": null,
            "overflow_x": null,
            "grid_auto_flow": null,
            "grid_area": null,
            "grid_template_columns": null,
            "flex": null,
            "_model_name": "LayoutModel",
            "justify_items": null,
            "grid_row": null,
            "max_height": null,
            "align_content": null,
            "visibility": null,
            "align_self": null,
            "height": null,
            "min_height": null,
            "padding": null,
            "grid_auto_rows": null,
            "grid_gap": null,
            "max_width": null,
            "order": null,
            "_view_module_version": "1.2.0",
            "grid_template_areas": null,
            "object_position": null,
            "object_fit": null,
            "grid_auto_columns": null,
            "margin": null,
            "display": null,
            "left": null
          }
        },
        "8df4d6102406485aa78cd7ad9b05742a": {
          "model_module": "@jupyter-widgets/controls",
          "model_name": "HBoxModel",
          "model_module_version": "1.5.0",
          "state": {
            "_view_name": "HBoxView",
            "_dom_classes": [],
            "_model_name": "HBoxModel",
            "_view_module": "@jupyter-widgets/controls",
            "_model_module_version": "1.5.0",
            "_view_count": null,
            "_view_module_version": "1.5.0",
            "box_style": "",
            "layout": "IPY_MODEL_f8e5a855def044d29c2f61d3b656f200",
            "_model_module": "@jupyter-widgets/controls",
            "children": [
              "IPY_MODEL_eb8313a8d4704219afbc23224e601d9c",
              "IPY_MODEL_e9458d580b804d35a3b37a61659324b3",
              "IPY_MODEL_417756e6c8fa4327bae10ed5a9673b59"
            ]
          }
        },
        "f8e5a855def044d29c2f61d3b656f200": {
          "model_module": "@jupyter-widgets/base",
          "model_name": "LayoutModel",
          "model_module_version": "1.2.0",
          "state": {
            "_view_name": "LayoutView",
            "grid_template_rows": null,
            "right": null,
            "justify_content": null,
            "_view_module": "@jupyter-widgets/base",
            "overflow": null,
            "_model_module_version": "1.2.0",
            "_view_count": null,
            "flex_flow": null,
            "width": null,
            "min_width": null,
            "border": null,
            "align_items": null,
            "bottom": null,
            "_model_module": "@jupyter-widgets/base",
            "top": null,
            "grid_column": null,
            "overflow_y": null,
            "overflow_x": null,
            "grid_auto_flow": null,
            "grid_area": null,
            "grid_template_columns": null,
            "flex": null,
            "_model_name": "LayoutModel",
            "justify_items": null,
            "grid_row": null,
            "max_height": null,
            "align_content": null,
            "visibility": null,
            "align_self": null,
            "height": null,
            "min_height": null,
            "padding": null,
            "grid_auto_rows": null,
            "grid_gap": null,
            "max_width": null,
            "order": null,
            "_view_module_version": "1.2.0",
            "grid_template_areas": null,
            "object_position": null,
            "object_fit": null,
            "grid_auto_columns": null,
            "margin": null,
            "display": null,
            "left": null
          }
        },
        "eb8313a8d4704219afbc23224e601d9c": {
          "model_module": "@jupyter-widgets/controls",
          "model_name": "HTMLModel",
          "model_module_version": "1.5.0",
          "state": {
            "_view_name": "HTMLView",
            "style": "IPY_MODEL_6a3d3108d5d140e692f3c0fffbcff6d0",
            "_dom_classes": [],
            "description": "",
            "_model_name": "HTMLModel",
            "placeholder": "​",
            "_view_module": "@jupyter-widgets/controls",
            "_model_module_version": "1.5.0",
            "value": "Downloading: 100%",
            "_view_count": null,
            "_view_module_version": "1.5.0",
            "description_tooltip": null,
            "_model_module": "@jupyter-widgets/controls",
            "layout": "IPY_MODEL_12a903dc2634458e9e450b782f3afa6e"
          }
        },
        "e9458d580b804d35a3b37a61659324b3": {
          "model_module": "@jupyter-widgets/controls",
          "model_name": "FloatProgressModel",
          "model_module_version": "1.5.0",
          "state": {
            "_view_name": "ProgressView",
            "style": "IPY_MODEL_8521b254ce3c4f47afc69296bc654898",
            "_dom_classes": [],
            "description": "",
            "_model_name": "FloatProgressModel",
            "bar_style": "success",
            "max": 1389353,
            "_view_module": "@jupyter-widgets/controls",
            "_model_module_version": "1.5.0",
            "value": 1389353,
            "_view_count": null,
            "_view_module_version": "1.5.0",
            "orientation": "horizontal",
            "min": 0,
            "description_tooltip": null,
            "_model_module": "@jupyter-widgets/controls",
            "layout": "IPY_MODEL_3102efb1b5054ff1ace2a5af0e5f878e"
          }
        },
        "417756e6c8fa4327bae10ed5a9673b59": {
          "model_module": "@jupyter-widgets/controls",
          "model_name": "HTMLModel",
          "model_module_version": "1.5.0",
          "state": {
            "_view_name": "HTMLView",
            "style": "IPY_MODEL_a58e9e6e31e040079e5623a4550d2367",
            "_dom_classes": [],
            "description": "",
            "_model_name": "HTMLModel",
            "placeholder": "​",
            "_view_module": "@jupyter-widgets/controls",
            "_model_module_version": "1.5.0",
            "value": " 1.32M/1.32M [00:00&lt;00:00, 2.85MB/s]",
            "_view_count": null,
            "_view_module_version": "1.5.0",
            "description_tooltip": null,
            "_model_module": "@jupyter-widgets/controls",
            "layout": "IPY_MODEL_9132eada98684340ad4a23a8e0949681"
          }
        },
        "6a3d3108d5d140e692f3c0fffbcff6d0": {
          "model_module": "@jupyter-widgets/controls",
          "model_name": "DescriptionStyleModel",
          "model_module_version": "1.5.0",
          "state": {
            "_view_name": "StyleView",
            "_model_name": "DescriptionStyleModel",
            "description_width": "",
            "_view_module": "@jupyter-widgets/base",
            "_model_module_version": "1.5.0",
            "_view_count": null,
            "_view_module_version": "1.2.0",
            "_model_module": "@jupyter-widgets/controls"
          }
        },
        "12a903dc2634458e9e450b782f3afa6e": {
          "model_module": "@jupyter-widgets/base",
          "model_name": "LayoutModel",
          "model_module_version": "1.2.0",
          "state": {
            "_view_name": "LayoutView",
            "grid_template_rows": null,
            "right": null,
            "justify_content": null,
            "_view_module": "@jupyter-widgets/base",
            "overflow": null,
            "_model_module_version": "1.2.0",
            "_view_count": null,
            "flex_flow": null,
            "width": null,
            "min_width": null,
            "border": null,
            "align_items": null,
            "bottom": null,
            "_model_module": "@jupyter-widgets/base",
            "top": null,
            "grid_column": null,
            "overflow_y": null,
            "overflow_x": null,
            "grid_auto_flow": null,
            "grid_area": null,
            "grid_template_columns": null,
            "flex": null,
            "_model_name": "LayoutModel",
            "justify_items": null,
            "grid_row": null,
            "max_height": null,
            "align_content": null,
            "visibility": null,
            "align_self": null,
            "height": null,
            "min_height": null,
            "padding": null,
            "grid_auto_rows": null,
            "grid_gap": null,
            "max_width": null,
            "order": null,
            "_view_module_version": "1.2.0",
            "grid_template_areas": null,
            "object_position": null,
            "object_fit": null,
            "grid_auto_columns": null,
            "margin": null,
            "display": null,
            "left": null
          }
        },
        "8521b254ce3c4f47afc69296bc654898": {
          "model_module": "@jupyter-widgets/controls",
          "model_name": "ProgressStyleModel",
          "model_module_version": "1.5.0",
          "state": {
            "_view_name": "StyleView",
            "_model_name": "ProgressStyleModel",
            "description_width": "",
            "_view_module": "@jupyter-widgets/base",
            "_model_module_version": "1.5.0",
            "_view_count": null,
            "_view_module_version": "1.2.0",
            "bar_color": null,
            "_model_module": "@jupyter-widgets/controls"
          }
        },
        "3102efb1b5054ff1ace2a5af0e5f878e": {
          "model_module": "@jupyter-widgets/base",
          "model_name": "LayoutModel",
          "model_module_version": "1.2.0",
          "state": {
            "_view_name": "LayoutView",
            "grid_template_rows": null,
            "right": null,
            "justify_content": null,
            "_view_module": "@jupyter-widgets/base",
            "overflow": null,
            "_model_module_version": "1.2.0",
            "_view_count": null,
            "flex_flow": null,
            "width": null,
            "min_width": null,
            "border": null,
            "align_items": null,
            "bottom": null,
            "_model_module": "@jupyter-widgets/base",
            "top": null,
            "grid_column": null,
            "overflow_y": null,
            "overflow_x": null,
            "grid_auto_flow": null,
            "grid_area": null,
            "grid_template_columns": null,
            "flex": null,
            "_model_name": "LayoutModel",
            "justify_items": null,
            "grid_row": null,
            "max_height": null,
            "align_content": null,
            "visibility": null,
            "align_self": null,
            "height": null,
            "min_height": null,
            "padding": null,
            "grid_auto_rows": null,
            "grid_gap": null,
            "max_width": null,
            "order": null,
            "_view_module_version": "1.2.0",
            "grid_template_areas": null,
            "object_position": null,
            "object_fit": null,
            "grid_auto_columns": null,
            "margin": null,
            "display": null,
            "left": null
          }
        },
        "a58e9e6e31e040079e5623a4550d2367": {
          "model_module": "@jupyter-widgets/controls",
          "model_name": "DescriptionStyleModel",
          "model_module_version": "1.5.0",
          "state": {
            "_view_name": "StyleView",
            "_model_name": "DescriptionStyleModel",
            "description_width": "",
            "_view_module": "@jupyter-widgets/base",
            "_model_module_version": "1.5.0",
            "_view_count": null,
            "_view_module_version": "1.2.0",
            "_model_module": "@jupyter-widgets/controls"
          }
        },
        "9132eada98684340ad4a23a8e0949681": {
          "model_module": "@jupyter-widgets/base",
          "model_name": "LayoutModel",
          "model_module_version": "1.2.0",
          "state": {
            "_view_name": "LayoutView",
            "grid_template_rows": null,
            "right": null,
            "justify_content": null,
            "_view_module": "@jupyter-widgets/base",
            "overflow": null,
            "_model_module_version": "1.2.0",
            "_view_count": null,
            "flex_flow": null,
            "width": null,
            "min_width": null,
            "border": null,
            "align_items": null,
            "bottom": null,
            "_model_module": "@jupyter-widgets/base",
            "top": null,
            "grid_column": null,
            "overflow_y": null,
            "overflow_x": null,
            "grid_auto_flow": null,
            "grid_area": null,
            "grid_template_columns": null,
            "flex": null,
            "_model_name": "LayoutModel",
            "justify_items": null,
            "grid_row": null,
            "max_height": null,
            "align_content": null,
            "visibility": null,
            "align_self": null,
            "height": null,
            "min_height": null,
            "padding": null,
            "grid_auto_rows": null,
            "grid_gap": null,
            "max_width": null,
            "order": null,
            "_view_module_version": "1.2.0",
            "grid_template_areas": null,
            "object_position": null,
            "object_fit": null,
            "grid_auto_columns": null,
            "margin": null,
            "display": null,
            "left": null
          }
        }
      }
    }
  },
  "nbformat": 4,
  "nbformat_minor": 5
}